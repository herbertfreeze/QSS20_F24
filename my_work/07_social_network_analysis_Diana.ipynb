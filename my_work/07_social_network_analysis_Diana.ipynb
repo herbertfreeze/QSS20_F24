{
 "cells": [
  {
   "cell_type": "code",
   "execution_count": 1,
   "id": "f9dccb42",
   "metadata": {},
   "outputs": [
    {
     "name": "stderr",
     "output_type": "stream",
     "text": [
      "[nltk_data] Downloading package vader_lexicon to\n",
      "[nltk_data]     /Users/zixuanwang/nltk_data...\n",
      "[nltk_data]   Package vader_lexicon is already up-to-date!\n"
     ]
    }
   ],
   "source": [
    "import networkx as nx\n",
    "import pandas as pd\n",
    "import matplotlib.pyplot as plt\n",
    "import urllib, json\n",
    "import numpy as np\n",
    "\n",
    "import nltk\n",
    "nltk.download('vader_lexicon')\n",
    "from nltk.sentiment.vader import SentimentIntensityAnalyzer\n",
    "\n",
    "from IPython.core.interactiveshell import InteractiveShell\n",
    "InteractiveShell.ast_node_interactivity = \"all\""
   ]
  },
  {
   "cell_type": "markdown",
   "id": "9230028c",
   "metadata": {},
   "source": [
    "# Introduction to Networkx"
   ]
  },
  {
   "cell_type": "markdown",
   "id": "9aa993eb",
   "metadata": {},
   "source": [
    "The simple methods '.nodes()' and '.edges()' print the key components of the network."
   ]
  },
  {
   "cell_type": "code",
   "execution_count": 2,
   "id": "f1a0982f",
   "metadata": {},
   "outputs": [
    {
     "data": {
      "text/plain": [
       "NodeView((0, 1, 2, 3, 4))"
      ]
     },
     "execution_count": 2,
     "metadata": {},
     "output_type": "execute_result"
    },
    {
     "data": {
      "text/plain": [
       "EdgeView([(0, 1), (0, 2), (1, 3), (2, 3), (2, 4), (3, 4)])"
      ]
     },
     "execution_count": 2,
     "metadata": {},
     "output_type": "execute_result"
    }
   ],
   "source": [
    "HG = nx.house_graph()\n",
    "HG.nodes()\n",
    "HG.edges()"
   ]
  },
  {
   "cell_type": "markdown",
   "id": "fe9a84fd",
   "metadata": {},
   "source": [
    "## Drawing the network"
   ]
  },
  {
   "cell_type": "markdown",
   "id": "3dffdb17",
   "metadata": {},
   "source": [
    "To draw the network, we need to give it a dictionary that maps each node to an X-Y coordinate. I give one below."
   ]
  },
  {
   "cell_type": "code",
   "execution_count": 3,
   "id": "198ba806",
   "metadata": {},
   "outputs": [
    {
     "data": {
      "text/plain": [
       "<matplotlib.collections.PathCollection at 0x139abd180>"
      ]
     },
     "execution_count": 3,
     "metadata": {},
     "output_type": "execute_result"
    },
    {
     "data": {
      "text/plain": [
       "<matplotlib.collections.PathCollection at 0x139b101c0>"
      ]
     },
     "execution_count": 3,
     "metadata": {},
     "output_type": "execute_result"
    },
    {
     "data": {
      "text/plain": [
       "<matplotlib.collections.LineCollection at 0x139b10670>"
      ]
     },
     "execution_count": 3,
     "metadata": {},
     "output_type": "execute_result"
    },
    {
     "data": {
      "text/plain": [
       "{0: Text(0, 0, '0'),\n",
       " 1: Text(1, 0, '1'),\n",
       " 2: Text(0, 1, '2'),\n",
       " 3: Text(1, 1, '3'),\n",
       " 4: Text(0.5, 2.0, '4')}"
      ]
     },
     "execution_count": 3,
     "metadata": {},
     "output_type": "execute_result"
    },
    {
     "data": {
      "text/plain": [
       "(-0.10500000000000001, 1.105, -0.21000000000000002, 2.21)"
      ]
     },
     "execution_count": 3,
     "metadata": {},
     "output_type": "execute_result"
    },
    {
     "data": {
      "image/png": "[encoded data removed]",
      "text/plain": [
       "<Figure size 640x480 with 1 Axes>"
      ]
     },
     "metadata": {},
     "output_type": "display_data"
    }
   ],
   "source": [
    "pos = {0: (0, 0), 1: (1, 0), 2: (0, 1), 3: (1, 1), 4: (0.5, 2.0)}\n",
    "\n",
    "nx.draw_networkx_nodes(\n",
    "    HG, pos, node_size=3000, nodelist=[0, 1, 2, 3], \n",
    "    node_color=\"tab:blue\"\n",
    ")\n",
    "\n",
    "nx.draw_networkx_nodes(HG, pos, node_size=2000, \n",
    "                       nodelist=[4], node_color=\"tab:orange\")\n",
    "\n",
    "nx.draw_networkx_edges(HG, pos, alpha=1, width=6)\n",
    "nx.draw_networkx_labels(HG, pos, font_size=20)\n",
    "plt.tight_layout()\n",
    "plt.axis(\"off\")"
   ]
  },
  {
   "cell_type": "code",
   "execution_count": 4,
   "id": "445ad55f",
   "metadata": {},
   "outputs": [],
   "source": [
    "ADJ = nx.to_pandas_adjacency(HG)\n",
    "ADJ = ADJ.astype(bool)"
   ]
  },
  {
   "cell_type": "code",
   "execution_count": 5,
   "id": "2b853dee",
   "metadata": {},
   "outputs": [
    {
     "data": {
      "text/plain": [
       "2"
      ]
     },
     "execution_count": 5,
     "metadata": {},
     "output_type": "execute_result"
    }
   ],
   "source": [
    "deg_0 = nx.degree(HG, 0) \n",
    "deg_0"
   ]
  },
  {
   "cell_type": "markdown",
   "id": "6b3391fe",
   "metadata": {},
   "source": [
    "# Activity\n",
    "We will learn how to process a dataframe into a useable edgelist to feed into a graph."
   ]
  },
  {
   "cell_type": "code",
   "execution_count": 6,
   "id": "b115acf7",
   "metadata": {},
   "outputs": [
    {
     "data": {
      "text/html": [
       "<div>\n",
       "<style scoped>\n",
       "    .dataframe tbody tr th:only-of-type {\n",
       "        vertical-align: middle;\n",
       "    }\n",
       "\n",
       "    .dataframe tbody tr th {\n",
       "        vertical-align: top;\n",
       "    }\n",
       "\n",
       "    .dataframe thead th {\n",
       "        text-align: right;\n",
       "    }\n",
       "</style>\n",
       "<table border=\"1\" class=\"dataframe\">\n",
       "  <thead>\n",
       "    <tr style=\"text-align: right;\">\n",
       "      <th></th>\n",
       "      <th>tweetid</th>\n",
       "      <th>userid</th>\n",
       "      <th>date</th>\n",
       "      <th>lang</th>\n",
       "      <th>text</th>\n",
       "      <th>tweet_type</th>\n",
       "      <th>friends_count</th>\n",
       "      <th>followers_count</th>\n",
       "      <th>statuses_count</th>\n",
       "      <th>mentionid</th>\n",
       "      <th>rt_userid</th>\n",
       "      <th>rt_tweetid</th>\n",
       "      <th>qtd_userid</th>\n",
       "      <th>qtd_text</th>\n",
       "      <th>qtd_tweetid</th>\n",
       "    </tr>\n",
       "  </thead>\n",
       "  <tbody>\n",
       "    <tr>\n",
       "      <th>12221</th>\n",
       "      <td>1221208309728006145</td>\n",
       "      <td>418859255</td>\n",
       "      <td>Sat Jan 25 23:08:44 +0000 2020</td>\n",
       "      <td>en</td>\n",
       "      <td>RT @DepSecHargan: Every year in the US, 34,800...</td>\n",
       "      <td>retweeted_tweet_without_comment</td>\n",
       "      <td>638</td>\n",
       "      <td>1837</td>\n",
       "      <td>17778</td>\n",
       "      <td>[920035992073064450]</td>\n",
       "      <td>9.200360e+17</td>\n",
       "      <td>1.221208e+18</td>\n",
       "      <td>NaN</td>\n",
       "      <td>NaN</td>\n",
       "      <td>NaN</td>\n",
       "    </tr>\n",
       "    <tr>\n",
       "      <th>28315</th>\n",
       "      <td>1221213073652043776</td>\n",
       "      <td>14499829</td>\n",
       "      <td>Sat Jan 25 23:27:40 +0000 2020</td>\n",
       "      <td>en</td>\n",
       "      <td>WHO’s risk assessment of the new #coronavirus ...</td>\n",
       "      <td>original</td>\n",
       "      <td>1743</td>\n",
       "      <td>5196950</td>\n",
       "      <td>46697</td>\n",
       "      <td>[]</td>\n",
       "      <td>NaN</td>\n",
       "      <td>NaN</td>\n",
       "      <td>NaN</td>\n",
       "      <td>NaN</td>\n",
       "      <td>NaN</td>\n",
       "    </tr>\n",
       "    <tr>\n",
       "      <th>6092</th>\n",
       "      <td>1222281847163576321</td>\n",
       "      <td>1135486501</td>\n",
       "      <td>Tue Jan 28 22:14:35 +0000 2020</td>\n",
       "      <td>en</td>\n",
       "      <td>#FYI: 50 million are under travel restrictions...</td>\n",
       "      <td>original</td>\n",
       "      <td>950</td>\n",
       "      <td>27025</td>\n",
       "      <td>11145</td>\n",
       "      <td>[9624742]</td>\n",
       "      <td>NaN</td>\n",
       "      <td>NaN</td>\n",
       "      <td>NaN</td>\n",
       "      <td>NaN</td>\n",
       "      <td>NaN</td>\n",
       "    </tr>\n",
       "    <tr>\n",
       "      <th>13618</th>\n",
       "      <td>1222289121118511104</td>\n",
       "      <td>117793973</td>\n",
       "      <td>Tue Jan 28 22:43:30 +0000 2020</td>\n",
       "      <td>en</td>\n",
       "      <td>What should I do if I have traveled to China a...</td>\n",
       "      <td>original</td>\n",
       "      <td>1236</td>\n",
       "      <td>5860</td>\n",
       "      <td>4578</td>\n",
       "      <td>[]</td>\n",
       "      <td>NaN</td>\n",
       "      <td>NaN</td>\n",
       "      <td>NaN</td>\n",
       "      <td>NaN</td>\n",
       "      <td>NaN</td>\n",
       "    </tr>\n",
       "    <tr>\n",
       "      <th>19205</th>\n",
       "      <td>1222285279047843843</td>\n",
       "      <td>1465196934</td>\n",
       "      <td>Tue Jan 28 22:28:14 +0000 2020</td>\n",
       "      <td>en</td>\n",
       "      <td>Disease outbreaks can result in misinformation...</td>\n",
       "      <td>original</td>\n",
       "      <td>1946</td>\n",
       "      <td>3581</td>\n",
       "      <td>4636</td>\n",
       "      <td>[]</td>\n",
       "      <td>NaN</td>\n",
       "      <td>NaN</td>\n",
       "      <td>NaN</td>\n",
       "      <td>NaN</td>\n",
       "      <td>NaN</td>\n",
       "    </tr>\n",
       "  </tbody>\n",
       "</table>\n",
       "</div>"
      ],
      "text/plain": [
       "                   tweetid      userid                            date lang  \\\n",
       "12221  1221208309728006145   418859255  Sat Jan 25 23:08:44 +0000 2020   en   \n",
       "28315  1221213073652043776    14499829  Sat Jan 25 23:27:40 +0000 2020   en   \n",
       "6092   1222281847163576321  1135486501  Tue Jan 28 22:14:35 +0000 2020   en   \n",
       "13618  1222289121118511104   117793973  Tue Jan 28 22:43:30 +0000 2020   en   \n",
       "19205  1222285279047843843  1465196934  Tue Jan 28 22:28:14 +0000 2020   en   \n",
       "\n",
       "                                                    text  \\\n",
       "12221  RT @DepSecHargan: Every year in the US, 34,800...   \n",
       "28315  WHO’s risk assessment of the new #coronavirus ...   \n",
       "6092   #FYI: 50 million are under travel restrictions...   \n",
       "13618  What should I do if I have traveled to China a...   \n",
       "19205  Disease outbreaks can result in misinformation...   \n",
       "\n",
       "                            tweet_type  friends_count  followers_count  \\\n",
       "12221  retweeted_tweet_without_comment            638             1837   \n",
       "28315                         original           1743          5196950   \n",
       "6092                          original            950            27025   \n",
       "13618                         original           1236             5860   \n",
       "19205                         original           1946             3581   \n",
       "\n",
       "       statuses_count             mentionid     rt_userid    rt_tweetid  \\\n",
       "12221           17778  [920035992073064450]  9.200360e+17  1.221208e+18   \n",
       "28315           46697                    []           NaN           NaN   \n",
       "6092            11145             [9624742]           NaN           NaN   \n",
       "13618            4578                    []           NaN           NaN   \n",
       "19205            4636                    []           NaN           NaN   \n",
       "\n",
       "       qtd_userid qtd_text  qtd_tweetid  \n",
       "12221         NaN      NaN          NaN  \n",
       "28315         NaN      NaN          NaN  \n",
       "6092          NaN      NaN          NaN  \n",
       "13618         NaN      NaN          NaN  \n",
       "19205         NaN      NaN          NaN  "
      ]
     },
     "execution_count": 6,
     "metadata": {},
     "output_type": "execute_result"
    },
    {
     "data": {
      "text/plain": [
       "(59887, 15)"
      ]
     },
     "execution_count": 6,
     "metadata": {},
     "output_type": "execute_result"
    }
   ],
   "source": [
    "df = pd.read_pickle(\"../public_data/Raw_Tweets.pkl\") # Load your tweets\n",
    "df.head()\n",
    "df.shape"
   ]
  },
  {
   "cell_type": "markdown",
   "id": "b2c00d31",
   "metadata": {},
   "source": [
    "### 1.1 Subset the dataframe to network data"
   ]
  },
  {
   "cell_type": "markdown",
   "id": "9ae1063e",
   "metadata": {},
   "source": [
    "- First, using .value_counts(), identify how many types of tweets there are, using the tweet_type column. \n",
    "- Then, filter out all tweets that are not \"retweeted_tweet_without_comment\" and \"quoted_tweet.\""
   ]
  },
  {
   "cell_type": "code",
   "execution_count": 7,
   "id": "93cfd44d",
   "metadata": {},
   "outputs": [
    {
     "data": {
      "text/plain": [
       "tweet_type\n",
       "original                           26275\n",
       "retweeted_tweet_without_comment    19923\n",
       "reply                               7292\n",
       "quoted_tweet                        6397\n",
       "Name: count, dtype: int64"
      ]
     },
     "execution_count": 7,
     "metadata": {},
     "output_type": "execute_result"
    }
   ],
   "source": [
    "# your code here\n",
    "df.tweet_type.value_counts()"
   ]
  },
  {
   "cell_type": "code",
   "execution_count": 8,
   "id": "1fd37826",
   "metadata": {},
   "outputs": [
    {
     "data": {
      "text/html": [
       "<div>\n",
       "<style scoped>\n",
       "    .dataframe tbody tr th:only-of-type {\n",
       "        vertical-align: middle;\n",
       "    }\n",
       "\n",
       "    .dataframe tbody tr th {\n",
       "        vertical-align: top;\n",
       "    }\n",
       "\n",
       "    .dataframe thead th {\n",
       "        text-align: right;\n",
       "    }\n",
       "</style>\n",
       "<table border=\"1\" class=\"dataframe\">\n",
       "  <thead>\n",
       "    <tr style=\"text-align: right;\">\n",
       "      <th></th>\n",
       "      <th>tweetid</th>\n",
       "      <th>userid</th>\n",
       "      <th>date</th>\n",
       "      <th>lang</th>\n",
       "      <th>text</th>\n",
       "      <th>tweet_type</th>\n",
       "      <th>friends_count</th>\n",
       "      <th>followers_count</th>\n",
       "      <th>statuses_count</th>\n",
       "      <th>mentionid</th>\n",
       "      <th>rt_userid</th>\n",
       "      <th>rt_tweetid</th>\n",
       "      <th>qtd_userid</th>\n",
       "      <th>qtd_text</th>\n",
       "      <th>qtd_tweetid</th>\n",
       "    </tr>\n",
       "  </thead>\n",
       "  <tbody>\n",
       "  </tbody>\n",
       "</table>\n",
       "</div>"
      ],
      "text/plain": [
       "Empty DataFrame\n",
       "Columns: [tweetid, userid, date, lang, text, tweet_type, friends_count, followers_count, statuses_count, mentionid, rt_userid, rt_tweetid, qtd_userid, qtd_text, qtd_tweetid]\n",
       "Index: []"
      ]
     },
     "execution_count": 8,
     "metadata": {},
     "output_type": "execute_result"
    }
   ],
   "source": [
    "## Run this. Why is it empty?\n",
    "df[(df.tweet_type == \"retweeted_tweet_without_comment\") & (df.tweet_type == \"quoted_tweet\")]"
   ]
  },
  {
   "cell_type": "code",
   "execution_count": 9,
   "id": "28c3a07e-1b39-4963-bcbd-9421b49604d1",
   "metadata": {},
   "outputs": [
    {
     "data": {
      "text/plain": [
       "tweet_type\n",
       "retweeted_tweet_without_comment    19923\n",
       "quoted_tweet                        6397\n",
       "Name: count, dtype: int64"
      ]
     },
     "execution_count": 9,
     "metadata": {},
     "output_type": "execute_result"
    }
   ],
   "source": [
    "df_filtered = df[df.tweet_type.isin([\"retweeted_tweet_without_comment\", \"quoted_tweet\"])]\n",
    "df_filtered.tweet_type.value_counts()"
   ]
  },
  {
   "cell_type": "markdown",
   "id": "367b250f",
   "metadata": {},
   "source": [
    "### 1.2 Create an edgelist"
   ]
  },
  {
   "cell_type": "markdown",
   "id": "7dc711c3",
   "metadata": {},
   "source": [
    "The \"userid\" column shows the person that did the retweeting. Create a new column called \"userid2\" that denotes the user retweeted. You will need to use the columns \"rt_userid\" and \"qtd_userid.\""
   ]
  },
  {
   "cell_type": "code",
   "execution_count": 10,
   "id": "88b11d33",
   "metadata": {},
   "outputs": [
    {
     "name": "stderr",
     "output_type": "stream",
     "text": [
      "/var/folders/w7/k4k3jfz96q7_tpr10dw1cs580000gn/T/ipykernel_60744/4292307092.py:1: SettingWithCopyWarning: \n",
      "A value is trying to be set on a copy of a slice from a DataFrame.\n",
      "Try using .loc[row_indexer,col_indexer] = value instead\n",
      "\n",
      "See the caveats in the documentation: https://pandas.pydata.org/pandas-docs/stable/user_guide/indexing.html#returning-a-view-versus-a-copy\n",
      "  df_filtered[\"userid2\"] = np.where(df_filtered.qtd_userid.isnull(), df_filtered.rt_userid, df_filtered.qtd_userid)\n"
     ]
    },
    {
     "data": {
      "text/html": [
       "<div>\n",
       "<style scoped>\n",
       "    .dataframe tbody tr th:only-of-type {\n",
       "        vertical-align: middle;\n",
       "    }\n",
       "\n",
       "    .dataframe tbody tr th {\n",
       "        vertical-align: top;\n",
       "    }\n",
       "\n",
       "    .dataframe thead th {\n",
       "        text-align: right;\n",
       "    }\n",
       "</style>\n",
       "<table border=\"1\" class=\"dataframe\">\n",
       "  <thead>\n",
       "    <tr style=\"text-align: right;\">\n",
       "      <th></th>\n",
       "      <th>tweetid</th>\n",
       "      <th>userid</th>\n",
       "      <th>date</th>\n",
       "      <th>lang</th>\n",
       "      <th>text</th>\n",
       "      <th>tweet_type</th>\n",
       "      <th>friends_count</th>\n",
       "      <th>followers_count</th>\n",
       "      <th>statuses_count</th>\n",
       "      <th>mentionid</th>\n",
       "      <th>rt_userid</th>\n",
       "      <th>rt_tweetid</th>\n",
       "      <th>qtd_userid</th>\n",
       "      <th>qtd_text</th>\n",
       "      <th>qtd_tweetid</th>\n",
       "      <th>userid2</th>\n",
       "    </tr>\n",
       "  </thead>\n",
       "  <tbody>\n",
       "    <tr>\n",
       "      <th>12221</th>\n",
       "      <td>1221208309728006145</td>\n",
       "      <td>418859255</td>\n",
       "      <td>Sat Jan 25 23:08:44 +0000 2020</td>\n",
       "      <td>en</td>\n",
       "      <td>RT @DepSecHargan: Every year in the US, 34,800...</td>\n",
       "      <td>retweeted_tweet_without_comment</td>\n",
       "      <td>638</td>\n",
       "      <td>1837</td>\n",
       "      <td>17778</td>\n",
       "      <td>[920035992073064450]</td>\n",
       "      <td>9.200360e+17</td>\n",
       "      <td>1.221208e+18</td>\n",
       "      <td>NaN</td>\n",
       "      <td>NaN</td>\n",
       "      <td>NaN</td>\n",
       "      <td>9.200360e+17</td>\n",
       "    </tr>\n",
       "    <tr>\n",
       "      <th>25575</th>\n",
       "      <td>1222280171501256706</td>\n",
       "      <td>20467163</td>\n",
       "      <td>Tue Jan 28 22:07:56 +0000 2020</td>\n",
       "      <td>en</td>\n",
       "      <td>RT @RCCallihan: The declaration of a public he...</td>\n",
       "      <td>retweeted_tweet_without_comment</td>\n",
       "      <td>10261</td>\n",
       "      <td>30106</td>\n",
       "      <td>2762</td>\n",
       "      <td>[1697808410, 146569971]</td>\n",
       "      <td>1.697808e+09</td>\n",
       "      <td>1.222247e+18</td>\n",
       "      <td>NaN</td>\n",
       "      <td>NaN</td>\n",
       "      <td>NaN</td>\n",
       "      <td>1.697808e+09</td>\n",
       "    </tr>\n",
       "    <tr>\n",
       "      <th>28489</th>\n",
       "      <td>1222283902724820995</td>\n",
       "      <td>426033838</td>\n",
       "      <td>Tue Jan 28 22:22:46 +0000 2020</td>\n",
       "      <td>en</td>\n",
       "      <td>RT @DepSecHargan: Start the #NewYear off right...</td>\n",
       "      <td>retweeted_tweet_without_comment</td>\n",
       "      <td>625</td>\n",
       "      <td>1823</td>\n",
       "      <td>22314</td>\n",
       "      <td>[920035992073064450, 146569971]</td>\n",
       "      <td>9.200360e+17</td>\n",
       "      <td>1.222239e+18</td>\n",
       "      <td>NaN</td>\n",
       "      <td>NaN</td>\n",
       "      <td>NaN</td>\n",
       "      <td>9.200360e+17</td>\n",
       "    </tr>\n",
       "    <tr>\n",
       "      <th>28496</th>\n",
       "      <td>1222283757119590405</td>\n",
       "      <td>426033838</td>\n",
       "      <td>Tue Jan 28 22:22:11 +0000 2020</td>\n",
       "      <td>en</td>\n",
       "      <td>RT @CDCFlu: Elevated #flu activity is expected...</td>\n",
       "      <td>retweeted_tweet_without_comment</td>\n",
       "      <td>625</td>\n",
       "      <td>1823</td>\n",
       "      <td>22314</td>\n",
       "      <td>[16616061]</td>\n",
       "      <td>1.661606e+07</td>\n",
       "      <td>1.222194e+18</td>\n",
       "      <td>NaN</td>\n",
       "      <td>NaN</td>\n",
       "      <td>NaN</td>\n",
       "      <td>1.661606e+07</td>\n",
       "    </tr>\n",
       "    <tr>\n",
       "      <th>12992</th>\n",
       "      <td>1220696703667326976</td>\n",
       "      <td>426033838</td>\n",
       "      <td>Fri Jan 24 13:15:48 +0000 2020</td>\n",
       "      <td>en</td>\n",
       "      <td>RT @CDCemergency: Is it a cold or flu? What’s ...</td>\n",
       "      <td>retweeted_tweet_without_comment</td>\n",
       "      <td>625</td>\n",
       "      <td>1822</td>\n",
       "      <td>22325</td>\n",
       "      <td>[19658936]</td>\n",
       "      <td>1.965894e+07</td>\n",
       "      <td>1.220488e+18</td>\n",
       "      <td>NaN</td>\n",
       "      <td>NaN</td>\n",
       "      <td>NaN</td>\n",
       "      <td>1.965894e+07</td>\n",
       "    </tr>\n",
       "  </tbody>\n",
       "</table>\n",
       "</div>"
      ],
      "text/plain": [
       "                   tweetid     userid                            date lang  \\\n",
       "12221  1221208309728006145  418859255  Sat Jan 25 23:08:44 +0000 2020   en   \n",
       "25575  1222280171501256706   20467163  Tue Jan 28 22:07:56 +0000 2020   en   \n",
       "28489  1222283902724820995  426033838  Tue Jan 28 22:22:46 +0000 2020   en   \n",
       "28496  1222283757119590405  426033838  Tue Jan 28 22:22:11 +0000 2020   en   \n",
       "12992  1220696703667326976  426033838  Fri Jan 24 13:15:48 +0000 2020   en   \n",
       "\n",
       "                                                    text  \\\n",
       "12221  RT @DepSecHargan: Every year in the US, 34,800...   \n",
       "25575  RT @RCCallihan: The declaration of a public he...   \n",
       "28489  RT @DepSecHargan: Start the #NewYear off right...   \n",
       "28496  RT @CDCFlu: Elevated #flu activity is expected...   \n",
       "12992  RT @CDCemergency: Is it a cold or flu? What’s ...   \n",
       "\n",
       "                            tweet_type  friends_count  followers_count  \\\n",
       "12221  retweeted_tweet_without_comment            638             1837   \n",
       "25575  retweeted_tweet_without_comment          10261            30106   \n",
       "28489  retweeted_tweet_without_comment            625             1823   \n",
       "28496  retweeted_tweet_without_comment            625             1823   \n",
       "12992  retweeted_tweet_without_comment            625             1822   \n",
       "\n",
       "       statuses_count                        mentionid     rt_userid  \\\n",
       "12221           17778             [920035992073064450]  9.200360e+17   \n",
       "25575            2762          [1697808410, 146569971]  1.697808e+09   \n",
       "28489           22314  [920035992073064450, 146569971]  9.200360e+17   \n",
       "28496           22314                       [16616061]  1.661606e+07   \n",
       "12992           22325                       [19658936]  1.965894e+07   \n",
       "\n",
       "         rt_tweetid  qtd_userid qtd_text  qtd_tweetid       userid2  \n",
       "12221  1.221208e+18         NaN      NaN          NaN  9.200360e+17  \n",
       "25575  1.222247e+18         NaN      NaN          NaN  1.697808e+09  \n",
       "28489  1.222239e+18         NaN      NaN          NaN  9.200360e+17  \n",
       "28496  1.222194e+18         NaN      NaN          NaN  1.661606e+07  \n",
       "12992  1.220488e+18         NaN      NaN          NaN  1.965894e+07  "
      ]
     },
     "execution_count": 10,
     "metadata": {},
     "output_type": "execute_result"
    }
   ],
   "source": [
    "df_filtered[\"userid2\"] = np.where(df_filtered.qtd_userid.isnull(), df_filtered.rt_userid, df_filtered.qtd_userid)\n",
    "df_filtered.head()"
   ]
  },
  {
   "cell_type": "markdown",
   "id": "e4e3694e",
   "metadata": {},
   "source": [
    "### 1.3 Sentiment scoring. \n",
    "- Now, use SentimentIntensityAnalyzer to label the sentiment of the text, in a new column called \"weight.\" \n",
    "- The subset the dataframe to only have \"userid\", \"user2\", and \"weight\". \n",
    "- Rename \"userid\" to \"user1\", then group by \"user1\" and \"user2\", to find the mean sentiment (mean weight).\n",
    "\n",
    "You now have your first edgelist!"
   ]
  },
  {
   "cell_type": "code",
   "execution_count": 11,
   "id": "4d57e73c",
   "metadata": {},
   "outputs": [],
   "source": [
    "sent_obj = SentimentIntensityAnalyzer()"
   ]
  },
  {
   "cell_type": "code",
   "execution_count": 12,
   "id": "e5fb5a2c-92f7-4fda-84f3-6e86f8baec52",
   "metadata": {},
   "outputs": [],
   "source": [
    "df_filtered = df_filtered[~df_filtered.text.isna()]"
   ]
  },
  {
   "cell_type": "code",
   "execution_count": 13,
   "id": "1b2eb7d6",
   "metadata": {},
   "outputs": [],
   "source": [
    "df_filtered.userid2 = df_filtered.userid2.astype(np.int64)\n",
    "df_filtered[\"weight\"] = df_filtered[\"text\"].apply(lambda x: sent_obj.polarity_scores(x)[\"compound\"])"
   ]
  },
  {
   "cell_type": "code",
   "execution_count": 14,
   "id": "6e8c2018-cd64-49f6-a863-1468b8ef36b4",
   "metadata": {},
   "outputs": [],
   "source": [
    "df_subset = df_filtered[[\"userid\", \"userid2\", \"weight\"]]\n",
    "df_subset = df_subset.rename(columns = {\"userid\":\"user1\"})\n",
    "df_subset = df_subset.rename(columns = {\"userid2\":\"user2\"})"
   ]
  },
  {
   "cell_type": "code",
   "execution_count": 15,
   "id": "a9c38112-f444-406b-92d8-14065dfeb2b6",
   "metadata": {},
   "outputs": [
    {
     "data": {
      "text/plain": [
       "user1                user2              \n",
       "5558312              5558312                0.7263\n",
       "                     20093858               0.6705\n",
       "                     20562924               0.5106\n",
       "                     28743031               0.5106\n",
       "                     50907797               0.8831\n",
       "                                             ...  \n",
       "815952318487298048   1008376462506971136    0.4404\n",
       "                     1080865917377097728   -0.4019\n",
       "1075205691621720064  3382591954             0.0000\n",
       "                     1075205691621720064    0.7717\n",
       "                     1083125649609506816    0.0000\n",
       "Name: weight, Length: 9370, dtype: float64"
      ]
     },
     "execution_count": 15,
     "metadata": {},
     "output_type": "execute_result"
    }
   ],
   "source": [
    "df_subset.groupby([\"user1\", \"user2\"])[\"weight\"].mean()"
   ]
  },
  {
   "cell_type": "markdown",
   "id": "9f7c38d7",
   "metadata": {},
   "source": [
    "# Netwulf Visualization\n",
    "#### If you don't have the module, pip install netwulf\n",
    "#### https://netwulf.readthedocs.io/en/latest/about.html"
   ]
  },
  {
   "cell_type": "code",
   "execution_count": 16,
   "id": "2d0a6db2",
   "metadata": {},
   "outputs": [
    {
     "data": {
      "text/html": [
       "<div>\n",
       "<style scoped>\n",
       "    .dataframe tbody tr th:only-of-type {\n",
       "        vertical-align: middle;\n",
       "    }\n",
       "\n",
       "    .dataframe tbody tr th {\n",
       "        vertical-align: top;\n",
       "    }\n",
       "\n",
       "    .dataframe thead th {\n",
       "        text-align: right;\n",
       "    }\n",
       "</style>\n",
       "<table border=\"1\" class=\"dataframe\">\n",
       "  <thead>\n",
       "    <tr style=\"text-align: right;\">\n",
       "      <th></th>\n",
       "      <th>user1</th>\n",
       "      <th>user2</th>\n",
       "      <th>text</th>\n",
       "      <th>vaderSent</th>\n",
       "    </tr>\n",
       "  </thead>\n",
       "  <tbody>\n",
       "    <tr>\n",
       "      <th>26</th>\n",
       "      <td>426033838</td>\n",
       "      <td>146569971</td>\n",
       "      <td>RT @CDCgov: The first human infection with new...</td>\n",
       "      <td>0.0000</td>\n",
       "    </tr>\n",
       "    <tr>\n",
       "      <th>150</th>\n",
       "      <td>418859255</td>\n",
       "      <td>146569971</td>\n",
       "      <td>RT @CDCgov: After being diagnosed at age 41, C...</td>\n",
       "      <td>0.4939</td>\n",
       "    </tr>\n",
       "    <tr>\n",
       "      <th>146</th>\n",
       "      <td>418859255</td>\n",
       "      <td>146569971</td>\n",
       "      <td>RT @CDCgov: New CDC study: transgender women d...</td>\n",
       "      <td>0.0000</td>\n",
       "    </tr>\n",
       "    <tr>\n",
       "      <th>140</th>\n",
       "      <td>418859255</td>\n",
       "      <td>146569971</td>\n",
       "      <td>RT @CDCgov: While limited person-to-person spr...</td>\n",
       "      <td>-0.2263</td>\n",
       "    </tr>\n",
       "    <tr>\n",
       "      <th>134</th>\n",
       "      <td>418859255</td>\n",
       "      <td>146569971</td>\n",
       "      <td>RT @CDCgov: CDC has been proactively preparing...</td>\n",
       "      <td>0.0000</td>\n",
       "    </tr>\n",
       "    <tr>\n",
       "      <th>...</th>\n",
       "      <td>...</td>\n",
       "      <td>...</td>\n",
       "      <td>...</td>\n",
       "      <td>...</td>\n",
       "    </tr>\n",
       "    <tr>\n",
       "      <th>434</th>\n",
       "      <td>78445977</td>\n",
       "      <td>78445977</td>\n",
       "      <td>Virginians, you have one hour left to vote in ...</td>\n",
       "      <td>0.0000</td>\n",
       "    </tr>\n",
       "    <tr>\n",
       "      <th>14339</th>\n",
       "      <td>35239459</td>\n",
       "      <td>14499829</td>\n",
       "      <td>RT @WHO: This #Halloween, let's spook #COVID19...</td>\n",
       "      <td>0.4574</td>\n",
       "    </tr>\n",
       "    <tr>\n",
       "      <th>51918</th>\n",
       "      <td>2953974395</td>\n",
       "      <td>5558312</td>\n",
       "      <td>During #COVID19, I have been in continuous com...</td>\n",
       "      <td>0.6369</td>\n",
       "    </tr>\n",
       "    <tr>\n",
       "      <th>51918</th>\n",
       "      <td>2953974395</td>\n",
       "      <td>1209417007</td>\n",
       "      <td>During #COVID19, I have been in continuous com...</td>\n",
       "      <td>0.6369</td>\n",
       "    </tr>\n",
       "    <tr>\n",
       "      <th>125860</th>\n",
       "      <td>18023868</td>\n",
       "      <td>23711785</td>\n",
       "      <td>Happy Halloween! Keep you and your family safe...</td>\n",
       "      <td>0.8622</td>\n",
       "    </tr>\n",
       "  </tbody>\n",
       "</table>\n",
       "<p>15819 rows × 4 columns</p>\n",
       "</div>"
      ],
      "text/plain": [
       "             user1       user2  \\\n",
       "26       426033838   146569971   \n",
       "150      418859255   146569971   \n",
       "146      418859255   146569971   \n",
       "140      418859255   146569971   \n",
       "134      418859255   146569971   \n",
       "...            ...         ...   \n",
       "434       78445977    78445977   \n",
       "14339     35239459    14499829   \n",
       "51918   2953974395     5558312   \n",
       "51918   2953974395  1209417007   \n",
       "125860    18023868    23711785   \n",
       "\n",
       "                                                     text  vaderSent  \n",
       "26      RT @CDCgov: The first human infection with new...     0.0000  \n",
       "150     RT @CDCgov: After being diagnosed at age 41, C...     0.4939  \n",
       "146     RT @CDCgov: New CDC study: transgender women d...     0.0000  \n",
       "140     RT @CDCgov: While limited person-to-person spr...    -0.2263  \n",
       "134     RT @CDCgov: CDC has been proactively preparing...     0.0000  \n",
       "...                                                   ...        ...  \n",
       "434     Virginians, you have one hour left to vote in ...     0.0000  \n",
       "14339   RT @WHO: This #Halloween, let's spook #COVID19...     0.4574  \n",
       "51918   During #COVID19, I have been in continuous com...     0.6369  \n",
       "51918   During #COVID19, I have been in continuous com...     0.6369  \n",
       "125860  Happy Halloween! Keep you and your family safe...     0.8622  \n",
       "\n",
       "[15819 rows x 4 columns]"
      ]
     },
     "execution_count": 16,
     "metadata": {},
     "output_type": "execute_result"
    }
   ],
   "source": [
    "EL =  pd.read_pickle(\"../public_data/edge_list_final2.pkl\")\n",
    "EL"
   ]
  },
  {
   "cell_type": "code",
   "execution_count": 17,
   "id": "9d94ecab",
   "metadata": {},
   "outputs": [
    {
     "data": {
      "text/plain": [
       "array([[ 426033838,  146569971],\n",
       "       [ 418859255,  146569971],\n",
       "       [ 418859255,  146569971],\n",
       "       ...,\n",
       "       [2953974395,    5558312],\n",
       "       [2953974395, 1209417007],\n",
       "       [  18023868,   23711785]])"
      ]
     },
     "execution_count": 17,
     "metadata": {},
     "output_type": "execute_result"
    }
   ],
   "source": [
    "EL[[\"user1\",\"user2\"]].values"
   ]
  },
  {
   "cell_type": "code",
   "execution_count": 18,
   "id": "e01466f1",
   "metadata": {},
   "outputs": [],
   "source": [
    "G = nx.Graph() # Creates a graph object\n",
    "G.add_edges_from( EL[[\"user1\",\"user2\"]].values ) # Adds edges (and hence nodes from the edgelist)\n",
    "\n",
    "# Creates the biggest subgraph\n",
    "CC_nodes = list( nx.connected_components(G) )[0] # Generates a list of connected components, extracts the largest\n",
    "GG = nx.subgraph(G, CC_nodes) # Creates the subgraph of the largest CC"
   ]
  },
  {
   "cell_type": "code",
   "execution_count": 19,
   "id": "762d832d",
   "metadata": {},
   "outputs": [],
   "source": [
    "from netwulf import visualize\n",
    "import netwulf as nw"
   ]
  },
  {
   "cell_type": "code",
   "execution_count": 20,
   "id": "541ffd86",
   "metadata": {},
   "outputs": [
    {
     "name": "stderr",
     "output_type": "stream",
     "text": [
      "/opt/anaconda3/envs/qss20/lib/python3.10/site-packages/networkx/readwrite/json_graph/node_link.py:142: FutureWarning: \n",
      "The default value will be `edges=\"edges\" in NetworkX 3.6.\n",
      "\n",
      "To make this warning go away, explicitly set the edges kwarg, e.g.:\n",
      "\n",
      "  nx.node_link_data(G, edges=\"links\") to preserve current behavior, or\n",
      "  nx.node_link_data(G, edges=\"edges\") for forward compatibility.\n",
      "  warnings.warn(\n"
     ]
    }
   ],
   "source": [
    "stylized_network, config = visualize(GG,)"
   ]
  },
  {
   "cell_type": "code",
   "execution_count": 21,
   "id": "3eae7d29",
   "metadata": {},
   "outputs": [],
   "source": [
    "U = pd.read_pickle(\"../public_data/UserInfo.pkl\")\n",
    "id2color = dict(zip(U.userid.values, U.PlotColor.values))\n",
    "for k, v in GG.nodes(data=True):\n",
    "    v[\"group\"] = id2color[k]"
   ]
  },
  {
   "cell_type": "code",
   "execution_count": 22,
   "id": "5758d096",
   "metadata": {},
   "outputs": [
    {
     "name": "stderr",
     "output_type": "stream",
     "text": [
      "/opt/anaconda3/envs/qss20/lib/python3.10/site-packages/networkx/readwrite/json_graph/node_link.py:142: FutureWarning: \n",
      "The default value will be `edges=\"edges\" in NetworkX 3.6.\n",
      "\n",
      "To make this warning go away, explicitly set the edges kwarg, e.g.:\n",
      "\n",
      "  nx.node_link_data(G, edges=\"links\") to preserve current behavior, or\n",
      "  nx.node_link_data(G, edges=\"edges\") for forward compatibility.\n",
      "  warnings.warn(\n"
     ]
    }
   ],
   "source": [
    "stylized_network, config = visualize(GG,port=2000)"
   ]
  },
  {
   "cell_type": "markdown",
   "id": "95a7feed",
   "metadata": {},
   "source": [
    "### Activity Two\n",
    "- Create a new column in U called \"Degree,\" which denotes the degree of the node (userid). You will want to use G.degree()[n] where n is the userid.\n",
    "- Group by User Type. Which group was the most popular during the pandemic?"
   ]
  },
  {
   "cell_type": "code",
   "execution_count": 23,
   "id": "473b60ed-7359-4ec7-883f-7d7196a856ae",
   "metadata": {
    "scrolled": true
   },
   "outputs": [
    {
     "data": {
      "text/plain": [
       "DegreeView({426033838: 13, 146569971: 225, 418859255: 26, 14499829: 68, 247334603: 34, 1080509366: 18, 44783853: 136, 15751083: 17, 16952753: 15, 123926499: 9, 2363238127: 20, 15134240: 41, 407228333: 13, 36790269: 3, 131546062: 22, 2910903323: 56, 44034613: 25, 24959108: 21, 323311059: 11, 455024343: 74, 23711785: 10, 44957814: 19, 33934492: 18, 90422822: 9, 24195214: 39, 31801993: 18, 35789875: 9, 18695134: 25, 946549322: 21, 109287731: 23, 1071900114: 10, 20545793: 5, 232268199: 20, 57338289: 7, 1058520120: 21, 2964174789: 19, 236511574: 11, 235217558: 20, 293131808: 26, 224285242: 16, 252114970: 13, 460473395: 12, 68412042: 17, 240760644: 12, 3218464527: 16, 414860556: 13, 50452197: 9, 1249982359: 80, 476256944: 14, 18915145: 14, 815379032: 2, 19291441: 14, 25149628: 12, 21157904: 6, 1074101017: 8, 2916915026: 14, 78450167: 8, 970207298: 35, 44961877: 12, 76761964: 10, 2535616304: 9, 431100994: 17, 3177403355: 9, 70837868: 26, 2978837542: 10, 1074518754: 19, 35239459: 15, 20217019: 14, 199325935: 7, 248735463: 24, 2353731720: 8, 47356175: 15, 318509758: 5, 20467163: 6, 76649729: 10, 1089859058: 13, 164007407: 12, 242426145: 28, 76452765: 6, 1209417007: 43, 117501995: 8, 2339177324: 5, 20053279: 7, 1037321378: 12, 2987671552: 18, 65677968: 6, 224294785: 5, 2963445730: 5, 22545491: 12, 518644221: 40, 211420609: 6, 935033864: 8, 1077214808: 13, 59545968: 18, 303861808: 10, 29201047: 26, 234128524: 6, 7270292: 12, 3686482216: 10, 404132211: 14, 237299871: 4, 1048784496: 14, 18632666: 8, 584069282: 11, 19739126: 77, 950783972: 15, 460534166: 12, 71652085: 13, 18023868: 6, 331244103: 9, 151175266: 14, 2966205003: 7, 1444015610: 10, 968650362: 12, 229966028: 10, 13218102: 43, 1074480192: 19, 1099199839: 3, 2973870195: 8, 24745957: 8, 2929491549: 8, 140519774: 21, 236279233: 16, 258900199: 31, 23124635: 9, 237750442: 9, 78445977: 13, 30216513: 6, 2916086925: 11, 161791703: 20, 221792092: 10, 90639372: 43, 233693291: 9, 122174004: 9, 11347122: 21, 32010840: 12, 26424123: 12, 117793973: 3, 2964949642: 18, 1080844782: 10, 479872233: 18, 2891165960: 5, 37094727: 11, 18696134: 7, 1531521632: 21, 234896532: 8, 293028988: 10, 1243902714: 8, 164369297: 21, 432895323: 7, 29442313: 12, 281540744: 4, 249787913: 15, 364415553: 11, 17494010: 37, 278124059: 13, 250188760: 12, 7429102: 16, 21406834: 24, 2891210047: 8, 18137749: 13, 209599290: 12, 70775228: 6, 2863006655: 15, 161743731: 8, 242836537: 17, 231510077: 26, 305620929: 3, 584012853: 6, 193732179: 12, 1667792120: 12, 19797326: 7, 584912320: 18, 21269970: 12, 2968451607: 23, 163570705: 7, 1206227149: 24, 31611298: 3, 233842454: 1, 1465196934: 7, 33977070: 9, 35820178: 8, 15764644: 57, 92186819: 14, 74508260: 23, 29501253: 15, 1055907624: 6, 18061669: 18, 2970279814: 11, 56864092: 12, 1339931490: 9, 13491312: 13, 23593446: 12, 240427862: 16, 1058717720: 10, 188019606: 25, 109071031: 12, 242555999: 17, 18820392: 18, 161411080: 4, 88806753: 4, 1077121945: 13, 21111098: 4, 137794015: 12, 3023272478: 8, 58928690: 22, 1058807868: 14, 325113018: 7, 2750127259: 6, 5558312: 16, 2962868158: 45, 237770636: 7, 995193054: 32, 102071743: 7, 789244177: 20, 442824717: 12, 229197216: 14, 377534571: 9, 20552026: 5, 166374616: 8, 935368364: 7, 3122099613: 10, 155669457: 11, 233949261: 10, 2953974395: 17, 124224165: 8, 834069080: 7, 190328374: 5, 168502762: 4, 41266395: 5, 600463589: 10, 111630094: 6, 217543151: 20, 1060487274: 1, 237763317: 7, 211530910: 7, 75364211: 10, 1055730738: 3, 235312723: 5, 22012091: 36, 607332953: 6, 234014087: 9, 811986281177772032: 2, 153944899: 10, 171598736: 26, 3996166572: 4, 111721601: 4, 225921757: 15, 14984637: 5, 1260172386: 10, 4919082864: 4, 22044727: 14, 237862972: 7, 1135486501: 9, 36099461: 1, 60688326: 6, 310310133: 1, 3044993235: 9, 51228911: 4, 234812598: 5, 2955485182: 13, 1071402577: 2, 2964287128: 3, 172858784: 5, 104198706: 16, 188369254: 9, 2964526557: 7, 4205133682: 9, 60828944: 10, 234797704: 1, 1077446982: 8, 19926675: 14, 235190657: 6, 234822928: 10, 18773159: 5, 254082173: 5, 18166778: 9, 2975091705: 4, 2976606250: 3, 4304448314: 6, 3317799825: 3, 1908143071: 6, 1072008757: 9, 27676828: 6, 558769636: 13, 15324851: 23, 2970462034: 8, 2852998461: 9, 193794406: 16, 389840566: 7, 1058345042: 6, 2951574214: 3, 234469322: 14, 239949176: 11, 2862577383: 2, 235251868: 5, 242873057: 5, 2930635215: 12, 17976923: 7, 2863210809: 6, 312134473: 25, 384913290: 4, 2167097881: 14, 16100741: 2, 1058917562: 18, 2293131060: 33, 1140648348: 6, 567508925: 17, 22812754: 8, 1045110018: 12, 242926427: 5, 80612021: 5, 1072467470: 8, 162069635: 5, 1051127714: 26, 296814488: 12, 1222257180: 22, 976969338: 17, 299883942: 7, 581141508: 6, 2962891515: 1, 467823431: 9, 1065995022: 7, 2433737761: 22, 252249233: 14, 15954997: 6, 19668491: 10, 234057152: 3, 240778059: 5, 1071840474: 3, 1849261916: 8, 2966570782: 11, 2856787757: 11, 28602948: 14, 776664410: 9, 40302336: 12, 43910797: 22, 242772524: 5, 454138567: 5, 23600262: 10, 269992801: 7, 240393970: 8, 2962923040: 2, 240812994: 12, 176892371: 3, 545107258: 5, 267938462: 6, 2853793517: 1, 24913074: 6, 18030431: 5, 385429543: 3, 15394954: 9, 15356407: 3, 1071102246: 11, 28599820: 9, 296361085: 8, 216881337: 5, 153486399: 20, 2914515430: 9, 264219447: 13, 305216911: 26, 278145569: 9, 2253968388: 9, 52503751: 12, 22669526: 12, 249348006: 7, 37007274: 5, 1880674038: 9, 815952318487298048: 6, 76456274: 6, 259341329: 5, 1092979962: 16, 1096059529: 7, 82453460: 8, 18277655: 2, 2696643955: 3, 486694111: 14, 22523087: 8, 85396297: 5, 975200486: 4, 18909919: 11, 19726613: 8, 234374703: 5, 29766367: 1, 36686040: 9, 16256269: 9, 18967498: 9, 11651202: 3, 38254095: 4, 993153006: 13, 84678363: 3, 138530516: 9, 1410590874: 5, 1009269193: 8, 1068481578: 3, 1089334250: 6, 2371339658: 20, 10615232: 5, 84119348: 5, 1072134139560620032: 2, 432676344: 8, 202206694: 10, 76132891: 2, 1068499286: 10, 267854863: 4, 1155335864: 3, 237312687: 13, 33563161: 3, 19318314: 8, 942156122: 8, 1262099252: 8, 2966765501: 3, 516880804: 9, 295685416: 2, 4755913398: 2, 3091316093: 4, 291756142: 6, 381152398: 15, 39249305: 22, 233737858: 6, 2968007206: 8, 26042513: 5, 252819323: 4, 1240107944: 3, 510516465: 3, 112740986: 4, 1074129612: 4, 515822213: 4, 210926192: 7, 2962813893: 6, 156333623: 4, 1083448909: 4, 16335288: 6, 18805303: 2, 41417564: 4, 838462994: 2, 245451804: 5, 88784440: 4, 196362083: 1, 219429281: 3, 33576489: 4, 249410485: 4, 29450962: 1, 22055226: 10, 1075205691621720064: 2, 26051676: 4, 2964877294: 6, 15600527: 1, 193872188: 1, 3124524385: 3, 1058051748: 4, 221162525: 3, 382791093: 1, 1064206014: 1, 432771620: 1, 168673083: 2, 2914163523: 1, 960962340: 3, 48117116: 1, 550401754: 1, 45550693: 1, 1060370282: 2, 3018670151: 1, 2861616083: 1})"
      ]
     },
     "execution_count": 23,
     "metadata": {},
     "output_type": "execute_result"
    }
   ],
   "source": [
    "G.degree()"
   ]
  },
  {
   "cell_type": "code",
   "execution_count": 24,
   "id": "3c8258ea-3fcb-4d84-a642-fec179733a22",
   "metadata": {},
   "outputs": [],
   "source": [
    "deg = pd.DataFrame(G.degree(), columns = [\"userid\", \"degree\"])\n",
    "U = U.merge(deg)"
   ]
  },
  {
   "cell_type": "code",
   "execution_count": 25,
   "id": "eedbd25e",
   "metadata": {},
   "outputs": [],
   "source": [
    "# your code here.\n",
    "U[\"Degree\"] = U[\"userid\"].map(dict(G.degree()))\n",
    "# U[\"Degree\"] = U[\"userid\"].apply(lambda x:nx.degree(G,x))"
   ]
  },
  {
   "cell_type": "code",
   "execution_count": 26,
   "id": "e9062520",
   "metadata": {},
   "outputs": [
    {
     "data": {
      "text/plain": [
       "<BarContainer object of 4 artists>"
      ]
     },
     "execution_count": 26,
     "metadata": {},
     "output_type": "execute_result"
    },
    {
     "data": {
      "image/png": "[encoded data removed]",
      "text/plain": [
       "<Figure size 640x480 with 1 Axes>"
      ]
     },
     "metadata": {},
     "output_type": "display_data"
    }
   ],
   "source": [
    "# bar = U.groupby(\"User_type\")[\"degree\"].sum()\n",
    "bar = U.groupby(\"User_type\")[\"degree\"].mean()\n",
    "plt.bar(bar.index, bar.values)"
   ]
  }
 ],
 "metadata": {
  "kernelspec": {
   "display_name": "Python 3 (ipykernel)",
   "language": "python",
   "name": "python3"
  },
  "language_info": {
   "codemirror_mode": {
    "name": "ipython",
    "version": 3
   },
   "file_extension": ".py",
   "mimetype": "text/x-python",
   "name": "python",
   "nbconvert_exporter": "python",
   "pygments_lexer": "ipython3",
   "version": "3.10.15"
  }
 },
 "nbformat": 4,
 "nbformat_minor": 5
}

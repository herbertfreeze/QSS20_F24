{
 "cells": [
  {
   "cell_type": "markdown",
   "metadata": {},
   "source": [
    "# Imports"
   ]
  },
  {
   "cell_type": "code",
   "execution_count": 1,
   "metadata": {},
   "outputs": [],
   "source": [
    "## imports\n",
    "import pandas as pd\n",
    "import re\n",
    "import numpy as np\n",
    "\n",
    "## print multiple things from same cell\n",
    "from IPython.core.interactiveshell import InteractiveShell\n",
    "InteractiveShell.ast_node_interactivity = \"all\""
   ]
  },
  {
   "cell_type": "markdown",
   "metadata": {},
   "source": [
    "# Load data and show examples"
   ]
  },
  {
   "cell_type": "code",
   "execution_count": null,
   "metadata": {},
   "outputs": [],
   "source": [
    "schools_df = pd.read_csv(\"../public_data/schools_df.csv\")\n",
    "schools_df.head()"
   ]
  },
  {
   "cell_type": "markdown",
   "metadata": {},
   "source": [
    "# re.sub illustration\n",
    "\n",
    "**Task**: \n",
    "\n",
    "- Use the `school_df` dataset and filter to `is_elem_exercise` == True \n",
    "- Using the `schoolname` field, replace the different varieties of elementary school in the data with `elemschool` "
   ]
  },
  {
   "cell_type": "markdown",
   "metadata": {},
   "source": [
    "## Incorrect approach \n",
    "\n",
    "Returns incorrect results that we'll see below"
   ]
  },
  {
   "cell_type": "code",
   "execution_count": null,
   "metadata": {},
   "outputs": [],
   "source": [
    "elem_ex = schools_df[schools_df.is_elem_exercise].copy()\n",
    "elem_ex.head()"
   ]
  },
  {
   "cell_type": "code",
   "execution_count": null,
   "metadata": {},
   "outputs": [],
   "source": [
    "elem_pattern = r\"elementary|elem|elem\\.|elementary school\"\n",
    "\n",
    "new_schools = [re.sub(elem_pattern, \"elemschool\", school) \n",
    "               for school in elem_ex.schoolname]\n",
    "\n",
    "elem_ex['cleaned_name_try1'] = new_schools\n",
    "elem_ex[[\"schoolname\", \"cleaned_name_try1\"]]"
   ]
  },
  {
   "cell_type": "markdown",
   "metadata": {},
   "source": [
    "## A correct approach\n",
    "\n",
    "Addresses issues above with `elementary school` and `elem.`"
   ]
  },
  {
   "cell_type": "code",
   "execution_count": null,
   "metadata": {},
   "outputs": [],
   "source": [
    "elem_pattern_try2 = r\"(elem.*)(\\s+)?(school)?\"\n",
    "    \n",
    "new_schools_try2 = [re.sub(elem_pattern_try2, \"elemschool\", school) \n",
    "                    for school in elem_ex.schoolname]    \n",
    "\n",
    "elem_ex['cleaned_name_try2'] = new_schools_try2\n",
    "elem_ex[[\"schoolname\", \"cleaned_name_try1\", \"cleaned_name_try2\"]]"
   ]
  },
  {
   "cell_type": "markdown",
   "metadata": {},
   "source": [
    "# re.findall and re.search illustrations"
   ]
  },
  {
   "cell_type": "markdown",
   "metadata": {},
   "source": [
    "**Task**: \n",
    "\n",
    "- Filter to `is_charter_exercise` == True; note that this contains a mix of schools with charter in the name and schools without\n",
    "- Construct a pattern that, for charter schools, gets the school name prior to appearance of the word charter. School names without charter will not have matches (so Hanover Charter becomes Hanover; Hanover High stays Hanover High)\n"
   ]
  },
  {
   "cell_type": "markdown",
   "metadata": {},
   "source": [
    "## re.findall "
   ]
  },
  {
   "cell_type": "code",
   "execution_count": null,
   "metadata": {},
   "outputs": [],
   "source": [
    "## filter to charter exercise\n",
    "charter_ex = schools_df[schools_df.is_charter_exercise].copy()\n",
    "charter_ex.head(6)"
   ]
  },
  {
   "cell_type": "code",
   "execution_count": null,
   "metadata": {},
   "outputs": [],
   "source": [
    "## charter pattern\n",
    "charter_pattern = r\"(.*)\\s+(charter)(\\s+)?(\\w+)?\"\n",
    "\n",
    "## findall \n",
    "test_charter_findall = [re.findall(charter_pattern, school) \n",
    "                        for school in charter_ex.schoolname]\n",
    "\n",
    "## print result\n",
    "test_charter_findall"
   ]
  },
  {
   "cell_type": "code",
   "execution_count": null,
   "metadata": {},
   "outputs": [],
   "source": [
    "## show example of one\n",
    "print(test_charter_findall[1][0][0])"
   ]
  },
  {
   "cell_type": "markdown",
   "metadata": {},
   "source": [
    "## re.search"
   ]
  },
  {
   "cell_type": "code",
   "execution_count": null,
   "metadata": {},
   "outputs": [],
   "source": [
    "## get matches\n",
    "test_charter_search = [re.search(charter_pattern, school) \n",
    "                       for school in charter_ex.schoolname]\n",
    "\n",
    "test_charter_search\n"
   ]
  },
  {
   "cell_type": "code",
   "execution_count": null,
   "metadata": {},
   "outputs": [],
   "source": [
    "## extract matches\n",
    "\n",
    "### here, we're just focusing on the 3rd match or the 6th entry (thomas edison charter academy)\n",
    "### and we're getting the first group from that match\n",
    "thomas_match = test_charter_search[5]\n",
    "thomas_match\n",
    "\n",
    "### example where we're just getting the first group\n",
    "### (name of school before charter)\n",
    "thomas_firstgroup = thomas_match.group(1)\n",
    "thomas_firstgroup\n"
   ]
  },
  {
   "cell_type": "code",
   "execution_count": null,
   "metadata": {},
   "outputs": [],
   "source": [
    "### iterate over all groups and print\n",
    "for i in range(0, len(thomas_match.groups())+1):\n",
    "    print(\"Group \" + str(i) + \" is: \")\n",
    "    print(thomas_match.group(i))\n",
    "\n",
    "## see error if we go beyond actual number of \n",
    "## groups thomas_match.group(5)"
   ]
  },
  {
   "cell_type": "code",
   "execution_count": null,
   "metadata": {},
   "outputs": [],
   "source": [
    "## can also extract the groups as a tuple\n",
    "## example- want to return group 1 and group 2 and paste together\n",
    "thomas_groups_all = thomas_match.groups()\n",
    "thomas_groups_all\n",
    "\n",
    "## slice the tuple\n",
    "thomas_groups_all[0:2]\n"
   ]
  },
  {
   "cell_type": "code",
   "execution_count": null,
   "metadata": {},
   "outputs": [],
   "source": [
    "## can generalize to the full list with ifelse\n",
    "def get_precharter_name(one_matchobj):\n",
    "    \n",
    "    if one_matchobj:\n",
    "        school_name = one_matchobj.group(1)\n",
    "    else:\n",
    "        school_name = \"\"\n",
    "    \n",
    "    return(school_name)\n",
    "\n",
    "all_charter_match = [get_precharter_name(one_search) \n",
    "                    for one_search in test_charter_search]\n",
    "\n",
    "all_charter_match"
   ]
  },
  {
   "cell_type": "markdown",
   "metadata": {},
   "source": [
    "# Group activity\n",
    "\n",
    "## Part 1: Subsetting\n",
    "Filter the data to only those rows where `is_highschool_exercise` is True."
   ]
  },
  {
   "cell_type": "code",
   "execution_count": null,
   "metadata": {},
   "outputs": [],
   "source": [
    "# your code here to filter high school data"
   ]
  },
  {
   "cell_type": "markdown",
   "metadata": {},
   "source": [
    "## Part 2: Standardizing names\n",
    "To find the names of high schools, try out some regex patterns to standardize the high school names (e.g., 'high school' and 'high' could both become 'highschool'). AKA make everything 'highschool.'\n",
    "\n",
    "**Hint:** Look at the school names for hints on what to avoid matching--e.g., 'highland facility'. To avoid things like this, after 'high' or 'hs', have your pattern look for a space (`\\s`) or the end of the string (`$`). "
   ]
  },
  {
   "cell_type": "code",
   "execution_count": null,
   "metadata": {},
   "outputs": [],
   "source": [
    "# your code here\n",
    "hs_sub_pattern = r\"[yourcodehere]\"\n",
    "\n",
    "# Try testing it on a few strings first\n",
    "\n"
   ]
  },
  {
   "cell_type": "code",
   "execution_count": null,
   "metadata": {},
   "outputs": [],
   "source": [
    "# your code here to standardize high school names"
   ]
  },
  {
   "cell_type": "markdown",
   "metadata": {},
   "source": [
    "## Part 3: Match schools\n",
    "Using some example results, try writing a regex pattern and using `re.match` to get the name of the school that precedes the 'highschool' part of the name (e.g., 'new trier highschool' -> 'new trier')"
   ]
  },
  {
   "cell_type": "code",
   "execution_count": null,
   "metadata": {},
   "outputs": [],
   "source": [
    "# your code here to extract names of high schools"
   ]
  },
  {
   "cell_type": "code",
   "execution_count": null,
   "metadata": {},
   "outputs": [],
   "source": []
  },
  {
   "cell_type": "code",
   "execution_count": null,
   "metadata": {},
   "outputs": [],
   "source": []
  },
  {
   "cell_type": "code",
   "execution_count": null,
   "metadata": {},
   "outputs": [],
   "source": []
  }
 ],
 "metadata": {
  "kernelspec": {
   "display_name": "Python 3 (ipykernel)",
   "language": "python",
   "name": "python3"
  },
  "language_info": {
   "codemirror_mode": {
    "name": "ipython",
    "version": 3
   },
   "file_extension": ".py",
   "mimetype": "text/x-python",
   "name": "python",
   "nbconvert_exporter": "python",
   "pygments_lexer": "ipython3",
   "version": "3.9.12"
  }
 },
 "nbformat": 4,
 "nbformat_minor": 4
}

{
 "cells": [
  {
   "cell_type": "markdown",
   "metadata": {},
   "source": [
    "# Imports"
   ]
  },
  {
   "cell_type": "code",
   "execution_count": 1,
   "metadata": {},
   "outputs": [],
   "source": [
    "## imports\n",
    "import pandas as pd\n",
    "import re\n",
    "import numpy as np\n",
    "\n",
    "## print multiple things from same cell\n",
    "from IPython.core.interactiveshell import InteractiveShell\n",
    "InteractiveShell.ast_node_interactivity = \"all\""
   ]
  },
  {
   "cell_type": "markdown",
   "metadata": {},
   "source": [
    "# Load data and show examples"
   ]
  },
  {
   "cell_type": "code",
   "execution_count": 2,
   "metadata": {},
   "outputs": [
    {
     "data": {
      "text/html": [
       "<div>\n",
       "<style scoped>\n",
       "    .dataframe tbody tr th:only-of-type {\n",
       "        vertical-align: middle;\n",
       "    }\n",
       "\n",
       "    .dataframe tbody tr th {\n",
       "        vertical-align: top;\n",
       "    }\n",
       "\n",
       "    .dataframe thead th {\n",
       "        text-align: right;\n",
       "    }\n",
       "</style>\n",
       "<table border=\"1\" class=\"dataframe\">\n",
       "  <thead>\n",
       "    <tr style=\"text-align: right;\">\n",
       "      <th></th>\n",
       "      <th>schoolname</th>\n",
       "      <th>individualispjune2020</th>\n",
       "      <th>participatingincepsy2021</th>\n",
       "      <th>is_elem_exercise</th>\n",
       "      <th>is_charter_exercise</th>\n",
       "      <th>is_highschool_exercise</th>\n",
       "    </tr>\n",
       "  </thead>\n",
       "  <tbody>\n",
       "    <tr>\n",
       "      <th>0</th>\n",
       "      <td>stove prairie elementary school</td>\n",
       "      <td>0</td>\n",
       "      <td>N</td>\n",
       "      <td>True</td>\n",
       "      <td>False</td>\n",
       "      <td>False</td>\n",
       "    </tr>\n",
       "    <tr>\n",
       "      <th>1</th>\n",
       "      <td>stewart county elementary school</td>\n",
       "      <td>0.7603</td>\n",
       "      <td>Y</td>\n",
       "      <td>True</td>\n",
       "      <td>False</td>\n",
       "      <td>False</td>\n",
       "    </tr>\n",
       "    <tr>\n",
       "      <th>2</th>\n",
       "      <td>desert springs elementary school</td>\n",
       "      <td>NaN</td>\n",
       "      <td>N</td>\n",
       "      <td>True</td>\n",
       "      <td>False</td>\n",
       "      <td>False</td>\n",
       "    </tr>\n",
       "    <tr>\n",
       "      <th>3</th>\n",
       "      <td>saunemin elem school</td>\n",
       "      <td>0.38939999999999997</td>\n",
       "      <td>N</td>\n",
       "      <td>True</td>\n",
       "      <td>False</td>\n",
       "      <td>False</td>\n",
       "    </tr>\n",
       "    <tr>\n",
       "      <th>4</th>\n",
       "      <td>fifth district elementary</td>\n",
       "      <td>0.0275</td>\n",
       "      <td>N</td>\n",
       "      <td>True</td>\n",
       "      <td>False</td>\n",
       "      <td>False</td>\n",
       "    </tr>\n",
       "  </tbody>\n",
       "</table>\n",
       "</div>"
      ],
      "text/plain": [
       "                         schoolname individualispjune2020  \\\n",
       "0   stove prairie elementary school                     0   \n",
       "1  stewart county elementary school                0.7603   \n",
       "2  desert springs elementary school                   NaN   \n",
       "3              saunemin elem school   0.38939999999999997   \n",
       "4         fifth district elementary                0.0275   \n",
       "\n",
       "  participatingincepsy2021  is_elem_exercise  is_charter_exercise  \\\n",
       "0                        N              True                False   \n",
       "1                        Y              True                False   \n",
       "2                        N              True                False   \n",
       "3                        N              True                False   \n",
       "4                        N              True                False   \n",
       "\n",
       "   is_highschool_exercise  \n",
       "0                   False  \n",
       "1                   False  \n",
       "2                   False  \n",
       "3                   False  \n",
       "4                   False  "
      ]
     },
     "execution_count": 2,
     "metadata": {},
     "output_type": "execute_result"
    }
   ],
   "source": [
    "schools_df = pd.read_csv(\"../public_data/schools_df.csv\")\n",
    "schools_df.head()"
   ]
  },
  {
   "cell_type": "markdown",
   "metadata": {},
   "source": [
    "# re.sub illustration\n",
    "\n",
    "**Task**: \n",
    "\n",
    "- Use the `school_df` dataset and filter to `is_elem_exercise` == True \n",
    "- Using the `schoolname` field, replace the different varieties of elementary school in the data with `elemschool` "
   ]
  },
  {
   "cell_type": "markdown",
   "metadata": {},
   "source": [
    "## Incorrect approach \n",
    "\n",
    "Returns incorrect results that we'll see below"
   ]
  },
  {
   "cell_type": "code",
   "execution_count": 3,
   "metadata": {},
   "outputs": [
    {
     "data": {
      "text/html": [
       "<div>\n",
       "<style scoped>\n",
       "    .dataframe tbody tr th:only-of-type {\n",
       "        vertical-align: middle;\n",
       "    }\n",
       "\n",
       "    .dataframe tbody tr th {\n",
       "        vertical-align: top;\n",
       "    }\n",
       "\n",
       "    .dataframe thead th {\n",
       "        text-align: right;\n",
       "    }\n",
       "</style>\n",
       "<table border=\"1\" class=\"dataframe\">\n",
       "  <thead>\n",
       "    <tr style=\"text-align: right;\">\n",
       "      <th></th>\n",
       "      <th>schoolname</th>\n",
       "      <th>individualispjune2020</th>\n",
       "      <th>participatingincepsy2021</th>\n",
       "      <th>is_elem_exercise</th>\n",
       "      <th>is_charter_exercise</th>\n",
       "      <th>is_highschool_exercise</th>\n",
       "    </tr>\n",
       "  </thead>\n",
       "  <tbody>\n",
       "    <tr>\n",
       "      <th>0</th>\n",
       "      <td>stove prairie elementary school</td>\n",
       "      <td>0</td>\n",
       "      <td>N</td>\n",
       "      <td>True</td>\n",
       "      <td>False</td>\n",
       "      <td>False</td>\n",
       "    </tr>\n",
       "    <tr>\n",
       "      <th>1</th>\n",
       "      <td>stewart county elementary school</td>\n",
       "      <td>0.7603</td>\n",
       "      <td>Y</td>\n",
       "      <td>True</td>\n",
       "      <td>False</td>\n",
       "      <td>False</td>\n",
       "    </tr>\n",
       "    <tr>\n",
       "      <th>2</th>\n",
       "      <td>desert springs elementary school</td>\n",
       "      <td>NaN</td>\n",
       "      <td>N</td>\n",
       "      <td>True</td>\n",
       "      <td>False</td>\n",
       "      <td>False</td>\n",
       "    </tr>\n",
       "    <tr>\n",
       "      <th>3</th>\n",
       "      <td>saunemin elem school</td>\n",
       "      <td>0.38939999999999997</td>\n",
       "      <td>N</td>\n",
       "      <td>True</td>\n",
       "      <td>False</td>\n",
       "      <td>False</td>\n",
       "    </tr>\n",
       "    <tr>\n",
       "      <th>4</th>\n",
       "      <td>fifth district elementary</td>\n",
       "      <td>0.0275</td>\n",
       "      <td>N</td>\n",
       "      <td>True</td>\n",
       "      <td>False</td>\n",
       "      <td>False</td>\n",
       "    </tr>\n",
       "  </tbody>\n",
       "</table>\n",
       "</div>"
      ],
      "text/plain": [
       "                         schoolname individualispjune2020  \\\n",
       "0   stove prairie elementary school                     0   \n",
       "1  stewart county elementary school                0.7603   \n",
       "2  desert springs elementary school                   NaN   \n",
       "3              saunemin elem school   0.38939999999999997   \n",
       "4         fifth district elementary                0.0275   \n",
       "\n",
       "  participatingincepsy2021  is_elem_exercise  is_charter_exercise  \\\n",
       "0                        N              True                False   \n",
       "1                        Y              True                False   \n",
       "2                        N              True                False   \n",
       "3                        N              True                False   \n",
       "4                        N              True                False   \n",
       "\n",
       "   is_highschool_exercise  \n",
       "0                   False  \n",
       "1                   False  \n",
       "2                   False  \n",
       "3                   False  \n",
       "4                   False  "
      ]
     },
     "execution_count": 3,
     "metadata": {},
     "output_type": "execute_result"
    }
   ],
   "source": [
    "elem_ex = schools_df[schools_df.is_elem_exercise].copy()\n",
    "elem_ex.head()"
   ]
  },
  {
   "cell_type": "code",
   "execution_count": 4,
   "metadata": {},
   "outputs": [
    {
     "data": {
      "text/html": [
       "<div>\n",
       "<style scoped>\n",
       "    .dataframe tbody tr th:only-of-type {\n",
       "        vertical-align: middle;\n",
       "    }\n",
       "\n",
       "    .dataframe tbody tr th {\n",
       "        vertical-align: top;\n",
       "    }\n",
       "\n",
       "    .dataframe thead th {\n",
       "        text-align: right;\n",
       "    }\n",
       "</style>\n",
       "<table border=\"1\" class=\"dataframe\">\n",
       "  <thead>\n",
       "    <tr style=\"text-align: right;\">\n",
       "      <th></th>\n",
       "      <th>schoolname</th>\n",
       "      <th>cleaned_name_try1</th>\n",
       "    </tr>\n",
       "  </thead>\n",
       "  <tbody>\n",
       "    <tr>\n",
       "      <th>0</th>\n",
       "      <td>stove prairie elementary school</td>\n",
       "      <td>stove prairie elemschool school</td>\n",
       "    </tr>\n",
       "    <tr>\n",
       "      <th>1</th>\n",
       "      <td>stewart county elementary school</td>\n",
       "      <td>stewart county elemschool school</td>\n",
       "    </tr>\n",
       "    <tr>\n",
       "      <th>2</th>\n",
       "      <td>desert springs elementary school</td>\n",
       "      <td>desert springs elemschool school</td>\n",
       "    </tr>\n",
       "    <tr>\n",
       "      <th>3</th>\n",
       "      <td>saunemin elem school</td>\n",
       "      <td>saunemin elemschool school</td>\n",
       "    </tr>\n",
       "    <tr>\n",
       "      <th>4</th>\n",
       "      <td>fifth district elementary</td>\n",
       "      <td>fifth district elemschool</td>\n",
       "    </tr>\n",
       "    <tr>\n",
       "      <th>5</th>\n",
       "      <td>paint branch elementary</td>\n",
       "      <td>paint branch elemschool</td>\n",
       "    </tr>\n",
       "    <tr>\n",
       "      <th>6</th>\n",
       "      <td>oak hill elem.</td>\n",
       "      <td>oak hill elemschool.</td>\n",
       "    </tr>\n",
       "    <tr>\n",
       "      <th>7</th>\n",
       "      <td>lewis and clark elem.</td>\n",
       "      <td>lewis and clark elemschool.</td>\n",
       "    </tr>\n",
       "    <tr>\n",
       "      <th>8</th>\n",
       "      <td>linden elementary school</td>\n",
       "      <td>linden elemschool school</td>\n",
       "    </tr>\n",
       "    <tr>\n",
       "      <th>9</th>\n",
       "      <td>winchester avenue elementary school</td>\n",
       "      <td>winchester avenue elemschool school</td>\n",
       "    </tr>\n",
       "  </tbody>\n",
       "</table>\n",
       "</div>"
      ],
      "text/plain": [
       "                            schoolname                    cleaned_name_try1\n",
       "0      stove prairie elementary school      stove prairie elemschool school\n",
       "1     stewart county elementary school     stewart county elemschool school\n",
       "2     desert springs elementary school     desert springs elemschool school\n",
       "3                 saunemin elem school           saunemin elemschool school\n",
       "4            fifth district elementary            fifth district elemschool\n",
       "5              paint branch elementary              paint branch elemschool\n",
       "6                       oak hill elem.                 oak hill elemschool.\n",
       "7                lewis and clark elem.          lewis and clark elemschool.\n",
       "8             linden elementary school             linden elemschool school\n",
       "9  winchester avenue elementary school  winchester avenue elemschool school"
      ]
     },
     "execution_count": 4,
     "metadata": {},
     "output_type": "execute_result"
    }
   ],
   "source": [
    "elem_pattern = r\"elementary|elem|elem\\.|elementary school\"\n",
    "\n",
    "new_schools = [re.sub(elem_pattern, \"elemschool\", school) \n",
    "               for school in elem_ex.schoolname]\n",
    "\n",
    "elem_ex['cleaned_name_try1'] = new_schools\n",
    "elem_ex[[\"schoolname\", \"cleaned_name_try1\"]]"
   ]
  },
  {
   "cell_type": "code",
   "execution_count": null,
   "metadata": {},
   "outputs": [],
   "source": [
    "## Better way to apply to each row in the column\n",
    "elem_ex.schoolname.apply(lambda x: re.sub(elem_pattern, \"elemschool\", x))"
   ]
  },
  {
   "cell_type": "markdown",
   "metadata": {},
   "source": [
    "## A correct approach\n",
    "\n",
    "Addresses issues above with `elementary school` and `elem.`"
   ]
  },
  {
   "cell_type": "code",
   "execution_count": 5,
   "metadata": {},
   "outputs": [
    {
     "data": {
      "text/html": [
       "<div>\n",
       "<style scoped>\n",
       "    .dataframe tbody tr th:only-of-type {\n",
       "        vertical-align: middle;\n",
       "    }\n",
       "\n",
       "    .dataframe tbody tr th {\n",
       "        vertical-align: top;\n",
       "    }\n",
       "\n",
       "    .dataframe thead th {\n",
       "        text-align: right;\n",
       "    }\n",
       "</style>\n",
       "<table border=\"1\" class=\"dataframe\">\n",
       "  <thead>\n",
       "    <tr style=\"text-align: right;\">\n",
       "      <th></th>\n",
       "      <th>schoolname</th>\n",
       "      <th>cleaned_name_try1</th>\n",
       "      <th>cleaned_name_try2</th>\n",
       "    </tr>\n",
       "  </thead>\n",
       "  <tbody>\n",
       "    <tr>\n",
       "      <th>0</th>\n",
       "      <td>stove prairie elementary school</td>\n",
       "      <td>stove prairie elemschool school</td>\n",
       "      <td>stove prairie elemschool</td>\n",
       "    </tr>\n",
       "    <tr>\n",
       "      <th>1</th>\n",
       "      <td>stewart county elementary school</td>\n",
       "      <td>stewart county elemschool school</td>\n",
       "      <td>stewart county elemschool</td>\n",
       "    </tr>\n",
       "    <tr>\n",
       "      <th>2</th>\n",
       "      <td>desert springs elementary school</td>\n",
       "      <td>desert springs elemschool school</td>\n",
       "      <td>desert springs elemschool</td>\n",
       "    </tr>\n",
       "    <tr>\n",
       "      <th>3</th>\n",
       "      <td>saunemin elem school</td>\n",
       "      <td>saunemin elemschool school</td>\n",
       "      <td>saunemin elemschool</td>\n",
       "    </tr>\n",
       "    <tr>\n",
       "      <th>4</th>\n",
       "      <td>fifth district elementary</td>\n",
       "      <td>fifth district elemschool</td>\n",
       "      <td>fifth district elemschool</td>\n",
       "    </tr>\n",
       "    <tr>\n",
       "      <th>5</th>\n",
       "      <td>paint branch elementary</td>\n",
       "      <td>paint branch elemschool</td>\n",
       "      <td>paint branch elemschool</td>\n",
       "    </tr>\n",
       "    <tr>\n",
       "      <th>6</th>\n",
       "      <td>oak hill elem.</td>\n",
       "      <td>oak hill elemschool.</td>\n",
       "      <td>oak hill elemschool</td>\n",
       "    </tr>\n",
       "    <tr>\n",
       "      <th>7</th>\n",
       "      <td>lewis and clark elem.</td>\n",
       "      <td>lewis and clark elemschool.</td>\n",
       "      <td>lewis and clark elemschool</td>\n",
       "    </tr>\n",
       "    <tr>\n",
       "      <th>8</th>\n",
       "      <td>linden elementary school</td>\n",
       "      <td>linden elemschool school</td>\n",
       "      <td>linden elemschool</td>\n",
       "    </tr>\n",
       "    <tr>\n",
       "      <th>9</th>\n",
       "      <td>winchester avenue elementary school</td>\n",
       "      <td>winchester avenue elemschool school</td>\n",
       "      <td>winchester avenue elemschool</td>\n",
       "    </tr>\n",
       "  </tbody>\n",
       "</table>\n",
       "</div>"
      ],
      "text/plain": [
       "                            schoolname                    cleaned_name_try1  \\\n",
       "0      stove prairie elementary school      stove prairie elemschool school   \n",
       "1     stewart county elementary school     stewart county elemschool school   \n",
       "2     desert springs elementary school     desert springs elemschool school   \n",
       "3                 saunemin elem school           saunemin elemschool school   \n",
       "4            fifth district elementary            fifth district elemschool   \n",
       "5              paint branch elementary              paint branch elemschool   \n",
       "6                       oak hill elem.                 oak hill elemschool.   \n",
       "7                lewis and clark elem.          lewis and clark elemschool.   \n",
       "8             linden elementary school             linden elemschool school   \n",
       "9  winchester avenue elementary school  winchester avenue elemschool school   \n",
       "\n",
       "              cleaned_name_try2  \n",
       "0      stove prairie elemschool  \n",
       "1     stewart county elemschool  \n",
       "2     desert springs elemschool  \n",
       "3           saunemin elemschool  \n",
       "4     fifth district elemschool  \n",
       "5       paint branch elemschool  \n",
       "6           oak hill elemschool  \n",
       "7    lewis and clark elemschool  \n",
       "8             linden elemschool  \n",
       "9  winchester avenue elemschool  "
      ]
     },
     "execution_count": 5,
     "metadata": {},
     "output_type": "execute_result"
    }
   ],
   "source": [
    "elem_pattern_try2 = r\"(elem.*)(\\s+)?(school)?\"\n",
    "    \n",
    "new_schools_try2 = [re.sub(elem_pattern_try2, \"elemschool\", school) \n",
    "                    for school in elem_ex.schoolname]    \n",
    "\n",
    "elem_ex['cleaned_name_try2'] = new_schools_try2\n",
    "elem_ex[[\"schoolname\", \"cleaned_name_try1\", \"cleaned_name_try2\"]]"
   ]
  },
  {
   "cell_type": "markdown",
   "metadata": {},
   "source": [
    "# re.findall and re.search illustrations"
   ]
  },
  {
   "cell_type": "markdown",
   "metadata": {},
   "source": [
    "**Task**: \n",
    "\n",
    "- Filter to `is_charter_exercise` == True; note that this contains a mix of schools with charter in the name and schools without\n",
    "- Construct a pattern that, for charter schools, gets the school name prior to appearance of the word charter. School names without charter will not have matches (so Hanover Charter becomes Hanover; Hanover High stays Hanover High)\n"
   ]
  },
  {
   "cell_type": "markdown",
   "metadata": {},
   "source": [
    "## re.findall "
   ]
  },
  {
   "cell_type": "code",
   "execution_count": 6,
   "metadata": {},
   "outputs": [
    {
     "data": {
      "text/html": [
       "<div>\n",
       "<style scoped>\n",
       "    .dataframe tbody tr th:only-of-type {\n",
       "        vertical-align: middle;\n",
       "    }\n",
       "\n",
       "    .dataframe tbody tr th {\n",
       "        vertical-align: top;\n",
       "    }\n",
       "\n",
       "    .dataframe thead th {\n",
       "        text-align: right;\n",
       "    }\n",
       "</style>\n",
       "<table border=\"1\" class=\"dataframe\">\n",
       "  <thead>\n",
       "    <tr style=\"text-align: right;\">\n",
       "      <th></th>\n",
       "      <th>schoolname</th>\n",
       "      <th>individualispjune2020</th>\n",
       "      <th>participatingincepsy2021</th>\n",
       "      <th>is_elem_exercise</th>\n",
       "      <th>is_charter_exercise</th>\n",
       "      <th>is_highschool_exercise</th>\n",
       "    </tr>\n",
       "  </thead>\n",
       "  <tbody>\n",
       "    <tr>\n",
       "      <th>10</th>\n",
       "      <td>frontier elementary school</td>\n",
       "      <td>8.51%</td>\n",
       "      <td>N</td>\n",
       "      <td>False</td>\n",
       "      <td>True</td>\n",
       "      <td>False</td>\n",
       "    </tr>\n",
       "    <tr>\n",
       "      <th>11</th>\n",
       "      <td>life source international charter</td>\n",
       "      <td>0.7201946472019465</td>\n",
       "      <td>Y</td>\n",
       "      <td>False</td>\n",
       "      <td>True</td>\n",
       "      <td>False</td>\n",
       "    </tr>\n",
       "    <tr>\n",
       "      <th>12</th>\n",
       "      <td>east valley senior high</td>\n",
       "      <td>0.45807770961145194</td>\n",
       "      <td>Y</td>\n",
       "      <td>False</td>\n",
       "      <td>True</td>\n",
       "      <td>False</td>\n",
       "    </tr>\n",
       "    <tr>\n",
       "      <th>13</th>\n",
       "      <td>children's community charter</td>\n",
       "      <td>0.8888888888888888</td>\n",
       "      <td>Y</td>\n",
       "      <td>False</td>\n",
       "      <td>True</td>\n",
       "      <td>False</td>\n",
       "    </tr>\n",
       "    <tr>\n",
       "      <th>14</th>\n",
       "      <td>south fork elementary</td>\n",
       "      <td>0.49640287769784175</td>\n",
       "      <td>Y</td>\n",
       "      <td>False</td>\n",
       "      <td>True</td>\n",
       "      <td>False</td>\n",
       "    </tr>\n",
       "    <tr>\n",
       "      <th>15</th>\n",
       "      <td>thomas edison charter academy                 ...</td>\n",
       "      <td>0.2855191256830601</td>\n",
       "      <td>N</td>\n",
       "      <td>False</td>\n",
       "      <td>True</td>\n",
       "      <td>False</td>\n",
       "    </tr>\n",
       "  </tbody>\n",
       "</table>\n",
       "</div>"
      ],
      "text/plain": [
       "                                           schoolname individualispjune2020  \\\n",
       "10                         frontier elementary school                 8.51%   \n",
       "11                  life source international charter    0.7201946472019465   \n",
       "12                            east valley senior high   0.45807770961145194   \n",
       "13                       children's community charter    0.8888888888888888   \n",
       "14                              south fork elementary   0.49640287769784175   \n",
       "15  thomas edison charter academy                 ...    0.2855191256830601   \n",
       "\n",
       "   participatingincepsy2021  is_elem_exercise  is_charter_exercise  \\\n",
       "10                        N             False                 True   \n",
       "11                        Y             False                 True   \n",
       "12                        Y             False                 True   \n",
       "13                        Y             False                 True   \n",
       "14                        Y             False                 True   \n",
       "15                        N             False                 True   \n",
       "\n",
       "    is_highschool_exercise  \n",
       "10                   False  \n",
       "11                   False  \n",
       "12                   False  \n",
       "13                   False  \n",
       "14                   False  \n",
       "15                   False  "
      ]
     },
     "execution_count": 6,
     "metadata": {},
     "output_type": "execute_result"
    }
   ],
   "source": [
    "## filter to charter exercise\n",
    "charter_ex = schools_df[schools_df.is_charter_exercise].copy()\n",
    "charter_ex.head(6)"
   ]
  },
  {
   "cell_type": "code",
   "execution_count": 13,
   "metadata": {},
   "outputs": [
    {
     "data": {
      "text/plain": [
       "[[],\n",
       " [('life source international', 'charter', '', '')],\n",
       " [],\n",
       " [(\"children's community\", 'charter', '', '')],\n",
       " [],\n",
       " [('thomas edison', 'charter', ' ', 'academy')],\n",
       " [('moving everest', 'charter', ' ', 'school')],\n",
       " [],\n",
       " [],\n",
       " [('south valley academy', 'charter', ' ', 'school')],\n",
       " [('brighter choice', 'charter', ' ', 'school')],\n",
       " [('buffalo collegiate', 'charter', ' ', 'school')],\n",
       " [('neighborhood', 'charter', ' ', 'school')],\n",
       " [],\n",
       " [],\n",
       " []]"
      ]
     },
     "execution_count": 13,
     "metadata": {},
     "output_type": "execute_result"
    }
   ],
   "source": [
    "## charter pattern\n",
    "charter_pattern = r\"(.*)\\s+(charter)(\\s+)?(\\w+)?\"\n",
    "\n",
    "## findall \n",
    "test_charter_findall = [re.findall(charter_pattern, school) \n",
    "                        for school in charter_ex.schoolname]\n",
    "\n",
    "## print result\n",
    "test_charter_findall"
   ]
  },
  {
   "cell_type": "code",
   "execution_count": 14,
   "metadata": {},
   "outputs": [
    {
     "name": "stdout",
     "output_type": "stream",
     "text": [
      "life source international\n"
     ]
    }
   ],
   "source": [
    "## show example of one\n",
    "print(test_charter_findall[1][0][0])"
   ]
  },
  {
   "cell_type": "markdown",
   "metadata": {},
   "source": [
    "## re.search"
   ]
  },
  {
   "cell_type": "code",
   "execution_count": 15,
   "metadata": {},
   "outputs": [
    {
     "data": {
      "text/plain": [
       "[None,\n",
       " <re.Match object; span=(0, 33), match='life source international charter'>,\n",
       " None,\n",
       " <re.Match object; span=(0, 28), match=\"children's community charter\">,\n",
       " None,\n",
       " <re.Match object; span=(0, 29), match='thomas edison charter academy'>,\n",
       " <re.Match object; span=(0, 29), match='moving everest charter school'>,\n",
       " None,\n",
       " None,\n",
       " <re.Match object; span=(0, 35), match='south valley academy charter school'>,\n",
       " <re.Match object; span=(0, 30), match='brighter choice charter school'>,\n",
       " <re.Match object; span=(0, 33), match='buffalo collegiate charter school'>,\n",
       " <re.Match object; span=(0, 27), match='neighborhood charter school'>,\n",
       " None,\n",
       " None,\n",
       " None]"
      ]
     },
     "execution_count": 15,
     "metadata": {},
     "output_type": "execute_result"
    }
   ],
   "source": [
    "## get matches\n",
    "test_charter_search = [re.search(charter_pattern, school) \n",
    "                       for school in charter_ex.schoolname]\n",
    "\n",
    "test_charter_search\n"
   ]
  },
  {
   "cell_type": "code",
   "execution_count": 16,
   "metadata": {},
   "outputs": [
    {
     "data": {
      "text/plain": [
       "<re.Match object; span=(0, 29), match='thomas edison charter academy'>"
      ]
     },
     "execution_count": 16,
     "metadata": {},
     "output_type": "execute_result"
    },
    {
     "data": {
      "text/plain": [
       "'thomas edison'"
      ]
     },
     "execution_count": 16,
     "metadata": {},
     "output_type": "execute_result"
    }
   ],
   "source": [
    "## extract matches\n",
    "\n",
    "### here, we're just focusing on the 3rd match or the 6th entry (thomas edison charter academy)\n",
    "### and we're getting the first group from that match\n",
    "thomas_match = test_charter_search[5]\n",
    "thomas_match\n",
    "\n",
    "### example where we're just getting the first group\n",
    "### (name of school before charter)\n",
    "thomas_firstgroup = thomas_match.group(1)\n",
    "thomas_firstgroup"
   ]
  },
  {
   "cell_type": "code",
   "execution_count": 17,
   "metadata": {},
   "outputs": [
    {
     "name": "stdout",
     "output_type": "stream",
     "text": [
      "Group 0 is: \n",
      "thomas edison charter academy\n",
      "Group 1 is: \n",
      "thomas edison\n",
      "Group 2 is: \n",
      "charter\n",
      "Group 3 is: \n",
      " \n",
      "Group 4 is: \n",
      "academy\n"
     ]
    }
   ],
   "source": [
    "### iterate over all groups and print\n",
    "for i in range(0, len(thomas_match.groups())+1):\n",
    "    print(\"Group \" + str(i) + \" is: \")\n",
    "    print(thomas_match.group(i))\n",
    "\n",
    "## see error if we go beyond actual number of \n",
    "## groups thomas_match.group(5)"
   ]
  },
  {
   "cell_type": "code",
   "execution_count": 18,
   "metadata": {},
   "outputs": [
    {
     "data": {
      "text/plain": [
       "('thomas edison', 'charter', ' ', 'academy')"
      ]
     },
     "execution_count": 18,
     "metadata": {},
     "output_type": "execute_result"
    },
    {
     "data": {
      "text/plain": [
       "('thomas edison', 'charter')"
      ]
     },
     "execution_count": 18,
     "metadata": {},
     "output_type": "execute_result"
    }
   ],
   "source": [
    "## can also extract the groups as a tuple\n",
    "## example- want to return group 1 and group 2 and paste together\n",
    "thomas_groups_all = thomas_match.groups()\n",
    "thomas_groups_all\n",
    "\n",
    "## slice the tuple\n",
    "thomas_groups_all[0:2]\n"
   ]
  },
  {
   "cell_type": "code",
   "execution_count": 19,
   "metadata": {},
   "outputs": [
    {
     "data": {
      "text/plain": [
       "['',\n",
       " 'life source international',\n",
       " '',\n",
       " \"children's community\",\n",
       " '',\n",
       " 'thomas edison',\n",
       " 'moving everest',\n",
       " '',\n",
       " '',\n",
       " 'south valley academy',\n",
       " 'brighter choice',\n",
       " 'buffalo collegiate',\n",
       " 'neighborhood',\n",
       " '',\n",
       " '',\n",
       " '']"
      ]
     },
     "execution_count": 19,
     "metadata": {},
     "output_type": "execute_result"
    }
   ],
   "source": [
    "## can generalize to the full list with ifelse\n",
    "def get_precharter_name(one_matchobj):\n",
    "    \n",
    "    if one_matchobj:\n",
    "        school_name = one_matchobj.group(1)\n",
    "    else:\n",
    "        school_name = \"\"\n",
    "    \n",
    "    return(school_name)\n",
    "\n",
    "all_charter_match = [get_precharter_name(one_search) \n",
    "                    for one_search in test_charter_search]\n",
    "\n",
    "all_charter_match"
   ]
  },
  {
   "cell_type": "markdown",
   "metadata": {},
   "source": [
    "# Group activity\n",
    "\n",
    "## Part 1: Subsetting\n",
    "Filter the data to only those rows where `is_highschool_exercise` is True."
   ]
  },
  {
   "cell_type": "code",
   "execution_count": 92,
   "metadata": {},
   "outputs": [
    {
     "data": {
      "text/html": [
       "<div>\n",
       "<style scoped>\n",
       "    .dataframe tbody tr th:only-of-type {\n",
       "        vertical-align: middle;\n",
       "    }\n",
       "\n",
       "    .dataframe tbody tr th {\n",
       "        vertical-align: top;\n",
       "    }\n",
       "\n",
       "    .dataframe thead th {\n",
       "        text-align: right;\n",
       "    }\n",
       "</style>\n",
       "<table border=\"1\" class=\"dataframe\">\n",
       "  <thead>\n",
       "    <tr style=\"text-align: right;\">\n",
       "      <th></th>\n",
       "      <th>schoolname</th>\n",
       "      <th>individualispjune2020</th>\n",
       "      <th>participatingincepsy2021</th>\n",
       "      <th>is_elem_exercise</th>\n",
       "      <th>is_charter_exercise</th>\n",
       "      <th>is_highschool_exercise</th>\n",
       "    </tr>\n",
       "  </thead>\n",
       "  <tbody>\n",
       "    <tr>\n",
       "      <th>26</th>\n",
       "      <td>mount pleasant area jshs</td>\n",
       "      <td>NaN</td>\n",
       "      <td>N</td>\n",
       "      <td>False</td>\n",
       "      <td>False</td>\n",
       "      <td>True</td>\n",
       "    </tr>\n",
       "    <tr>\n",
       "      <th>27</th>\n",
       "      <td>huron high school</td>\n",
       "      <td>0.2867</td>\n",
       "      <td>N</td>\n",
       "      <td>False</td>\n",
       "      <td>False</td>\n",
       "      <td>True</td>\n",
       "    </tr>\n",
       "    <tr>\n",
       "      <th>28</th>\n",
       "      <td>thomson high school</td>\n",
       "      <td>0.4065</td>\n",
       "      <td>Y</td>\n",
       "      <td>False</td>\n",
       "      <td>False</td>\n",
       "      <td>True</td>\n",
       "    </tr>\n",
       "    <tr>\n",
       "      <th>29</th>\n",
       "      <td>kings county office of education highland faci...</td>\n",
       "      <td>NaN</td>\n",
       "      <td>N</td>\n",
       "      <td>False</td>\n",
       "      <td>False</td>\n",
       "      <td>True</td>\n",
       "    </tr>\n",
       "    <tr>\n",
       "      <th>30</th>\n",
       "      <td>clovis east high</td>\n",
       "      <td>0.2634956587391468</td>\n",
       "      <td>N</td>\n",
       "      <td>False</td>\n",
       "      <td>False</td>\n",
       "      <td>True</td>\n",
       "    </tr>\n",
       "    <tr>\n",
       "      <th>31</th>\n",
       "      <td>camden jr. high school</td>\n",
       "      <td>0</td>\n",
       "      <td>N</td>\n",
       "      <td>False</td>\n",
       "      <td>False</td>\n",
       "      <td>True</td>\n",
       "    </tr>\n",
       "    <tr>\n",
       "      <th>32</th>\n",
       "      <td>jackson junior high</td>\n",
       "      <td>0.3253333333333333</td>\n",
       "      <td>Y</td>\n",
       "      <td>False</td>\n",
       "      <td>False</td>\n",
       "      <td>True</td>\n",
       "    </tr>\n",
       "    <tr>\n",
       "      <th>33</th>\n",
       "      <td>emmett junior high school</td>\n",
       "      <td>NaN</td>\n",
       "      <td>N</td>\n",
       "      <td>False</td>\n",
       "      <td>False</td>\n",
       "      <td>True</td>\n",
       "    </tr>\n",
       "    <tr>\n",
       "      <th>34</th>\n",
       "      <td>atkins high</td>\n",
       "      <td>0.1024</td>\n",
       "      <td>N</td>\n",
       "      <td>False</td>\n",
       "      <td>False</td>\n",
       "      <td>True</td>\n",
       "    </tr>\n",
       "    <tr>\n",
       "      <th>35</th>\n",
       "      <td>lexington senior high</td>\n",
       "      <td>0.485</td>\n",
       "      <td>Y</td>\n",
       "      <td>False</td>\n",
       "      <td>False</td>\n",
       "      <td>True</td>\n",
       "    </tr>\n",
       "    <tr>\n",
       "      <th>36</th>\n",
       "      <td>temple hs</td>\n",
       "      <td>NaN</td>\n",
       "      <td>Y</td>\n",
       "      <td>False</td>\n",
       "      <td>False</td>\n",
       "      <td>True</td>\n",
       "    </tr>\n",
       "    <tr>\n",
       "      <th>37</th>\n",
       "      <td>forest hill high school</td>\n",
       "      <td>0.9086</td>\n",
       "      <td>Y</td>\n",
       "      <td>False</td>\n",
       "      <td>False</td>\n",
       "      <td>True</td>\n",
       "    </tr>\n",
       "    <tr>\n",
       "      <th>38</th>\n",
       "      <td>pittsfield high</td>\n",
       "      <td>0.439</td>\n",
       "      <td>Y</td>\n",
       "      <td>False</td>\n",
       "      <td>False</td>\n",
       "      <td>True</td>\n",
       "    </tr>\n",
       "    <tr>\n",
       "      <th>39</th>\n",
       "      <td>matanzas high school</td>\n",
       "      <td>0.3421</td>\n",
       "      <td>N</td>\n",
       "      <td>False</td>\n",
       "      <td>False</td>\n",
       "      <td>True</td>\n",
       "    </tr>\n",
       "    <tr>\n",
       "      <th>40</th>\n",
       "      <td>pontiac high school</td>\n",
       "      <td>0.7551000000000001</td>\n",
       "      <td>Y</td>\n",
       "      <td>False</td>\n",
       "      <td>False</td>\n",
       "      <td>True</td>\n",
       "    </tr>\n",
       "  </tbody>\n",
       "</table>\n",
       "</div>"
      ],
      "text/plain": [
       "                                           schoolname individualispjune2020  \\\n",
       "26                           mount pleasant area jshs                   NaN   \n",
       "27                                  huron high school                0.2867   \n",
       "28                                thomson high school                0.4065   \n",
       "29  kings county office of education highland faci...                   NaN   \n",
       "30                                   clovis east high    0.2634956587391468   \n",
       "31                             camden jr. high school                     0   \n",
       "32                                jackson junior high    0.3253333333333333   \n",
       "33                          emmett junior high school                   NaN   \n",
       "34                                        atkins high                0.1024   \n",
       "35                              lexington senior high                 0.485   \n",
       "36                                          temple hs                   NaN   \n",
       "37                            forest hill high school                0.9086   \n",
       "38                                    pittsfield high                 0.439   \n",
       "39                               matanzas high school                0.3421   \n",
       "40                                pontiac high school    0.7551000000000001   \n",
       "\n",
       "   participatingincepsy2021  is_elem_exercise  is_charter_exercise  \\\n",
       "26                        N             False                False   \n",
       "27                        N             False                False   \n",
       "28                        Y             False                False   \n",
       "29                        N             False                False   \n",
       "30                        N             False                False   \n",
       "31                        N             False                False   \n",
       "32                        Y             False                False   \n",
       "33                        N             False                False   \n",
       "34                        N             False                False   \n",
       "35                        Y             False                False   \n",
       "36                        Y             False                False   \n",
       "37                        Y             False                False   \n",
       "38                        Y             False                False   \n",
       "39                        N             False                False   \n",
       "40                        Y             False                False   \n",
       "\n",
       "    is_highschool_exercise  \n",
       "26                    True  \n",
       "27                    True  \n",
       "28                    True  \n",
       "29                    True  \n",
       "30                    True  \n",
       "31                    True  \n",
       "32                    True  \n",
       "33                    True  \n",
       "34                    True  \n",
       "35                    True  \n",
       "36                    True  \n",
       "37                    True  \n",
       "38                    True  \n",
       "39                    True  \n",
       "40                    True  "
      ]
     },
     "execution_count": 92,
     "metadata": {},
     "output_type": "execute_result"
    }
   ],
   "source": [
    "# your code here to filter high school data\n",
    "highschool_df = schools_df[schools_df.is_highschool_exercise].copy()\n",
    "highschool_df"
   ]
  },
  {
   "cell_type": "markdown",
   "metadata": {},
   "source": [
    "## Part 2: Standardizing names\n",
    "To find the names of high schools, try out some regex patterns to standardize the high school names (e.g., 'high school' and 'high' could both become 'highschool'). AKA make everything 'highschool.'\n",
    "\n",
    "**Hint:** Look at the school names for hints on what to avoid matching--e.g., 'highland facility'. To avoid things like this, after 'high' or 'hs', have your pattern look for a space (`\\s`) or the end of the string (`$`). "
   ]
  },
  {
   "cell_type": "code",
   "execution_count": 93,
   "metadata": {},
   "outputs": [
    {
     "data": {
      "text/plain": [
       "'xx highschool'"
      ]
     },
     "execution_count": 93,
     "metadata": {},
     "output_type": "execute_result"
    }
   ],
   "source": [
    "# your code here\n",
    "hs_sub_pattern = r\"(high|hs|jshs)(\\s|$)(school)?\"\n",
    "\n",
    "# Try testing it on a few strings first\n",
    "test_string = \"xx high\"\n",
    "re.sub(hs_sub_pattern, \"highschool\", test_string)\n"
   ]
  },
  {
   "cell_type": "code",
   "execution_count": 94,
   "metadata": {},
   "outputs": [
    {
     "data": {
      "text/html": [
       "<div>\n",
       "<style scoped>\n",
       "    .dataframe tbody tr th:only-of-type {\n",
       "        vertical-align: middle;\n",
       "    }\n",
       "\n",
       "    .dataframe tbody tr th {\n",
       "        vertical-align: top;\n",
       "    }\n",
       "\n",
       "    .dataframe thead th {\n",
       "        text-align: right;\n",
       "    }\n",
       "</style>\n",
       "<table border=\"1\" class=\"dataframe\">\n",
       "  <thead>\n",
       "    <tr style=\"text-align: right;\">\n",
       "      <th></th>\n",
       "      <th>schoolname</th>\n",
       "      <th>individualispjune2020</th>\n",
       "      <th>participatingincepsy2021</th>\n",
       "      <th>is_elem_exercise</th>\n",
       "      <th>is_charter_exercise</th>\n",
       "      <th>is_highschool_exercise</th>\n",
       "      <th>cleaned_name</th>\n",
       "    </tr>\n",
       "  </thead>\n",
       "  <tbody>\n",
       "    <tr>\n",
       "      <th>26</th>\n",
       "      <td>mount pleasant area jshs</td>\n",
       "      <td>NaN</td>\n",
       "      <td>N</td>\n",
       "      <td>False</td>\n",
       "      <td>False</td>\n",
       "      <td>True</td>\n",
       "      <td>mount pleasant area highschool</td>\n",
       "    </tr>\n",
       "    <tr>\n",
       "      <th>27</th>\n",
       "      <td>huron high school</td>\n",
       "      <td>0.2867</td>\n",
       "      <td>N</td>\n",
       "      <td>False</td>\n",
       "      <td>False</td>\n",
       "      <td>True</td>\n",
       "      <td>huron highschool</td>\n",
       "    </tr>\n",
       "    <tr>\n",
       "      <th>28</th>\n",
       "      <td>thomson high school</td>\n",
       "      <td>0.4065</td>\n",
       "      <td>Y</td>\n",
       "      <td>False</td>\n",
       "      <td>False</td>\n",
       "      <td>True</td>\n",
       "      <td>thomson highschool</td>\n",
       "    </tr>\n",
       "    <tr>\n",
       "      <th>29</th>\n",
       "      <td>kings county office of education highland faci...</td>\n",
       "      <td>NaN</td>\n",
       "      <td>N</td>\n",
       "      <td>False</td>\n",
       "      <td>False</td>\n",
       "      <td>True</td>\n",
       "      <td>kings county office of education highland faci...</td>\n",
       "    </tr>\n",
       "    <tr>\n",
       "      <th>30</th>\n",
       "      <td>clovis east high</td>\n",
       "      <td>0.2634956587391468</td>\n",
       "      <td>N</td>\n",
       "      <td>False</td>\n",
       "      <td>False</td>\n",
       "      <td>True</td>\n",
       "      <td>clovis east highschool</td>\n",
       "    </tr>\n",
       "  </tbody>\n",
       "</table>\n",
       "</div>"
      ],
      "text/plain": [
       "                                           schoolname individualispjune2020  \\\n",
       "26                           mount pleasant area jshs                   NaN   \n",
       "27                                  huron high school                0.2867   \n",
       "28                                thomson high school                0.4065   \n",
       "29  kings county office of education highland faci...                   NaN   \n",
       "30                                   clovis east high    0.2634956587391468   \n",
       "\n",
       "   participatingincepsy2021  is_elem_exercise  is_charter_exercise  \\\n",
       "26                        N             False                False   \n",
       "27                        N             False                False   \n",
       "28                        Y             False                False   \n",
       "29                        N             False                False   \n",
       "30                        N             False                False   \n",
       "\n",
       "    is_highschool_exercise                                       cleaned_name  \n",
       "26                    True                     mount pleasant area highschool  \n",
       "27                    True                                   huron highschool  \n",
       "28                    True                                 thomson highschool  \n",
       "29                    True  kings county office of education highland faci...  \n",
       "30                    True                             clovis east highschool  "
      ]
     },
     "execution_count": 94,
     "metadata": {},
     "output_type": "execute_result"
    }
   ],
   "source": [
    "# your code here to standardize high school names\n",
    "highschool_df[\"cleaned_name\"] = highschool_df.schoolname.apply(lambda x: re.sub(hs_sub_pattern, \"highschool\", x))\n",
    "highschool_df.head()"
   ]
  },
  {
   "cell_type": "markdown",
   "metadata": {},
   "source": [
    "## Part 3: Match schools\n",
    "Using some example results, try writing a regex pattern and using `re.match` to get the name of the school that precedes the 'highschool' part of the name (e.g., 'new trier highschool' -> 'new trier')"
   ]
  },
  {
   "cell_type": "code",
   "execution_count": 97,
   "metadata": {},
   "outputs": [
    {
     "data": {
      "text/plain": [
       "'huron'"
      ]
     },
     "execution_count": 97,
     "metadata": {},
     "output_type": "execute_result"
    }
   ],
   "source": [
    "# your code here to extract names of high schools\n",
    "match_pattern = r\"(.+)(\\shighschool)\"\n",
    "\n",
    "match_list = [re.match(match_pattern, cleaned_name) for cleaned_name in highschool_df.cleaned_name]\n",
    "# match_list\n",
    "match_list[1].group(1)"
   ]
  },
  {
   "cell_type": "code",
   "execution_count": 102,
   "metadata": {},
   "outputs": [
    {
     "data": {
      "text/plain": [
       "26    mount pleasant area\n",
       "27                  huron\n",
       "28                thomson\n",
       "29       Nuclear Facility\n",
       "30            clovis east\n",
       "31             camden jr.\n",
       "32         jackson junior\n",
       "33          emmett junior\n",
       "34                 atkins\n",
       "35       lexington senior\n",
       "36                 temple\n",
       "37            forest hill\n",
       "38             pittsfield\n",
       "39               matanzas\n",
       "40                pontiac\n",
       "Name: short_name, dtype: object"
      ]
     },
     "execution_count": 102,
     "metadata": {},
     "output_type": "execute_result"
    }
   ],
   "source": [
    "# highschool_df[\"short_name\"] = [m.group(1) for m in match_list if m!=None]\n",
    "\n",
    "def extract(m):\n",
    "    if m != None:\n",
    "        return m.group(1)\n",
    "    return \"Nuclear Facility\"\n",
    "\n",
    "highschool_df[\"short_name\"] = [extract(m) for m in match_list]\n",
    "highschool_df[\"short_name\"]"
   ]
  },
  {
   "cell_type": "code",
   "execution_count": null,
   "metadata": {},
   "outputs": [],
   "source": [
    "# Hermia\n",
    "match_pattern = r\"(.*)\\s(highschool)(.*)\"\n",
    "\n",
    "matched_school = [re.match(match_pattern,school) for school in hs_ex[\"hs_name_cleaned\"]]\n",
    "hs_ex[\"short_name\"]=[matched_school[i].group(1) for i in range(0,hs_ex.shape[0])]\n",
    "hs_ex[\"short_name\"]"
   ]
  },
  {
   "cell_type": "code",
   "execution_count": null,
   "metadata": {},
   "outputs": [],
   "source": []
  },
  {
   "cell_type": "code",
   "execution_count": null,
   "metadata": {},
   "outputs": [],
   "source": []
  }
 ],
 "metadata": {
  "kernelspec": {
   "display_name": "Python 3 (ipykernel)",
   "language": "python",
   "name": "python3"
  },
  "language_info": {
   "codemirror_mode": {
    "name": "ipython",
    "version": 3
   },
   "file_extension": ".py",
   "mimetype": "text/x-python",
   "name": "python",
   "nbconvert_exporter": "python",
   "pygments_lexer": "ipython3",
   "version": "3.12.4"
  }
 },
 "nbformat": 4,
 "nbformat_minor": 4
}

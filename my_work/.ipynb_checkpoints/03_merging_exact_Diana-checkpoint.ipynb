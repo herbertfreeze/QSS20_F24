{
 "cells": [
  {
   "cell_type": "markdown",
   "metadata": {},
   "source": [
    "# Imports "
   ]
  },
  {
   "cell_type": "code",
   "execution_count": 1,
   "metadata": {},
   "outputs": [],
   "source": [
    "import pandas as pd\n",
    "import numpy as np\n",
    "import os\n",
    "\n",
    "## repeated printouts\n",
    "from IPython.core.interactiveshell import InteractiveShell\n",
    "InteractiveShell.ast_node_interactivity = \"all\""
   ]
  },
  {
   "cell_type": "markdown",
   "metadata": {},
   "source": [
    "## Read in data and make sure relevant columns are string/character \n",
    "\n",
    "- San Diego data: `naics_code` and `account_key`\n",
    "- NAICS details data: `naics` (North American Industry Classification Systems)\n",
    "\n",
    "Run code below; if pulling from github, pathname should be fine; if working elsewhere may need to edit path name at read in "
   ]
  },
  {
   "cell_type": "code",
   "execution_count": 2,
   "metadata": {},
   "outputs": [],
   "source": [
    "# uncomment if u need to find your path: os.getcwd()\n",
    "SD = sd_df = pd.read_csv(\"../public_data/sd_df.csv\")\n",
    "NA = naics_df = pd.read_csv(\"../public_data/naics_df.csv\")\n",
    "# SD\n",
    "# NA"
   ]
  },
  {
   "cell_type": "code",
   "execution_count": 3,
   "metadata": {},
   "outputs": [
    {
     "data": {
      "text/plain": [
       "account_key          object\n",
       "dba_name             object\n",
       "council_district     object\n",
       "naics_code           object\n",
       "naics_description    object\n",
       "naics_nchar           int64\n",
       "dtype: object"
      ]
     },
     "execution_count": 3,
     "metadata": {},
     "output_type": "execute_result"
    },
    {
     "data": {
      "text/plain": [
       "naics                object\n",
       "naics_description    object\n",
       "dtype: object"
      ]
     },
     "execution_count": 3,
     "metadata": {},
     "output_type": "execute_result"
    },
    {
     "data": {
      "text/html": [
       "<div>\n",
       "<style scoped>\n",
       "    .dataframe tbody tr th:only-of-type {\n",
       "        vertical-align: middle;\n",
       "    }\n",
       "\n",
       "    .dataframe tbody tr th {\n",
       "        vertical-align: top;\n",
       "    }\n",
       "\n",
       "    .dataframe thead th {\n",
       "        text-align: right;\n",
       "    }\n",
       "</style>\n",
       "<table border=\"1\" class=\"dataframe\">\n",
       "  <thead>\n",
       "    <tr style=\"text-align: right;\">\n",
       "      <th></th>\n",
       "      <th>account_key</th>\n",
       "      <th>dba_name</th>\n",
       "      <th>council_district</th>\n",
       "      <th>naics_code</th>\n",
       "      <th>naics_description</th>\n",
       "      <th>naics_nchar</th>\n",
       "    </tr>\n",
       "  </thead>\n",
       "  <tbody>\n",
       "    <tr>\n",
       "      <th>0</th>\n",
       "      <td>1974000448</td>\n",
       "      <td>ERNST &amp; YOUNG LLP</td>\n",
       "      <td>cd_1</td>\n",
       "      <td>541211</td>\n",
       "      <td>OFFICES OF CERTIFIED PUBLIC ACCOUNTANTS</td>\n",
       "      <td>6</td>\n",
       "    </tr>\n",
       "    <tr>\n",
       "      <th>1</th>\n",
       "      <td>1974011093</td>\n",
       "      <td>HECHT SOLBERG ROBINSON GOLDBERG &amp; BAGLEY LLP</td>\n",
       "      <td>cd_3</td>\n",
       "      <td>5411</td>\n",
       "      <td>LEGAL SERVICES</td>\n",
       "      <td>4</td>\n",
       "    </tr>\n",
       "    <tr>\n",
       "      <th>2</th>\n",
       "      <td>1978039819</td>\n",
       "      <td>RSM US LLP</td>\n",
       "      <td>cd_1</td>\n",
       "      <td>541211</td>\n",
       "      <td>OFFICES OF CERTIFIED PUBLIC ACCOUNTANTS</td>\n",
       "      <td>6</td>\n",
       "    </tr>\n",
       "    <tr>\n",
       "      <th>3</th>\n",
       "      <td>1978042092</td>\n",
       "      <td>THORSNES BARTOLOTTA MCGUIRE LLP</td>\n",
       "      <td>cd_3</td>\n",
       "      <td>5411</td>\n",
       "      <td>LEGAL SERVICES</td>\n",
       "      <td>4</td>\n",
       "    </tr>\n",
       "    <tr>\n",
       "      <th>4</th>\n",
       "      <td>1979046817</td>\n",
       "      <td>KORENIC &amp; WOJDOWSKI LLP</td>\n",
       "      <td>cd_7</td>\n",
       "      <td>5412</td>\n",
       "      <td>ACCOUNTING/TAX PREP/BOOKKEEP/PAYROLL SERVICES</td>\n",
       "      <td>4</td>\n",
       "    </tr>\n",
       "  </tbody>\n",
       "</table>\n",
       "</div>"
      ],
      "text/plain": [
       "  account_key                                      dba_name council_district  \\\n",
       "0  1974000448                             ERNST & YOUNG LLP             cd_1   \n",
       "1  1974011093  HECHT SOLBERG ROBINSON GOLDBERG & BAGLEY LLP             cd_3   \n",
       "2  1978039819                                    RSM US LLP             cd_1   \n",
       "3  1978042092               THORSNES BARTOLOTTA MCGUIRE LLP             cd_3   \n",
       "4  1979046817                       KORENIC & WOJDOWSKI LLP             cd_7   \n",
       "\n",
       "  naics_code                              naics_description  naics_nchar  \n",
       "0     541211        OFFICES OF CERTIFIED PUBLIC ACCOUNTANTS            6  \n",
       "1       5411                                 LEGAL SERVICES            4  \n",
       "2     541211        OFFICES OF CERTIFIED PUBLIC ACCOUNTANTS            6  \n",
       "3       5411                                 LEGAL SERVICES            4  \n",
       "4       5412  ACCOUNTING/TAX PREP/BOOKKEEP/PAYROLL SERVICES            4  "
      ]
     },
     "execution_count": 3,
     "metadata": {},
     "output_type": "execute_result"
    },
    {
     "data": {
      "text/html": [
       "<div>\n",
       "<style scoped>\n",
       "    .dataframe tbody tr th:only-of-type {\n",
       "        vertical-align: middle;\n",
       "    }\n",
       "\n",
       "    .dataframe tbody tr th {\n",
       "        vertical-align: top;\n",
       "    }\n",
       "\n",
       "    .dataframe thead th {\n",
       "        text-align: right;\n",
       "    }\n",
       "</style>\n",
       "<table border=\"1\" class=\"dataframe\">\n",
       "  <thead>\n",
       "    <tr style=\"text-align: right;\">\n",
       "      <th></th>\n",
       "      <th>naics</th>\n",
       "      <th>naics_description</th>\n",
       "    </tr>\n",
       "  </thead>\n",
       "  <tbody>\n",
       "    <tr>\n",
       "      <th>0</th>\n",
       "      <td>111140</td>\n",
       "      <td>Wheat Farming</td>\n",
       "    </tr>\n",
       "    <tr>\n",
       "      <th>1</th>\n",
       "      <td>111160</td>\n",
       "      <td>Rice Farming</td>\n",
       "    </tr>\n",
       "    <tr>\n",
       "      <th>2</th>\n",
       "      <td>111150</td>\n",
       "      <td>Corn Farming</td>\n",
       "    </tr>\n",
       "    <tr>\n",
       "      <th>3</th>\n",
       "      <td>111110</td>\n",
       "      <td>Soybean Farming</td>\n",
       "    </tr>\n",
       "    <tr>\n",
       "      <th>4</th>\n",
       "      <td>111120</td>\n",
       "      <td>Oilseed (except Soybean) Farming</td>\n",
       "    </tr>\n",
       "  </tbody>\n",
       "</table>\n",
       "</div>"
      ],
      "text/plain": [
       "    naics                 naics_description\n",
       "0  111140                     Wheat Farming\n",
       "1  111160                      Rice Farming\n",
       "2  111150                      Corn Farming\n",
       "3  111110                   Soybean Farming\n",
       "4  111120  Oilseed (except Soybean) Farming"
      ]
     },
     "execution_count": 3,
     "metadata": {},
     "output_type": "execute_result"
    }
   ],
   "source": [
    "cols_sd_use = [\"naics_code\", \"account_key\"]\n",
    "cols_naics_use = [\"naics\"]\n",
    "\n",
    "sd_df[cols_sd_use] = sd_df[cols_sd_use].astype(str)\n",
    "naics_df[cols_naics_use] = naics_df[cols_naics_use].astype(str)\n",
    "\n",
    "sd_df.dtypes\n",
    "naics_df.dtypes\n",
    "sd_df.head()\n",
    "naics_df.head()"
   ]
  },
  {
   "cell_type": "markdown",
   "metadata": {},
   "source": [
    "## \"Inner join\"- retain only San Diego businesses with details on their NAICS code\n",
    "\n",
    "- Use the `naics_code` column in the San Diego business data as the join key\n",
    "- Use the `naics` column in the NAICS code details data as the join key\n",
    "\n",
    "- Do an inner join of the San Diego data onto the NAICS code details using these join keys\n",
    "- After the inner join, print some examples of San Diego businesses lost in the merge\n",
    "- Use value_counts() on the `naics_nchar` column in the San Diego data to see why they might have gotten lost\n"
   ]
  },
  {
   "cell_type": "code",
   "execution_count": 8,
   "metadata": {},
   "outputs": [
    {
     "data": {
      "text/html": [
       "<div>\n",
       "<style scoped>\n",
       "    .dataframe tbody tr th:only-of-type {\n",
       "        vertical-align: middle;\n",
       "    }\n",
       "\n",
       "    .dataframe tbody tr th {\n",
       "        vertical-align: top;\n",
       "    }\n",
       "\n",
       "    .dataframe thead th {\n",
       "        text-align: right;\n",
       "    }\n",
       "</style>\n",
       "<table border=\"1\" class=\"dataframe\">\n",
       "  <thead>\n",
       "    <tr style=\"text-align: right;\">\n",
       "      <th></th>\n",
       "      <th>account_key</th>\n",
       "      <th>dba_name</th>\n",
       "      <th>council_district</th>\n",
       "      <th>naics_code</th>\n",
       "      <th>naics_description</th>\n",
       "      <th>naics_nchar</th>\n",
       "      <th>naics_code_0</th>\n",
       "    </tr>\n",
       "  </thead>\n",
       "  <tbody>\n",
       "    <tr>\n",
       "      <th>305</th>\n",
       "      <td>2020009010</td>\n",
       "      <td>SOUTH COAST VETERAN SUPPLY</td>\n",
       "      <td>cd_6</td>\n",
       "      <td>454</td>\n",
       "      <td>NONSTORE RETAILERS</td>\n",
       "      <td>3</td>\n",
       "      <td>454000</td>\n",
       "    </tr>\n",
       "    <tr>\n",
       "      <th>156</th>\n",
       "      <td>2010039235</td>\n",
       "      <td>DIAMOND ENVIRONMENTAL SERVICES LP</td>\n",
       "      <td>cd_6</td>\n",
       "      <td>81</td>\n",
       "      <td>OTHER BUSINESS SERVICES</td>\n",
       "      <td>2</td>\n",
       "      <td>810000</td>\n",
       "    </tr>\n",
       "    <tr>\n",
       "      <th>297</th>\n",
       "      <td>2020007523</td>\n",
       "      <td>ODAI AUTO SALES</td>\n",
       "      <td>cd_6</td>\n",
       "      <td>44112</td>\n",
       "      <td>USED CAR DEALERS</td>\n",
       "      <td>5</td>\n",
       "      <td>441120</td>\n",
       "    </tr>\n",
       "    <tr>\n",
       "      <th>113</th>\n",
       "      <td>2007017498</td>\n",
       "      <td>SHANTALLA LTD</td>\n",
       "      <td>cd_6</td>\n",
       "      <td>53119</td>\n",
       "      <td>LESSORS OF OTHER REAL ESTATE PROPERTY</td>\n",
       "      <td>5</td>\n",
       "      <td>531190</td>\n",
       "    </tr>\n",
       "    <tr>\n",
       "      <th>158</th>\n",
       "      <td>2011032913</td>\n",
       "      <td>A-1 SELF STORAGE</td>\n",
       "      <td>cd_6</td>\n",
       "      <td>453</td>\n",
       "      <td>MISCELLANEOUS STORE RETAILERS</td>\n",
       "      <td>3</td>\n",
       "      <td>453000</td>\n",
       "    </tr>\n",
       "  </tbody>\n",
       "</table>\n",
       "</div>"
      ],
      "text/plain": [
       "    account_key                           dba_name council_district  \\\n",
       "305  2020009010         SOUTH COAST VETERAN SUPPLY             cd_6   \n",
       "156  2010039235  DIAMOND ENVIRONMENTAL SERVICES LP             cd_6   \n",
       "297  2020007523                    ODAI AUTO SALES             cd_6   \n",
       "113  2007017498                      SHANTALLA LTD             cd_6   \n",
       "158  2011032913                   A-1 SELF STORAGE             cd_6   \n",
       "\n",
       "    naics_code                      naics_description  naics_nchar  \\\n",
       "305        454                     NONSTORE RETAILERS            3   \n",
       "156         81                OTHER BUSINESS SERVICES            2   \n",
       "297      44112                       USED CAR DEALERS            5   \n",
       "113      53119  LESSORS OF OTHER REAL ESTATE PROPERTY            5   \n",
       "158        453          MISCELLANEOUS STORE RETAILERS            3   \n",
       "\n",
       "    naics_code_0  \n",
       "305       454000  \n",
       "156       810000  \n",
       "297       441120  \n",
       "113       531190  \n",
       "158       453000  "
      ]
     },
     "execution_count": 8,
     "metadata": {},
     "output_type": "execute_result"
    },
    {
     "data": {
      "text/plain": [
       "naics_nchar\n",
       "6    52\n",
       "Name: count, dtype: int64"
      ]
     },
     "execution_count": 8,
     "metadata": {},
     "output_type": "execute_result"
    },
    {
     "data": {
      "text/plain": [
       "naics_nchar\n",
       "5    150\n",
       "4     89\n",
       "6     49\n",
       "3     42\n",
       "2     23\n",
       "Name: count, dtype: int64"
      ]
     },
     "execution_count": 8,
     "metadata": {},
     "output_type": "execute_result"
    }
   ],
   "source": [
    "# your code here\n",
    "inner_merged = SD.merge(NA, how = \"inner\", left_on = \"naics_code\", right_on = \"naics\")\n",
    "# inner_merged.head()\n",
    "\n",
    "SD[~SD.naics_code.isin(inner_merged.naics_code)].sample(5)\n",
    "\n",
    "inner_merged.value_counts(\"naics_nchar\")\n",
    "SD.value_counts(\"naics_nchar\")"
   ]
  },
  {
   "cell_type": "markdown",
   "metadata": {},
   "source": [
    "## \"Left join\"- retain all sd businesses even if naics code isn't in `naics_df`\n",
    "\n",
    "- Using the same join keys as above, and treating the San Diego businesses as the left hand side data, left join the naics code details onto the San Diego businesses\n",
    "- Use the `indicator` argument within merge to create an indicator, `naics_merge_status`, to help with later merge diagnostics and examine sample of ones that didn't merge\n",
    "- Use the `suffixes` argument within merge to add `_sd` as the left suffix, `_census` as the right suffix\n",
    "- Use `naics_merge_status` in the merged result to look at a sample of San Diego businesses that weren't matched with `naics_df`"
   ]
  },
  {
   "cell_type": "code",
   "execution_count": 5,
   "metadata": {},
   "outputs": [
    {
     "data": {
      "text/html": [
       "<div>\n",
       "<style scoped>\n",
       "    .dataframe tbody tr th:only-of-type {\n",
       "        vertical-align: middle;\n",
       "    }\n",
       "\n",
       "    .dataframe tbody tr th {\n",
       "        vertical-align: top;\n",
       "    }\n",
       "\n",
       "    .dataframe thead th {\n",
       "        text-align: right;\n",
       "    }\n",
       "</style>\n",
       "<table border=\"1\" class=\"dataframe\">\n",
       "  <thead>\n",
       "    <tr style=\"text-align: right;\">\n",
       "      <th></th>\n",
       "      <th>account_key</th>\n",
       "      <th>dba_name</th>\n",
       "      <th>council_district</th>\n",
       "      <th>naics_code</th>\n",
       "      <th>naics_description_sd</th>\n",
       "      <th>naics_nchar</th>\n",
       "      <th>naics</th>\n",
       "      <th>naics_description_census</th>\n",
       "      <th>naics_merge_status</th>\n",
       "    </tr>\n",
       "  </thead>\n",
       "  <tbody>\n",
       "    <tr>\n",
       "      <th>313</th>\n",
       "      <td>2020007887</td>\n",
       "      <td>EUROWAY ENTERPRISES LLC</td>\n",
       "      <td>cd_5</td>\n",
       "      <td>42</td>\n",
       "      <td>WHOLESALE TRADE</td>\n",
       "      <td>2</td>\n",
       "      <td>NaN</td>\n",
       "      <td>NaN</td>\n",
       "      <td>left_only</td>\n",
       "    </tr>\n",
       "    <tr>\n",
       "      <th>212</th>\n",
       "      <td>2016016584</td>\n",
       "      <td>AJMD BURBANK LLC</td>\n",
       "      <td>cd_1</td>\n",
       "      <td>5313</td>\n",
       "      <td>ACTIVITIES RELATED TO REAL ESTATE</td>\n",
       "      <td>4</td>\n",
       "      <td>NaN</td>\n",
       "      <td>NaN</td>\n",
       "      <td>left_only</td>\n",
       "    </tr>\n",
       "    <tr>\n",
       "      <th>262</th>\n",
       "      <td>2019013900</td>\n",
       "      <td>CUBESMART</td>\n",
       "      <td>cd_6</td>\n",
       "      <td>49319</td>\n",
       "      <td>OTHER WAREHOUSING &amp; STORAGE</td>\n",
       "      <td>5</td>\n",
       "      <td>NaN</td>\n",
       "      <td>NaN</td>\n",
       "      <td>left_only</td>\n",
       "    </tr>\n",
       "    <tr>\n",
       "      <th>333</th>\n",
       "      <td>2020012581</td>\n",
       "      <td>J &amp; B FINE GOODS</td>\n",
       "      <td>cd_2</td>\n",
       "      <td>44</td>\n",
       "      <td>RETAIL TRADE</td>\n",
       "      <td>2</td>\n",
       "      <td>NaN</td>\n",
       "      <td>NaN</td>\n",
       "      <td>left_only</td>\n",
       "    </tr>\n",
       "    <tr>\n",
       "      <th>37</th>\n",
       "      <td>1999007566</td>\n",
       "      <td>BUTTERFIELD-SCHECHTER LLP</td>\n",
       "      <td>cd_5</td>\n",
       "      <td>5411</td>\n",
       "      <td>LEGAL SERVICES</td>\n",
       "      <td>4</td>\n",
       "      <td>NaN</td>\n",
       "      <td>NaN</td>\n",
       "      <td>left_only</td>\n",
       "    </tr>\n",
       "  </tbody>\n",
       "</table>\n",
       "</div>"
      ],
      "text/plain": [
       "    account_key                   dba_name council_district naics_code  \\\n",
       "313  2020007887    EUROWAY ENTERPRISES LLC             cd_5         42   \n",
       "212  2016016584           AJMD BURBANK LLC             cd_1       5313   \n",
       "262  2019013900                  CUBESMART             cd_6      49319   \n",
       "333  2020012581           J & B FINE GOODS             cd_2         44   \n",
       "37   1999007566  BUTTERFIELD-SCHECHTER LLP             cd_5       5411   \n",
       "\n",
       "                  naics_description_sd  naics_nchar naics  \\\n",
       "313                    WHOLESALE TRADE            2   NaN   \n",
       "212  ACTIVITIES RELATED TO REAL ESTATE            4   NaN   \n",
       "262        OTHER WAREHOUSING & STORAGE            5   NaN   \n",
       "333                       RETAIL TRADE            2   NaN   \n",
       "37                      LEGAL SERVICES            4   NaN   \n",
       "\n",
       "    naics_description_census naics_merge_status  \n",
       "313                      NaN          left_only  \n",
       "212                      NaN          left_only  \n",
       "262                      NaN          left_only  \n",
       "333                      NaN          left_only  \n",
       "37                       NaN          left_only  "
      ]
     },
     "execution_count": 5,
     "metadata": {},
     "output_type": "execute_result"
    }
   ],
   "source": [
    "# your code here\n",
    "left_merged = SD.merge(NA, how = \"left\", left_on = \"naics_code\", right_on = \"naics\", indicator = \"naics_merge_status\", suffixes = (\"_sd\", \"_census\"))\n",
    "# left_merged\n",
    "\n",
    "left_merged[left_merged.naics_merge_status == \"left_only\"].sample(5)"
   ]
  },
  {
   "cell_type": "code",
   "execution_count": 11,
   "metadata": {},
   "outputs": [
    {
     "data": {
      "text/plain": [
       "naics_merge_status\n",
       "left_only     0.859459\n",
       "both          0.140541\n",
       "right_only    0.000000\n",
       "Name: proportion, dtype: float64"
      ]
     },
     "execution_count": 11,
     "metadata": {},
     "output_type": "execute_result"
    }
   ],
   "source": [
    "left_merged.naics_merge_status.value_counts(normalize = True) # no right_only"
   ]
  },
  {
   "cell_type": "markdown",
   "metadata": {},
   "source": [
    "## Use group by and agg to see if there are differences in merge rates by area\n",
    "\n",
    "- Using the left-joined dataframe created in previous step, create a boolean indicator, `is_lost`, that equals `True` if the merge indicator is equal to \"left_only\" (and is otherwise false)\n",
    "- Find the proportion of businesses by council district that were lost in the left join (SD businesses that failed to match to `naics_df`). To do this, group by `council_district` and use the shortcut of taking the mean of the `is_lost` indicator to find the proportions lost by `council_district`. "
   ]
  },
  {
   "cell_type": "code",
   "execution_count": 6,
   "metadata": {},
   "outputs": [
    {
     "data": {
      "text/plain": [
       "(370, 10)"
      ]
     },
     "execution_count": 6,
     "metadata": {},
     "output_type": "execute_result"
    },
    {
     "data": {
      "text/plain": [
       "council_district\n",
       "cd_1    0.880597\n",
       "cd_2    0.804348\n",
       "cd_3    0.812500\n",
       "cd_4    1.000000\n",
       "cd_5    0.916667\n",
       "cd_6    0.859649\n",
       "cd_7    0.918919\n",
       "cd_8    0.933333\n",
       "cd_9    1.000000\n",
       "Name: is_lost, dtype: float64"
      ]
     },
     "execution_count": 6,
     "metadata": {},
     "output_type": "execute_result"
    }
   ],
   "source": [
    "# your code here\n",
    "left_merged[\"is_lost\"] = np.where(left_merged.naics_merge_status == \"left_only\", True, False)\n",
    "left_merged.shape\n",
    "\n",
    "left_merged.groupby(\"council_district\")[\"is_lost\"].mean()"
   ]
  },
  {
   "cell_type": "markdown",
   "metadata": {},
   "source": [
    "## Optional challenge exercise: add lagging 0's and see if merge rate improves\n",
    "\n",
    "You noticed earlier that a big reason for non-matches is that the San Diego tax certificate NAICS codes were often less than six digits long, while the Census ones were always 6 digits.\n",
    "\n",
    "You wonder if this is an issue where 0's in some of the SD's data naics codes got cut off (eg 540000 became 54), and if so whether adding these lagging zeros would improve the merge rate in a left join.\n",
    "\n",
    "- Pad the `naics_code` column in `sd_df` with 0's to get that column up to 6-digits, using one of two approaches: \n",
    "  1. `str.pad` in pandas (https://pandas.pydata.org/docs/reference/api/pandas.Series.str.pad.html)\n",
    "  2. for more of a challenge, write your own function! It should check the # of digits in the naics code string and pad it with 0's at the end up to 6 digits. To execute your function, use row-wise apply: `df.apply(lambda row: funcname(row.column), axis=1)`.\n",
    "- Perform the same left join as above and see how the match rate changes\n",
    "- Create an indicator variable--`is_new_match`---for new matches under the padded NAICS code; compare the `naics_description` column from San Diego versus Census in the new dataset for a sample of these new matches and comment on whether the padding seems to be correct"
   ]
  },
  {
   "cell_type": "code",
   "execution_count": 7,
   "metadata": {},
   "outputs": [
    {
     "data": {
      "text/plain": [
       "council_district\n",
       "cd_1    0.546667\n",
       "cd_2    0.555556\n",
       "cd_3    0.348148\n",
       "cd_4    1.000000\n",
       "cd_5    0.483871\n",
       "cd_6    0.445946\n",
       "cd_7    0.560976\n",
       "cd_8    0.333333\n",
       "cd_9    1.000000\n",
       "Name: is_lost, dtype: float64"
      ]
     },
     "execution_count": 7,
     "metadata": {},
     "output_type": "execute_result"
    }
   ],
   "source": [
    "SD[\"naics_code_0\"] = SD.naics_code.str.pad(width = 6, side = \"right\", fillchar = \"0\")\n",
    "\n",
    "left_merged_2 = SD.merge(NA, how = \"left\", left_on = \"naics_code_0\", right_on = \"naics\", indicator = \"naics_merge_status\", suffixes = (\"_sd\", \"_census\"))\n",
    "\n",
    "left_merged_2[\"is_lost\"] = np.where(left_merged_2.naics_merge_status == \"left_only\", True, False)\n",
    "\n",
    "left_merged_2.groupby(\"council_district\")[\"is_lost\"].mean()\n",
    "\n",
    "# left_merged_2[~left_merged_2.account_key.isin(left_merged.account_key)]\n",
    "\n",
    "#left_merged_2[\"is_new_match\"] = np.where(left_merged_2.account_key.isin(left_merged.account_key), False ,True)\n",
    "#left_merged_2.shape\n",
    "\n",
    "# left_merged_2[left_merged_2.is_new_match][[\"naics_description_sd\", \"naics_description_census\"]].sample(5)"
   ]
  },
  {
   "cell_type": "code",
   "execution_count": null,
   "metadata": {},
   "outputs": [],
   "source": [
    "def padZeros(naics):\n",
    "    if len(naics) < 6:\n",
    "        necessary_zeros = 6 - len(naics)\n",
    "        return naics + \"0\" * necessary_zeros\n",
    "    return naics"
   ]
  }
 ],
 "metadata": {
  "kernelspec": {
   "display_name": "Python 3 (ipykernel)",
   "language": "python",
   "name": "python3"
  },
  "language_info": {
   "codemirror_mode": {
    "name": "ipython",
    "version": 3
   },
   "file_extension": ".py",
   "mimetype": "text/x-python",
   "name": "python",
   "nbconvert_exporter": "python",
   "pygments_lexer": "ipython3",
   "version": "3.12.4"
  }
 },
 "nbformat": 4,
 "nbformat_minor": 4
}

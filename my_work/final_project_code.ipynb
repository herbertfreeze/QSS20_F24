{
 "cells": [
  {
   "cell_type": "markdown",
   "id": "18853364-3287-455c-8f7d-aed27d2d056f",
   "metadata": {},
   "source": [
    "## QSS20 Final Project\n",
    "### Election Dataset\n",
    "### Hermia, Taylor, Diana"
   ]
  },
  {
   "cell_type": "code",
   "execution_count": null,
   "id": "66bd0065-2028-4941-8176-00fc9fd14764",
   "metadata": {},
   "outputs": [],
   "source": []
  }
 ],
 "metadata": {
  "kernelspec": {
   "display_name": "Python 3 (ipykernel)",
   "language": "python",
   "name": "python3"
  },
  "language_info": {
   "codemirror_mode": {
    "name": "ipython",
    "version": 3
   },
   "file_extension": ".py",
   "mimetype": "text/x-python",
   "name": "python",
   "nbconvert_exporter": "python",
   "pygments_lexer": "ipython3",
   "version": "3.10.15"
  }
 },
 "nbformat": 4,
 "nbformat_minor": 5
}

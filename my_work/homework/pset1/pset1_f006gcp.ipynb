{
 "cells": [
  {
   "cell_type": "markdown",
   "metadata": {},
   "source": [
    "# Problem Set 1: Analysis of racial disparities in felony sentencing"
   ]
  },
  {
   "cell_type": "markdown",
   "metadata": {},
   "source": [
    "Group Members: Hermia Huang, Taylor Wen, Diana Wang"
   ]
  },
  {
   "cell_type": "markdown",
   "metadata": {},
   "source": [
    "# 0. Load packages and imports"
   ]
  },
  {
   "cell_type": "code",
   "execution_count": 1,
   "metadata": {},
   "outputs": [],
   "source": [
    "## basic functionality\n",
    "import pandas as pd\n",
    "import numpy as np\n",
    "import re\n",
    "import matplotlib.pyplot as plt\n",
    "\n",
    "## can add others if you need them\n",
    "\n",
    "## repeated printouts\n",
    "from IPython.core.interactiveshell import InteractiveShell\n",
    "InteractiveShell.ast_node_interactivity = \"all\"\n"
   ]
  },
  {
   "cell_type": "markdown",
   "metadata": {},
   "source": [
    "## 0.1: Load the data (0 points)\n",
    "\n",
    "Load the `sentencing_asof0405.csv` data\n",
    "\n",
    "*Notes*: You may receive a warning about mixed data types upon import; feel free to ignore"
   ]
  },
  {
   "cell_type": "code",
   "execution_count": 3,
   "metadata": {},
   "outputs": [
    {
     "name": "stderr",
     "output_type": "stream",
     "text": [
      "/var/folders/w7/k4k3jfz96q7_tpr10dw1cs580000gn/T/ipykernel_39559/2103473006.py:1: DtypeWarning: Columns (10,11,14,25) have mixed types. Specify dtype option on import or set low_memory=False.\n",
      "  df = pd.read_csv(\"sentencing_asof0405.csv\")\n"
     ]
    }
   ],
   "source": [
    "df = pd.read_csv(\"sentencing_asof0405.csv\")"
   ]
  },
  {
   "cell_type": "markdown",
   "metadata": {},
   "source": [
    "## 0.2: Print head, dimensions, info (0 points)"
   ]
  },
  {
   "cell_type": "code",
   "execution_count": 4,
   "metadata": {},
   "outputs": [
    {
     "data": {
      "text/html": [
       "<div>\n",
       "<style scoped>\n",
       "    .dataframe tbody tr th:only-of-type {\n",
       "        vertical-align: middle;\n",
       "    }\n",
       "\n",
       "    .dataframe tbody tr th {\n",
       "        vertical-align: top;\n",
       "    }\n",
       "\n",
       "    .dataframe thead th {\n",
       "        text-align: right;\n",
       "    }\n",
       "</style>\n",
       "<table border=\"1\" class=\"dataframe\">\n",
       "  <thead>\n",
       "    <tr style=\"text-align: right;\">\n",
       "      <th></th>\n",
       "      <th>CASE_ID</th>\n",
       "      <th>CASE_PARTICIPANT_ID</th>\n",
       "      <th>RECEIVED_DATE</th>\n",
       "      <th>OFFENSE_CATEGORY</th>\n",
       "      <th>PRIMARY_CHARGE_FLAG</th>\n",
       "      <th>CHARGE_ID</th>\n",
       "      <th>CHARGE_VERSION_ID</th>\n",
       "      <th>DISPOSITION_CHARGED_OFFENSE_TITLE</th>\n",
       "      <th>CHARGE_COUNT</th>\n",
       "      <th>DISPOSITION_DATE</th>\n",
       "      <th>...</th>\n",
       "      <th>INCIDENT_CITY</th>\n",
       "      <th>INCIDENT_BEGIN_DATE</th>\n",
       "      <th>INCIDENT_END_DATE</th>\n",
       "      <th>LAW_ENFORCEMENT_AGENCY</th>\n",
       "      <th>LAW_ENFORCEMENT_UNIT</th>\n",
       "      <th>ARREST_DATE</th>\n",
       "      <th>FELONY_REVIEW_DATE</th>\n",
       "      <th>FELONY_REVIEW_RESULT</th>\n",
       "      <th>ARRAIGNMENT_DATE</th>\n",
       "      <th>UPDATED_OFFENSE_CATEGORY</th>\n",
       "    </tr>\n",
       "  </thead>\n",
       "  <tbody>\n",
       "    <tr>\n",
       "      <th>0</th>\n",
       "      <td>149765331439</td>\n",
       "      <td>175691153649</td>\n",
       "      <td>8/15/1984 12:00:00 AM</td>\n",
       "      <td>PROMIS Conversion</td>\n",
       "      <td>False</td>\n",
       "      <td>50510112469</td>\n",
       "      <td>116304211997</td>\n",
       "      <td>FIRST DEGREE MURDER</td>\n",
       "      <td>2</td>\n",
       "      <td>12/17/2014 12:00:00 AM</td>\n",
       "      <td>...</td>\n",
       "      <td>NaN</td>\n",
       "      <td>8/9/1984 12:00:00 AM</td>\n",
       "      <td>NaN</td>\n",
       "      <td>CHICAGO POLICE DEPT</td>\n",
       "      <td>NaN</td>\n",
       "      <td>8/15/1984 12:00:00 AM</td>\n",
       "      <td>08/15/1984 12:00:00 AM</td>\n",
       "      <td>Charge(S) Approved</td>\n",
       "      <td>9/21/1984 12:00:00 AM</td>\n",
       "      <td>Homicide</td>\n",
       "    </tr>\n",
       "    <tr>\n",
       "      <th>1</th>\n",
       "      <td>149765331439</td>\n",
       "      <td>175691153649</td>\n",
       "      <td>8/15/1984 12:00:00 AM</td>\n",
       "      <td>PROMIS Conversion</td>\n",
       "      <td>False</td>\n",
       "      <td>50510213021</td>\n",
       "      <td>98265074680</td>\n",
       "      <td>HOME INVASION</td>\n",
       "      <td>14</td>\n",
       "      <td>12/17/2014 12:00:00 AM</td>\n",
       "      <td>...</td>\n",
       "      <td>NaN</td>\n",
       "      <td>8/9/1984 12:00:00 AM</td>\n",
       "      <td>NaN</td>\n",
       "      <td>CHICAGO POLICE DEPT</td>\n",
       "      <td>NaN</td>\n",
       "      <td>8/15/1984 12:00:00 AM</td>\n",
       "      <td>08/15/1984 12:00:00 AM</td>\n",
       "      <td>Charge(S) Approved</td>\n",
       "      <td>9/21/1984 12:00:00 AM</td>\n",
       "      <td>Homicide</td>\n",
       "    </tr>\n",
       "    <tr>\n",
       "      <th>2</th>\n",
       "      <td>149765331439</td>\n",
       "      <td>175691153649</td>\n",
       "      <td>8/15/1984 12:00:00 AM</td>\n",
       "      <td>PROMIS Conversion</td>\n",
       "      <td>False</td>\n",
       "      <td>50516447217</td>\n",
       "      <td>131972895911</td>\n",
       "      <td>FIRST DEGREE MURDER</td>\n",
       "      <td>4</td>\n",
       "      <td>12/17/2014 12:00:00 AM</td>\n",
       "      <td>...</td>\n",
       "      <td>NaN</td>\n",
       "      <td>8/9/1984 12:00:00 AM</td>\n",
       "      <td>NaN</td>\n",
       "      <td>CHICAGO POLICE DEPT</td>\n",
       "      <td>NaN</td>\n",
       "      <td>8/15/1984 12:00:00 AM</td>\n",
       "      <td>08/15/1984 12:00:00 AM</td>\n",
       "      <td>Charge(S) Approved</td>\n",
       "      <td>9/21/1984 12:00:00 AM</td>\n",
       "      <td>Homicide</td>\n",
       "    </tr>\n",
       "    <tr>\n",
       "      <th>3</th>\n",
       "      <td>149765331439</td>\n",
       "      <td>175691153649</td>\n",
       "      <td>8/15/1984 12:00:00 AM</td>\n",
       "      <td>PROMIS Conversion</td>\n",
       "      <td>False</td>\n",
       "      <td>50516497493</td>\n",
       "      <td>131966356472</td>\n",
       "      <td>FIRST DEGREE MURDER</td>\n",
       "      <td>5</td>\n",
       "      <td>12/17/2014 12:00:00 AM</td>\n",
       "      <td>...</td>\n",
       "      <td>NaN</td>\n",
       "      <td>8/9/1984 12:00:00 AM</td>\n",
       "      <td>NaN</td>\n",
       "      <td>CHICAGO POLICE DEPT</td>\n",
       "      <td>NaN</td>\n",
       "      <td>8/15/1984 12:00:00 AM</td>\n",
       "      <td>08/15/1984 12:00:00 AM</td>\n",
       "      <td>Charge(S) Approved</td>\n",
       "      <td>9/21/1984 12:00:00 AM</td>\n",
       "      <td>Homicide</td>\n",
       "    </tr>\n",
       "    <tr>\n",
       "      <th>4</th>\n",
       "      <td>149765331439</td>\n",
       "      <td>175691153649</td>\n",
       "      <td>8/15/1984 12:00:00 AM</td>\n",
       "      <td>PROMIS Conversion</td>\n",
       "      <td>False</td>\n",
       "      <td>50516648320</td>\n",
       "      <td>98059642859</td>\n",
       "      <td>HOME INVASION</td>\n",
       "      <td>13</td>\n",
       "      <td>12/17/2014 12:00:00 AM</td>\n",
       "      <td>...</td>\n",
       "      <td>NaN</td>\n",
       "      <td>8/9/1984 12:00:00 AM</td>\n",
       "      <td>NaN</td>\n",
       "      <td>CHICAGO POLICE DEPT</td>\n",
       "      <td>NaN</td>\n",
       "      <td>8/15/1984 12:00:00 AM</td>\n",
       "      <td>08/15/1984 12:00:00 AM</td>\n",
       "      <td>Charge(S) Approved</td>\n",
       "      <td>9/21/1984 12:00:00 AM</td>\n",
       "      <td>Homicide</td>\n",
       "    </tr>\n",
       "    <tr>\n",
       "      <th>5</th>\n",
       "      <td>149765331439</td>\n",
       "      <td>175691153649</td>\n",
       "      <td>8/15/1984 12:00:00 AM</td>\n",
       "      <td>PROMIS Conversion</td>\n",
       "      <td>False</td>\n",
       "      <td>50516648320</td>\n",
       "      <td>98059642859</td>\n",
       "      <td>HOME INVASION</td>\n",
       "      <td>13</td>\n",
       "      <td>12/17/2014 12:00:00 AM</td>\n",
       "      <td>...</td>\n",
       "      <td>NaN</td>\n",
       "      <td>8/9/1984 12:00:00 AM</td>\n",
       "      <td>NaN</td>\n",
       "      <td>CHICAGO POLICE DEPT</td>\n",
       "      <td>NaN</td>\n",
       "      <td>8/15/1984 12:00:00 AM</td>\n",
       "      <td>08/15/1984 12:00:00 AM</td>\n",
       "      <td>Charge(S) Approved</td>\n",
       "      <td>9/21/1984 12:00:00 AM</td>\n",
       "      <td>Homicide</td>\n",
       "    </tr>\n",
       "    <tr>\n",
       "      <th>6</th>\n",
       "      <td>149765331439</td>\n",
       "      <td>175691153649</td>\n",
       "      <td>8/15/1984 12:00:00 AM</td>\n",
       "      <td>PROMIS Conversion</td>\n",
       "      <td>False</td>\n",
       "      <td>50516698596</td>\n",
       "      <td>112267602827</td>\n",
       "      <td>ARMED ROBBERY</td>\n",
       "      <td>15</td>\n",
       "      <td>12/17/2014 12:00:00 AM</td>\n",
       "      <td>...</td>\n",
       "      <td>NaN</td>\n",
       "      <td>8/9/1984 12:00:00 AM</td>\n",
       "      <td>NaN</td>\n",
       "      <td>CHICAGO POLICE DEPT</td>\n",
       "      <td>NaN</td>\n",
       "      <td>8/15/1984 12:00:00 AM</td>\n",
       "      <td>08/15/1984 12:00:00 AM</td>\n",
       "      <td>Charge(S) Approved</td>\n",
       "      <td>9/21/1984 12:00:00 AM</td>\n",
       "      <td>Homicide</td>\n",
       "    </tr>\n",
       "    <tr>\n",
       "      <th>7</th>\n",
       "      <td>149765331439</td>\n",
       "      <td>175691153649</td>\n",
       "      <td>8/15/1984 12:00:00 AM</td>\n",
       "      <td>PROMIS Conversion</td>\n",
       "      <td>False</td>\n",
       "      <td>50516698596</td>\n",
       "      <td>112267602827</td>\n",
       "      <td>ARMED ROBBERY</td>\n",
       "      <td>15</td>\n",
       "      <td>12/17/2014 12:00:00 AM</td>\n",
       "      <td>...</td>\n",
       "      <td>NaN</td>\n",
       "      <td>8/9/1984 12:00:00 AM</td>\n",
       "      <td>NaN</td>\n",
       "      <td>CHICAGO POLICE DEPT</td>\n",
       "      <td>NaN</td>\n",
       "      <td>8/15/1984 12:00:00 AM</td>\n",
       "      <td>08/15/1984 12:00:00 AM</td>\n",
       "      <td>Charge(S) Approved</td>\n",
       "      <td>9/21/1984 12:00:00 AM</td>\n",
       "      <td>Homicide</td>\n",
       "    </tr>\n",
       "    <tr>\n",
       "      <th>8</th>\n",
       "      <td>149765331439</td>\n",
       "      <td>175691153649</td>\n",
       "      <td>8/15/1984 12:00:00 AM</td>\n",
       "      <td>PROMIS Conversion</td>\n",
       "      <td>False</td>\n",
       "      <td>50516748872</td>\n",
       "      <td>112265921257</td>\n",
       "      <td>ARMED ROBBERY</td>\n",
       "      <td>16</td>\n",
       "      <td>12/17/2014 12:00:00 AM</td>\n",
       "      <td>...</td>\n",
       "      <td>NaN</td>\n",
       "      <td>8/9/1984 12:00:00 AM</td>\n",
       "      <td>NaN</td>\n",
       "      <td>CHICAGO POLICE DEPT</td>\n",
       "      <td>NaN</td>\n",
       "      <td>8/15/1984 12:00:00 AM</td>\n",
       "      <td>08/15/1984 12:00:00 AM</td>\n",
       "      <td>Charge(S) Approved</td>\n",
       "      <td>9/21/1984 12:00:00 AM</td>\n",
       "      <td>Homicide</td>\n",
       "    </tr>\n",
       "    <tr>\n",
       "      <th>9</th>\n",
       "      <td>149765331439</td>\n",
       "      <td>175691153649</td>\n",
       "      <td>8/15/1984 12:00:00 AM</td>\n",
       "      <td>PROMIS Conversion</td>\n",
       "      <td>True</td>\n",
       "      <td>50510062193</td>\n",
       "      <td>112898098217</td>\n",
       "      <td>FIRST DEGREE MURDER</td>\n",
       "      <td>1</td>\n",
       "      <td>12/17/2014 12:00:00 AM</td>\n",
       "      <td>...</td>\n",
       "      <td>NaN</td>\n",
       "      <td>8/9/1984 12:00:00 AM</td>\n",
       "      <td>NaN</td>\n",
       "      <td>CHICAGO POLICE DEPT</td>\n",
       "      <td>NaN</td>\n",
       "      <td>8/15/1984 12:00:00 AM</td>\n",
       "      <td>08/15/1984 12:00:00 AM</td>\n",
       "      <td>Charge(S) Approved</td>\n",
       "      <td>9/21/1984 12:00:00 AM</td>\n",
       "      <td>Homicide</td>\n",
       "    </tr>\n",
       "  </tbody>\n",
       "</table>\n",
       "<p>10 rows × 41 columns</p>\n",
       "</div>"
      ],
      "text/plain": [
       "        CASE_ID  CASE_PARTICIPANT_ID          RECEIVED_DATE  \\\n",
       "0  149765331439         175691153649  8/15/1984 12:00:00 AM   \n",
       "1  149765331439         175691153649  8/15/1984 12:00:00 AM   \n",
       "2  149765331439         175691153649  8/15/1984 12:00:00 AM   \n",
       "3  149765331439         175691153649  8/15/1984 12:00:00 AM   \n",
       "4  149765331439         175691153649  8/15/1984 12:00:00 AM   \n",
       "5  149765331439         175691153649  8/15/1984 12:00:00 AM   \n",
       "6  149765331439         175691153649  8/15/1984 12:00:00 AM   \n",
       "7  149765331439         175691153649  8/15/1984 12:00:00 AM   \n",
       "8  149765331439         175691153649  8/15/1984 12:00:00 AM   \n",
       "9  149765331439         175691153649  8/15/1984 12:00:00 AM   \n",
       "\n",
       "    OFFENSE_CATEGORY  PRIMARY_CHARGE_FLAG    CHARGE_ID  CHARGE_VERSION_ID  \\\n",
       "0  PROMIS Conversion                False  50510112469       116304211997   \n",
       "1  PROMIS Conversion                False  50510213021        98265074680   \n",
       "2  PROMIS Conversion                False  50516447217       131972895911   \n",
       "3  PROMIS Conversion                False  50516497493       131966356472   \n",
       "4  PROMIS Conversion                False  50516648320        98059642859   \n",
       "5  PROMIS Conversion                False  50516648320        98059642859   \n",
       "6  PROMIS Conversion                False  50516698596       112267602827   \n",
       "7  PROMIS Conversion                False  50516698596       112267602827   \n",
       "8  PROMIS Conversion                False  50516748872       112265921257   \n",
       "9  PROMIS Conversion                 True  50510062193       112898098217   \n",
       "\n",
       "  DISPOSITION_CHARGED_OFFENSE_TITLE  CHARGE_COUNT        DISPOSITION_DATE  \\\n",
       "0               FIRST DEGREE MURDER             2  12/17/2014 12:00:00 AM   \n",
       "1                     HOME INVASION            14  12/17/2014 12:00:00 AM   \n",
       "2               FIRST DEGREE MURDER             4  12/17/2014 12:00:00 AM   \n",
       "3               FIRST DEGREE MURDER             5  12/17/2014 12:00:00 AM   \n",
       "4                     HOME INVASION            13  12/17/2014 12:00:00 AM   \n",
       "5                     HOME INVASION            13  12/17/2014 12:00:00 AM   \n",
       "6                     ARMED ROBBERY            15  12/17/2014 12:00:00 AM   \n",
       "7                     ARMED ROBBERY            15  12/17/2014 12:00:00 AM   \n",
       "8                     ARMED ROBBERY            16  12/17/2014 12:00:00 AM   \n",
       "9               FIRST DEGREE MURDER             1  12/17/2014 12:00:00 AM   \n",
       "\n",
       "   ... INCIDENT_CITY   INCIDENT_BEGIN_DATE INCIDENT_END_DATE  \\\n",
       "0  ...           NaN  8/9/1984 12:00:00 AM               NaN   \n",
       "1  ...           NaN  8/9/1984 12:00:00 AM               NaN   \n",
       "2  ...           NaN  8/9/1984 12:00:00 AM               NaN   \n",
       "3  ...           NaN  8/9/1984 12:00:00 AM               NaN   \n",
       "4  ...           NaN  8/9/1984 12:00:00 AM               NaN   \n",
       "5  ...           NaN  8/9/1984 12:00:00 AM               NaN   \n",
       "6  ...           NaN  8/9/1984 12:00:00 AM               NaN   \n",
       "7  ...           NaN  8/9/1984 12:00:00 AM               NaN   \n",
       "8  ...           NaN  8/9/1984 12:00:00 AM               NaN   \n",
       "9  ...           NaN  8/9/1984 12:00:00 AM               NaN   \n",
       "\n",
       "  LAW_ENFORCEMENT_AGENCY LAW_ENFORCEMENT_UNIT            ARREST_DATE  \\\n",
       "0    CHICAGO POLICE DEPT                  NaN  8/15/1984 12:00:00 AM   \n",
       "1    CHICAGO POLICE DEPT                  NaN  8/15/1984 12:00:00 AM   \n",
       "2    CHICAGO POLICE DEPT                  NaN  8/15/1984 12:00:00 AM   \n",
       "3    CHICAGO POLICE DEPT                  NaN  8/15/1984 12:00:00 AM   \n",
       "4    CHICAGO POLICE DEPT                  NaN  8/15/1984 12:00:00 AM   \n",
       "5    CHICAGO POLICE DEPT                  NaN  8/15/1984 12:00:00 AM   \n",
       "6    CHICAGO POLICE DEPT                  NaN  8/15/1984 12:00:00 AM   \n",
       "7    CHICAGO POLICE DEPT                  NaN  8/15/1984 12:00:00 AM   \n",
       "8    CHICAGO POLICE DEPT                  NaN  8/15/1984 12:00:00 AM   \n",
       "9    CHICAGO POLICE DEPT                  NaN  8/15/1984 12:00:00 AM   \n",
       "\n",
       "       FELONY_REVIEW_DATE FELONY_REVIEW_RESULT       ARRAIGNMENT_DATE  \\\n",
       "0  08/15/1984 12:00:00 AM   Charge(S) Approved  9/21/1984 12:00:00 AM   \n",
       "1  08/15/1984 12:00:00 AM   Charge(S) Approved  9/21/1984 12:00:00 AM   \n",
       "2  08/15/1984 12:00:00 AM   Charge(S) Approved  9/21/1984 12:00:00 AM   \n",
       "3  08/15/1984 12:00:00 AM   Charge(S) Approved  9/21/1984 12:00:00 AM   \n",
       "4  08/15/1984 12:00:00 AM   Charge(S) Approved  9/21/1984 12:00:00 AM   \n",
       "5  08/15/1984 12:00:00 AM   Charge(S) Approved  9/21/1984 12:00:00 AM   \n",
       "6  08/15/1984 12:00:00 AM   Charge(S) Approved  9/21/1984 12:00:00 AM   \n",
       "7  08/15/1984 12:00:00 AM   Charge(S) Approved  9/21/1984 12:00:00 AM   \n",
       "8  08/15/1984 12:00:00 AM   Charge(S) Approved  9/21/1984 12:00:00 AM   \n",
       "9  08/15/1984 12:00:00 AM   Charge(S) Approved  9/21/1984 12:00:00 AM   \n",
       "\n",
       "  UPDATED_OFFENSE_CATEGORY  \n",
       "0                 Homicide  \n",
       "1                 Homicide  \n",
       "2                 Homicide  \n",
       "3                 Homicide  \n",
       "4                 Homicide  \n",
       "5                 Homicide  \n",
       "6                 Homicide  \n",
       "7                 Homicide  \n",
       "8                 Homicide  \n",
       "9                 Homicide  \n",
       "\n",
       "[10 rows x 41 columns]"
      ]
     },
     "execution_count": 4,
     "metadata": {},
     "output_type": "execute_result"
    },
    {
     "data": {
      "text/plain": [
       "(248146, 41)"
      ]
     },
     "execution_count": 4,
     "metadata": {},
     "output_type": "execute_result"
    },
    {
     "name": "stdout",
     "output_type": "stream",
     "text": [
      "<class 'pandas.core.frame.DataFrame'>\n",
      "RangeIndex: 248146 entries, 0 to 248145\n",
      "Data columns (total 41 columns):\n",
      " #   Column                             Non-Null Count   Dtype  \n",
      "---  ------                             --------------   -----  \n",
      " 0   CASE_ID                            248146 non-null  int64  \n",
      " 1   CASE_PARTICIPANT_ID                248146 non-null  int64  \n",
      " 2   RECEIVED_DATE                      248146 non-null  object \n",
      " 3   OFFENSE_CATEGORY                   248146 non-null  object \n",
      " 4   PRIMARY_CHARGE_FLAG                248146 non-null  bool   \n",
      " 5   CHARGE_ID                          248146 non-null  int64  \n",
      " 6   CHARGE_VERSION_ID                  248146 non-null  int64  \n",
      " 7   DISPOSITION_CHARGED_OFFENSE_TITLE  248146 non-null  object \n",
      " 8   CHARGE_COUNT                       248146 non-null  int64  \n",
      " 9   DISPOSITION_DATE                   248146 non-null  object \n",
      " 10  DISPOSITION_CHARGED_CHAPTER        248146 non-null  object \n",
      " 11  DISPOSITION_CHARGED_ACT            242771 non-null  object \n",
      " 12  DISPOSITION_CHARGED_SECTION        242771 non-null  object \n",
      " 13  DISPOSITION_CHARGED_CLASS          248127 non-null  object \n",
      " 14  DISPOSITION_CHARGED_AOIC           248122 non-null  object \n",
      " 15  CHARGE_DISPOSITION                 248146 non-null  object \n",
      " 16  CHARGE_DISPOSITION_REASON          904 non-null     object \n",
      " 17  SENTENCE_JUDGE                     247404 non-null  object \n",
      " 18  SENTENCE_COURT_NAME                246761 non-null  object \n",
      " 19  SENTENCE_COURT_FACILITY            246216 non-null  object \n",
      " 20  SENTENCE_PHASE                     248146 non-null  object \n",
      " 21  SENTENCE_DATE                      248146 non-null  object \n",
      " 22  SENTENCE_TYPE                      248146 non-null  object \n",
      " 23  CURRENT_SENTENCE_FLAG              248146 non-null  bool   \n",
      " 24  COMMITMENT_TYPE                    246464 non-null  object \n",
      " 25  COMMITMENT_TERM                    246434 non-null  object \n",
      " 26  COMMITMENT_UNIT                    246434 non-null  object \n",
      " 27  LENGTH_OF_CASE_in_Days             229126 non-null  float64\n",
      " 28  AGE_AT_INCIDENT                    238359 non-null  float64\n",
      " 29  RACE                               246879 non-null  object \n",
      " 30  GENDER                             247337 non-null  object \n",
      " 31  INCIDENT_CITY                      228745 non-null  object \n",
      " 32  INCIDENT_BEGIN_DATE                239122 non-null  object \n",
      " 33  INCIDENT_END_DATE                  22008 non-null   object \n",
      " 34  LAW_ENFORCEMENT_AGENCY             239405 non-null  object \n",
      " 35  LAW_ENFORCEMENT_UNIT               76408 non-null   object \n",
      " 36  ARREST_DATE                        242981 non-null  object \n",
      " 37  FELONY_REVIEW_DATE                 171907 non-null  object \n",
      " 38  FELONY_REVIEW_RESULT               171907 non-null  object \n",
      " 39  ARRAIGNMENT_DATE                   229126 non-null  object \n",
      " 40  UPDATED_OFFENSE_CATEGORY           248146 non-null  object \n",
      "dtypes: bool(2), float64(2), int64(5), object(32)\n",
      "memory usage: 74.3+ MB\n"
     ]
    }
   ],
   "source": [
    "df.head(n=10)\n",
    "df.shape\n",
    "df.info()"
   ]
  },
  {
   "cell_type": "markdown",
   "metadata": {},
   "source": [
    "# Part one: data cleaning/interpretation"
   ]
  },
  {
   "cell_type": "markdown",
   "metadata": {},
   "source": [
    "## 1.1: Understanding the unit of analysis (5 points)\n",
    "\n",
    "- Print the number of unique values for the following columns. Do so in a way that avoids copying/pasting code for \n",
    "the three:\n",
    "\n",
    "    - Cases (`CASE_ID`)\n",
    "    - People in that case (`CASE_PARTICIPANT_ID`)\n",
    "    - Charges (`CHARGE_ID`)\n",
    "\n",
    "- Write a couple sentences on the following and show an example of each (e.g., a case involving multiple people):\n",
    "    \n",
    "    - Why there are more unique people than unique cases?\n",
    "    - Why there are more unique charges than unique people?\n",
    "\n",
    "- Print the mean and median number of charges per case/participant \n",
    "\n",
    "- Print the mean and median number of participants per case\n",
    "\n",
    "- Does the data seem to enable us to follow the same defendant across different cases they're charged in? Write 1 sentence in support of your conclusion.\n"
   ]
  },
  {
   "cell_type": "code",
   "execution_count": 5,
   "metadata": {},
   "outputs": [
    {
     "data": {
      "text/plain": [
       "CASE_ID                197519\n",
       "CASE_PARTICIPANT_ID    211977\n",
       "CHARGE_ID              229015\n",
       "dtype: int64"
      ]
     },
     "execution_count": 5,
     "metadata": {},
     "output_type": "execute_result"
    }
   ],
   "source": [
    "df[[\"CASE_ID\", \"CASE_PARTICIPANT_ID\", \"CHARGE_ID\"]].nunique()"
   ]
  },
  {
   "cell_type": "markdown",
   "metadata": {},
   "source": [
    "### Why there are more unique people than unique cases?\n",
    "There are more unique people than unique cases because a single case might involve multiple participants. \n",
    "For instance, in the case with CASE ID 166402790922, there are two people (PARTICIPANT ID 144234439761 and 144234534133) involved."
   ]
  },
  {
   "cell_type": "code",
   "execution_count": 6,
   "metadata": {},
   "outputs": [
    {
     "data": {
      "text/html": [
       "<div>\n",
       "<style scoped>\n",
       "    .dataframe tbody tr th:only-of-type {\n",
       "        vertical-align: middle;\n",
       "    }\n",
       "\n",
       "    .dataframe tbody tr th {\n",
       "        vertical-align: top;\n",
       "    }\n",
       "\n",
       "    .dataframe thead th {\n",
       "        text-align: right;\n",
       "    }\n",
       "</style>\n",
       "<table border=\"1\" class=\"dataframe\">\n",
       "  <thead>\n",
       "    <tr style=\"text-align: right;\">\n",
       "      <th></th>\n",
       "      <th>CASE_ID</th>\n",
       "      <th>CASE_PARTICIPANT_ID</th>\n",
       "      <th>CHARGE_ID</th>\n",
       "    </tr>\n",
       "  </thead>\n",
       "  <tbody>\n",
       "    <tr>\n",
       "      <th>92</th>\n",
       "      <td>166402790922</td>\n",
       "      <td>144234439761</td>\n",
       "      <td>61740816103</td>\n",
       "    </tr>\n",
       "    <tr>\n",
       "      <th>93</th>\n",
       "      <td>166402790922</td>\n",
       "      <td>144234439761</td>\n",
       "      <td>61741117758</td>\n",
       "    </tr>\n",
       "    <tr>\n",
       "      <th>94</th>\n",
       "      <td>166402790922</td>\n",
       "      <td>144234439761</td>\n",
       "      <td>61801599518</td>\n",
       "    </tr>\n",
       "    <tr>\n",
       "      <th>95</th>\n",
       "      <td>166402790922</td>\n",
       "      <td>144234439761</td>\n",
       "      <td>61801750345</td>\n",
       "    </tr>\n",
       "    <tr>\n",
       "      <th>96</th>\n",
       "      <td>166402790922</td>\n",
       "      <td>144234439761</td>\n",
       "      <td>61884655101</td>\n",
       "    </tr>\n",
       "    <tr>\n",
       "      <th>97</th>\n",
       "      <td>166402790922</td>\n",
       "      <td>144234439761</td>\n",
       "      <td>61955091465</td>\n",
       "    </tr>\n",
       "    <tr>\n",
       "      <th>98</th>\n",
       "      <td>166402790922</td>\n",
       "      <td>144234439761</td>\n",
       "      <td>61955292568</td>\n",
       "    </tr>\n",
       "    <tr>\n",
       "      <th>99</th>\n",
       "      <td>166402790922</td>\n",
       "      <td>144234439761</td>\n",
       "      <td>61955393120</td>\n",
       "    </tr>\n",
       "    <tr>\n",
       "      <th>100</th>\n",
       "      <td>166402790922</td>\n",
       "      <td>144234439761</td>\n",
       "      <td>61955644498</td>\n",
       "    </tr>\n",
       "    <tr>\n",
       "      <th>101</th>\n",
       "      <td>166402790922</td>\n",
       "      <td>144234439761</td>\n",
       "      <td>61740665276</td>\n",
       "    </tr>\n",
       "    <tr>\n",
       "      <th>102</th>\n",
       "      <td>166402790922</td>\n",
       "      <td>144234534133</td>\n",
       "      <td>61801901172</td>\n",
       "    </tr>\n",
       "    <tr>\n",
       "      <th>103</th>\n",
       "      <td>166402790922</td>\n",
       "      <td>144234534133</td>\n",
       "      <td>61819196039</td>\n",
       "    </tr>\n",
       "    <tr>\n",
       "      <th>104</th>\n",
       "      <td>166402790922</td>\n",
       "      <td>144234534133</td>\n",
       "      <td>61821257346</td>\n",
       "    </tr>\n",
       "    <tr>\n",
       "      <th>105</th>\n",
       "      <td>166402790922</td>\n",
       "      <td>144234534133</td>\n",
       "      <td>61890839022</td>\n",
       "    </tr>\n",
       "    <tr>\n",
       "      <th>106</th>\n",
       "      <td>166402790922</td>\n",
       "      <td>144234534133</td>\n",
       "      <td>61890939573</td>\n",
       "    </tr>\n",
       "    <tr>\n",
       "      <th>107</th>\n",
       "      <td>166402790922</td>\n",
       "      <td>144234534133</td>\n",
       "      <td>61957353875</td>\n",
       "    </tr>\n",
       "    <tr>\n",
       "      <th>108</th>\n",
       "      <td>166402790922</td>\n",
       "      <td>144234534133</td>\n",
       "      <td>61957605254</td>\n",
       "    </tr>\n",
       "    <tr>\n",
       "      <th>109</th>\n",
       "      <td>166402790922</td>\n",
       "      <td>144234534133</td>\n",
       "      <td>62010445095</td>\n",
       "    </tr>\n",
       "    <tr>\n",
       "      <th>110</th>\n",
       "      <td>166402790922</td>\n",
       "      <td>144234534133</td>\n",
       "      <td>61741168033</td>\n",
       "    </tr>\n",
       "  </tbody>\n",
       "</table>\n",
       "</div>"
      ],
      "text/plain": [
       "          CASE_ID  CASE_PARTICIPANT_ID    CHARGE_ID\n",
       "92   166402790922         144234439761  61740816103\n",
       "93   166402790922         144234439761  61741117758\n",
       "94   166402790922         144234439761  61801599518\n",
       "95   166402790922         144234439761  61801750345\n",
       "96   166402790922         144234439761  61884655101\n",
       "97   166402790922         144234439761  61955091465\n",
       "98   166402790922         144234439761  61955292568\n",
       "99   166402790922         144234439761  61955393120\n",
       "100  166402790922         144234439761  61955644498\n",
       "101  166402790922         144234439761  61740665276\n",
       "102  166402790922         144234534133  61801901172\n",
       "103  166402790922         144234534133  61819196039\n",
       "104  166402790922         144234534133  61821257346\n",
       "105  166402790922         144234534133  61890839022\n",
       "106  166402790922         144234534133  61890939573\n",
       "107  166402790922         144234534133  61957353875\n",
       "108  166402790922         144234534133  61957605254\n",
       "109  166402790922         144234534133  62010445095\n",
       "110  166402790922         144234534133  61741168033"
      ]
     },
     "execution_count": 6,
     "metadata": {},
     "output_type": "execute_result"
    }
   ],
   "source": [
    "df[df.CASE_ID == 166402790922][[\"CASE_ID\", \"CASE_PARTICIPANT_ID\", \"CHARGE_ID\"]]"
   ]
  },
  {
   "cell_type": "markdown",
   "metadata": {},
   "source": [
    "### Why there are more unique charges than unique people?\n",
    "There are more unique charges than unique people because one person can be charged with multiple offenses. \n",
    "For instance, for the person with PARTICIPANT ID 144234439761, there are 10 different charges related."
   ]
  },
  {
   "cell_type": "code",
   "execution_count": 12,
   "metadata": {},
   "outputs": [
    {
     "data": {
      "text/html": [
       "<div>\n",
       "<style scoped>\n",
       "    .dataframe tbody tr th:only-of-type {\n",
       "        vertical-align: middle;\n",
       "    }\n",
       "\n",
       "    .dataframe tbody tr th {\n",
       "        vertical-align: top;\n",
       "    }\n",
       "\n",
       "    .dataframe thead th {\n",
       "        text-align: right;\n",
       "    }\n",
       "</style>\n",
       "<table border=\"1\" class=\"dataframe\">\n",
       "  <thead>\n",
       "    <tr style=\"text-align: right;\">\n",
       "      <th></th>\n",
       "      <th>CASE_ID</th>\n",
       "      <th>CASE_PARTICIPANT_ID</th>\n",
       "      <th>CHARGE_ID</th>\n",
       "      <th>DISPOSITION_CHARGED_OFFENSE_TITLE</th>\n",
       "    </tr>\n",
       "  </thead>\n",
       "  <tbody>\n",
       "    <tr>\n",
       "      <th>92</th>\n",
       "      <td>166402790922</td>\n",
       "      <td>144234439761</td>\n",
       "      <td>61740816103</td>\n",
       "      <td>MURDER/INTENT TO KILL/INJURE</td>\n",
       "    </tr>\n",
       "    <tr>\n",
       "      <th>93</th>\n",
       "      <td>166402790922</td>\n",
       "      <td>144234439761</td>\n",
       "      <td>61741117758</td>\n",
       "      <td>AGG KID/ARMED</td>\n",
       "    </tr>\n",
       "    <tr>\n",
       "      <th>94</th>\n",
       "      <td>166402790922</td>\n",
       "      <td>144234439761</td>\n",
       "      <td>61801599518</td>\n",
       "      <td>MURDER/STRONG PROB KILL/INJURE</td>\n",
       "    </tr>\n",
       "    <tr>\n",
       "      <th>95</th>\n",
       "      <td>166402790922</td>\n",
       "      <td>144234439761</td>\n",
       "      <td>61801750345</td>\n",
       "      <td>MURDER/STRONG PROB KILL/INJURE</td>\n",
       "    </tr>\n",
       "    <tr>\n",
       "      <th>96</th>\n",
       "      <td>166402790922</td>\n",
       "      <td>144234439761</td>\n",
       "      <td>61884655101</td>\n",
       "      <td>AGG VEHICULAR HIJACKING/DANGEROUS WEAPON</td>\n",
       "    </tr>\n",
       "    <tr>\n",
       "      <th>97</th>\n",
       "      <td>166402790922</td>\n",
       "      <td>144234439761</td>\n",
       "      <td>61955091465</td>\n",
       "      <td>MURDER/OTHER FORCIBLE FELONY</td>\n",
       "    </tr>\n",
       "    <tr>\n",
       "      <th>98</th>\n",
       "      <td>166402790922</td>\n",
       "      <td>144234439761</td>\n",
       "      <td>61955292568</td>\n",
       "      <td>MURDER/OTHER FORCIBLE FELONY</td>\n",
       "    </tr>\n",
       "    <tr>\n",
       "      <th>99</th>\n",
       "      <td>166402790922</td>\n",
       "      <td>144234439761</td>\n",
       "      <td>61955393120</td>\n",
       "      <td>MURDER/OTHER FORCIBLE FELONY</td>\n",
       "    </tr>\n",
       "    <tr>\n",
       "      <th>100</th>\n",
       "      <td>166402790922</td>\n",
       "      <td>144234439761</td>\n",
       "      <td>61955644498</td>\n",
       "      <td>AGG KID/INFLICT HARM</td>\n",
       "    </tr>\n",
       "    <tr>\n",
       "      <th>101</th>\n",
       "      <td>166402790922</td>\n",
       "      <td>144234439761</td>\n",
       "      <td>61740665276</td>\n",
       "      <td>MURDER/INTENT TO KILL/INJURE</td>\n",
       "    </tr>\n",
       "  </tbody>\n",
       "</table>\n",
       "</div>"
      ],
      "text/plain": [
       "          CASE_ID  CASE_PARTICIPANT_ID    CHARGE_ID  \\\n",
       "92   166402790922         144234439761  61740816103   \n",
       "93   166402790922         144234439761  61741117758   \n",
       "94   166402790922         144234439761  61801599518   \n",
       "95   166402790922         144234439761  61801750345   \n",
       "96   166402790922         144234439761  61884655101   \n",
       "97   166402790922         144234439761  61955091465   \n",
       "98   166402790922         144234439761  61955292568   \n",
       "99   166402790922         144234439761  61955393120   \n",
       "100  166402790922         144234439761  61955644498   \n",
       "101  166402790922         144234439761  61740665276   \n",
       "\n",
       "            DISPOSITION_CHARGED_OFFENSE_TITLE  \n",
       "92               MURDER/INTENT TO KILL/INJURE  \n",
       "93                              AGG KID/ARMED  \n",
       "94             MURDER/STRONG PROB KILL/INJURE  \n",
       "95             MURDER/STRONG PROB KILL/INJURE  \n",
       "96   AGG VEHICULAR HIJACKING/DANGEROUS WEAPON  \n",
       "97               MURDER/OTHER FORCIBLE FELONY  \n",
       "98               MURDER/OTHER FORCIBLE FELONY  \n",
       "99               MURDER/OTHER FORCIBLE FELONY  \n",
       "100                      AGG KID/INFLICT HARM  \n",
       "101              MURDER/INTENT TO KILL/INJURE  "
      ]
     },
     "execution_count": 12,
     "metadata": {},
     "output_type": "execute_result"
    }
   ],
   "source": [
    "df[df.CASE_PARTICIPANT_ID == 144234439761][[\"CASE_ID\", \"CASE_PARTICIPANT_ID\", \"CHARGE_ID\", \"DISPOSITION_CHARGED_OFFENSE_TITLE\"]]"
   ]
  },
  {
   "cell_type": "code",
   "execution_count": 13,
   "metadata": {},
   "outputs": [
    {
     "data": {
      "text/plain": [
       "mean      1.159458\n",
       "median    1.000000\n",
       "Name: CHARGE_ID, dtype: float64"
      ]
     },
     "execution_count": 13,
     "metadata": {},
     "output_type": "execute_result"
    }
   ],
   "source": [
    "# Charges per case\n",
    "charges_per_case = df.groupby([\"CASE_ID\"])[\"CHARGE_ID\"].nunique()\n",
    "charges_per_case.agg([\"mean\", \"median\"])"
   ]
  },
  {
   "cell_type": "code",
   "execution_count": 14,
   "metadata": {},
   "outputs": [
    {
     "data": {
      "text/plain": [
       "mean      1.126146\n",
       "median    1.000000\n",
       "Name: CHARGE_ID, dtype: float64"
      ]
     },
     "execution_count": 14,
     "metadata": {},
     "output_type": "execute_result"
    }
   ],
   "source": [
    "# Charges per participant\n",
    "charges_per_participant = df.groupby([\"CASE_PARTICIPANT_ID\"])[\"CHARGE_ID\"].nunique()\n",
    "charges_per_participant.agg([\"mean\", \"median\"])"
   ]
  },
  {
   "cell_type": "code",
   "execution_count": 15,
   "metadata": {},
   "outputs": [
    {
     "data": {
      "text/plain": [
       "mean      1.073198\n",
       "median    1.000000\n",
       "Name: CASE_PARTICIPANT_ID, dtype: float64"
      ]
     },
     "execution_count": 15,
     "metadata": {},
     "output_type": "execute_result"
    }
   ],
   "source": [
    "# Print the mean and median number of participants per case\n",
    "df.groupby(\"CASE_ID\")[\"CASE_PARTICIPANT_ID\"].nunique().agg([\"mean\", \"median\"])"
   ]
  },
  {
   "cell_type": "markdown",
   "metadata": {},
   "source": [
    "### Does the data seem to enable us to follow the same defendant across different cases they're charged in? Write 1 sentence in support of your conclusion.\n",
    "\n",
    "No. We can not find any parcipitant ID that is associated with 2 or more cases."
   ]
  },
  {
   "cell_type": "code",
   "execution_count": 20,
   "metadata": {},
   "outputs": [
    {
     "data": {
      "text/html": [
       "<div>\n",
       "<style scoped>\n",
       "    .dataframe tbody tr th:only-of-type {\n",
       "        vertical-align: middle;\n",
       "    }\n",
       "\n",
       "    .dataframe tbody tr th {\n",
       "        vertical-align: top;\n",
       "    }\n",
       "\n",
       "    .dataframe thead th {\n",
       "        text-align: right;\n",
       "    }\n",
       "</style>\n",
       "<table border=\"1\" class=\"dataframe\">\n",
       "  <thead>\n",
       "    <tr style=\"text-align: right;\">\n",
       "      <th></th>\n",
       "      <th>CASE_PARTICIPANT_ID</th>\n",
       "      <th>CASE_ID</th>\n",
       "    </tr>\n",
       "  </thead>\n",
       "  <tbody>\n",
       "    <tr>\n",
       "      <th>0</th>\n",
       "      <td>96757475659</td>\n",
       "      <td>1</td>\n",
       "    </tr>\n",
       "    <tr>\n",
       "      <th>1</th>\n",
       "      <td>97064562856</td>\n",
       "      <td>1</td>\n",
       "    </tr>\n",
       "    <tr>\n",
       "      <th>2</th>\n",
       "      <td>97249060542</td>\n",
       "      <td>1</td>\n",
       "    </tr>\n",
       "    <tr>\n",
       "      <th>3</th>\n",
       "      <td>97581722610</td>\n",
       "      <td>1</td>\n",
       "    </tr>\n",
       "    <tr>\n",
       "      <th>4</th>\n",
       "      <td>97603050731</td>\n",
       "      <td>1</td>\n",
       "    </tr>\n",
       "  </tbody>\n",
       "</table>\n",
       "</div>"
      ],
      "text/plain": [
       "   CASE_PARTICIPANT_ID  CASE_ID\n",
       "0          96757475659        1\n",
       "1          97064562856        1\n",
       "2          97249060542        1\n",
       "3          97581722610        1\n",
       "4          97603050731        1"
      ]
     },
     "execution_count": 20,
     "metadata": {},
     "output_type": "execute_result"
    },
    {
     "data": {
      "text/html": [
       "<div>\n",
       "<style scoped>\n",
       "    .dataframe tbody tr th:only-of-type {\n",
       "        vertical-align: middle;\n",
       "    }\n",
       "\n",
       "    .dataframe tbody tr th {\n",
       "        vertical-align: top;\n",
       "    }\n",
       "\n",
       "    .dataframe thead th {\n",
       "        text-align: right;\n",
       "    }\n",
       "</style>\n",
       "<table border=\"1\" class=\"dataframe\">\n",
       "  <thead>\n",
       "    <tr style=\"text-align: right;\">\n",
       "      <th></th>\n",
       "      <th>CASE_PARTICIPANT_ID</th>\n",
       "      <th>CASE_ID</th>\n",
       "    </tr>\n",
       "  </thead>\n",
       "  <tbody>\n",
       "  </tbody>\n",
       "</table>\n",
       "</div>"
      ],
      "text/plain": [
       "Empty DataFrame\n",
       "Columns: [CASE_PARTICIPANT_ID, CASE_ID]\n",
       "Index: []"
      ]
     },
     "execution_count": 20,
     "metadata": {},
     "output_type": "execute_result"
    }
   ],
   "source": [
    "df_defendant_across_cases = df.groupby(\"CASE_PARTICIPANT_ID\")[\"CASE_ID\"].nunique().reset_index()\n",
    "df_defendant_across_cases.head()\n",
    "df_defendant_across_cases[df_defendant_across_cases.CASE_ID > 1]"
   ]
  },
  {
   "cell_type": "markdown",
   "metadata": {},
   "source": [
    "## 1.2.1: Which offense is final? (3 points)\n",
    "\n",
    "- First, read the data documentation [link](https://datacatalog.cookcountyil.gov/api/views/tg8v-tm6u/files/8597cdda-f7e1-44d1-b0ce-0a4e43f8c980?download=true&filename=CCSAO%20Data%20Glossary.pdf) and summarize in your own words the differences between `OFFENSE_CATEGORY` and `UPDATED_OFFENSE_CATEGORY` \n",
    "\n",
    "- Construct an indicator `is_changed_offense` that's True for case-participant-charge observations (rows) where there's a difference between the original charge (offense category) and the most current charge (updated offense category). What are some of the more common changed offenses? (can just print result of sort_values based on original offense category)\n",
    "\n",
    "- Print one example of a changed offense from one of these categories and comment on what the reason may be\n",
    "\n"
   ]
  },
  {
   "cell_type": "markdown",
   "metadata": {},
   "source": [
    "Answer:\n",
    "OFFENSE_CATEGORY is the broad offense type before the charges are filed. \n",
    "As the case evolve, the offense category can change, and the UPDATED_OFFENSE_CATEGORY reflects the final category of the disposed charge."
   ]
  },
  {
   "cell_type": "code",
   "execution_count": 23,
   "metadata": {},
   "outputs": [
    {
     "data": {
      "text/plain": [
       "OFFENSE_CATEGORY\n",
       "PROMIS Conversion               6394\n",
       "DUI                             3896\n",
       "UUW - Unlawful Use of Weapon    2155\n",
       "Other Offense                   2125\n",
       "Aggravated Battery              1927\n",
       "                                ... \n",
       "Perjury                            4\n",
       "Prostitution                       3\n",
       "Compelling Gang Membership         2\n",
       "Benefit Recipient Fraud            2\n",
       "Violate Bail Bond                  2\n",
       "Name: count, Length: 88, dtype: int64"
      ]
     },
     "execution_count": 23,
     "metadata": {},
     "output_type": "execute_result"
    }
   ],
   "source": [
    "df[\"is_changed_offense\"] = df.OFFENSE_CATEGORY != df.UPDATED_OFFENSE_CATEGORY\n",
    "\n",
    "# show the most common changed offenses\n",
    "df[df.is_changed_offense == True][\"OFFENSE_CATEGORY\"].value_counts().sort_values(ascending = False)"
   ]
  },
  {
   "cell_type": "code",
   "execution_count": 24,
   "metadata": {},
   "outputs": [
    {
     "data": {
      "text/plain": [
       "OFFENSE_CATEGORY            Home Invasion\n",
       "UPDATED_OFFENSE_CATEGORY       Sex Crimes\n",
       "is_changed_offense                   True\n",
       "Name: 92922, dtype: object"
      ]
     },
     "execution_count": 24,
     "metadata": {},
     "output_type": "execute_result"
    }
   ],
   "source": [
    "# show an example of changed offense\n",
    "df.loc[92922][[\"OFFENSE_CATEGORY\", \"UPDATED_OFFENSE_CATEGORY\", \"is_changed_offense\"]]"
   ]
  },
  {
   "cell_type": "markdown",
   "metadata": {},
   "source": [
    "This charge may have changed from Home Invasion to Sex Crime because, during the investigation, evidence revealed that the criminal act involved a sexual offense committed during or after the unlawful entry."
   ]
  },
  {
   "cell_type": "markdown",
   "metadata": {},
   "source": [
    "## 1.2.2: Simplifying the charges (5 points)\n",
    "\n",
    "Using the field (`UPDATED_OFFENSE_CATEGORY`), create a new field, `simplified_offense_derived`, that simplifies the many offense categories into broader buckets using the following process:\n",
    "\n",
    "First, combine all offenses beginning with \"Aggravated\" into a single category without that prefix (e.g., Aggravated Battery and Battery just becomes Battery)\n",
    "\n",
    "Then:\n",
    "- Combine all offenses with arson into a single arson category (`Arson`)\n",
    "- Combine all offenses with homicide into a single homicide category (`Homicide`)\n",
    "- Combine all offenses with vehicle/vehicular in the name into a single vehicle category (`Vehicle-related`)\n",
    "- Combine all offenses with battery in the name into a single battery category (`Battery`)\n",
    "\n",
    "Try to do so efficiently (e.g., using map and a dictionary or np.select rather than separate line for each recoded offense)\n",
    "\n",
    "Print the difference between the # of unique offenses in the original `UPDATED_OFFENSE_CATEGORY` field and the # of unique offenses in your new `simplified_offense_derived` field\n"
   ]
  },
  {
   "cell_type": "code",
   "execution_count": 26,
   "metadata": {},
   "outputs": [
    {
     "name": "stdout",
     "output_type": "stream",
     "text": [
      "12\n"
     ]
    }
   ],
   "source": [
    "conditions = [\n",
    "    df['UPDATED_OFFENSE_CATEGORY'].str.startswith('Aggravated '),\n",
    "    df['UPDATED_OFFENSE_CATEGORY'].str.contains('arson', case=False),\n",
    "    df['UPDATED_OFFENSE_CATEGORY'].str.contains('homicide', case=False),\n",
    "    df['UPDATED_OFFENSE_CATEGORY'].str.contains('vehicle', case=False) | df['UPDATED_OFFENSE_CATEGORY'].str.contains('vehicular', case=False),\n",
    "    df['UPDATED_OFFENSE_CATEGORY'].str.contains('battery', case=False)\n",
    "]\n",
    "\n",
    "choices = [\n",
    "    df['UPDATED_OFFENSE_CATEGORY'].str[len('Aggravated '):],  # Remove \"Aggravated\" prefix\n",
    "    'Arson',\n",
    "    'Homicide',\n",
    "    'Vehicle-related',\n",
    "    'Battery'\n",
    "]\n",
    "\n",
    "df['simplified_offense_derived'] = np.select(conditions, choices, default=df['UPDATED_OFFENSE_CATEGORY'])\n",
    "# df[['UPDATED_OFFENSE_CATEGORY', 'simplified_offense_derived']].sample(n = 10)\n",
    "\n",
    "original = df['UPDATED_OFFENSE_CATEGORY'].nunique()\n",
    "new = df['simplified_offense_derived'].nunique()\n",
    "print(original - new)"
   ]
  },
  {
   "cell_type": "markdown",
   "metadata": {},
   "source": [
    "## 1.3: Cleaning additional variables (10 points)\n",
    "\n",
    "Clean the following variables; make sure to retain the original variable in data and use the derived suffix so it's easier to pull these cleaned out variables later (e.g., `age_derived`) to indicate this was a transformation\n",
    "\n",
    "- Race: create True/false indicators for `is_black_derived` (Black only or mixed race with hispanic), Non-Black Hispanic, so either hispanic alone or white hispanic (`is_hisp_derived`), White non-hispanic (`is_white_derived`), or none of the above (`is_othereth_derived`)\n",
    "\n",
    "- Gender: create a boolean true/false indicator for `is_male_derived` (false is female, unknown, or other)\n",
    "\n",
    "- Age at incident: you notice outliers like 130-year olds. Winsorsize the top 0.01% of values to be equal to the 99.99th percentile value pre-winsorization. Call this `age_derived`\n",
    "\n",
    "- Create `sentenceymd_derived` that's a version of `SENTENCING_DATE` converted to datetime format. Also create a rounded version, `sentenceym_derived`, that's rounded down to the first of the month and the year (e.g., 01-05-2016 and 01-27-2016 each become 01-01-2016)\n",
    "    - Hint: all timestamps are midnight so u can strip in conversion. For full credit, before converting, you notice that some of the years have been mistranscribed (e.g., 291X or 221X instead of 201X). Programatically fix those (eg 2914 -> 2014). Even after cleaning, there will still be some that are after the year 2021 that we'll filter out later. For partial credit, you can ignore the timestamps that cause errors and set errors = \"coerce\" within `pd.to_datetime()` to allow the conversion to proceed. \n",
    "\n",
    "- Sentencing judge: create an identifier (`judgeid_derived`) for each unique judge (`SENTENCE_JUDGE`) structured as judge_1, judge_2...., with the order determined by sorting the judges (will sort on fname then last). When finding unique judges, there are various duplicates we could weed out --- for now, just focus on (1) the different iterations of Doug/Douglas Simpson, (2) the different iterations of Shelley Sutker (who appears both with her maiden name and her hyphenated married name). \n",
    "     - Hint: due to mixed types, you may need to cast the `SENTENCE_JUDGE` var to a diff type to sort\n",
    "\n",
    "After finishing, print a random sample of 10 rows (data.sample(n = 10)) with the original and cleaned columns for the relevant variables to validate your work"
   ]
  },
  {
   "cell_type": "code",
   "execution_count": 16,
   "metadata": {},
   "outputs": [
    {
     "data": {
      "text/plain": [
       "array(['Black', 'White [Hispanic or Latino]', 'White', 'HISPANIC', nan,\n",
       "       'ASIAN', 'White/Black [Hispanic or Latino]', 'Asian',\n",
       "       'American Indian', 'Unknown', 'Biracial'], dtype=object)"
      ]
     },
     "execution_count": 16,
     "metadata": {},
     "output_type": "execute_result"
    }
   ],
   "source": [
    "# df.RACE.unique()"
   ]
  },
  {
   "cell_type": "code",
   "execution_count": 27,
   "metadata": {},
   "outputs": [],
   "source": [
    "## Race\n",
    "df[\"is_black_derived\"]=df.RACE.str.contains(\"Black\")\n",
    "df[\"is_hisp_derived\"]=df.RACE.isin([\"HISPANIC\", \"White [Hispanic or Latino]\"])\n",
    "df[\"is_white_derived\"]=df.RACE.isin([\"White\"])\n",
    "df[\"is_othereth_derived\"]=df.RACE.isin([\n",
    "       'ASIAN', 'Asian',\n",
    "       'American Indian', 'Unknown', 'Biracial'])|(df.RACE==np.nan)\n",
    "\n",
    "## Gender\n",
    "df[\"is_male_derived\"] = np.where(df.GENDER == \"Male\", True, False)\n",
    "\n",
    "## Age\n",
    "percentile9999 = df.AGE_AT_INCIDENT.quantile(0.9999)\n",
    "\n",
    "df[\"age_derived\"] = np.clip(df.AGE_AT_INCIDENT, None, percentile9999)"
   ]
  },
  {
   "cell_type": "code",
   "execution_count": 31,
   "metadata": {},
   "outputs": [],
   "source": [
    "## Date\n",
    "\n",
    "def strip_time(date_str):\n",
    "    if ' ' in date_str:\n",
    "        space_index = date_str.index(' ')\n",
    "        return date_str[:space_index]\n",
    "    return date_str\n",
    "\n",
    "df['SENTENCE_DATE_ONLY'] = df['SENTENCE_DATE'].apply(strip_time)\n",
    "\n",
    "def fix_year(date_str):\n",
    "    year = date_str[-4:]\n",
    "    if (year[:2] != \"20\") & (year[:2] != \"19\"):\n",
    "        corrected_year = \"20\" + year[2:]\n",
    "        date_str = date_str[:-4] + corrected_year\n",
    "    return date_str\n",
    "\n",
    "df['SENTENCE_DATE_CLEANED'] = df['SENTENCE_DATE_ONLY'].apply(fix_year)\n",
    "\n",
    "df[\"sentenceymd_derived\"] = pd.to_datetime(df[\"SENTENCE_DATE_CLEANED\"])\n",
    "\n",
    "df['sentenceym_derived'] = df[\"sentenceymd_derived\"].apply(lambda x: x.replace(day=1))\n",
    "# df.head()"
   ]
  },
  {
   "cell_type": "code",
   "execution_count": 30,
   "metadata": {},
   "outputs": [],
   "source": [
    "## Judge ID\n",
    "\n",
    "# deal with duplicates\n",
    "uniq_judgeid=df[\"SENTENCE_JUDGE\"].astype(str, errors='ignore')\n",
    "is_doug = (uniq_judgeid.str.contains(\"Simpson\")) & (uniq_judgeid.str.contains(\"Doug\"))\n",
    "is_shelley = (uniq_judgeid.str.contains(\"Sutker\")) & (uniq_judgeid.str.contains(\"Shelley\"))\n",
    "\n",
    "uniq_judgeid=np.where(is_doug,\"Douglas Simpson\",uniq_judgeid)\n",
    "uniq_judgeid=np.where(is_shelley,\"Shelly Sutker\",uniq_judgeid)\n",
    "df[\"judge_cleaned\"]=uniq_judgeid\n",
    "\n",
    "# sort by name\n",
    "unique_judge=df.sort_values(\"judge_cleaned\",ascending=True).reset_index(drop=True)[\"judge_cleaned\"].unique()\n",
    "\n",
    "# assign id\n",
    "counter = 1\n",
    "\n",
    "def make_dict(namelist):\n",
    "    id_dict={}\n",
    "    global counter\n",
    "    for name in namelist:\n",
    "        if name not in id_dict:\n",
    "            id_dict[name] = \"judge_\"+str(counter)\n",
    "            counter+=1\n",
    "    return id_dict\n",
    "\n",
    "id_dict=make_dict(unique_judge)\n",
    "\n",
    "df[\"judgeid_derived\"]=df.judge_cleaned.map(id_dict)\n",
    "# df.sort_values(\"judge_cleaned\")"
   ]
  },
  {
   "cell_type": "code",
   "execution_count": 35,
   "metadata": {},
   "outputs": [
    {
     "data": {
      "text/html": [
       "<div>\n",
       "<style scoped>\n",
       "    .dataframe tbody tr th:only-of-type {\n",
       "        vertical-align: middle;\n",
       "    }\n",
       "\n",
       "    .dataframe tbody tr th {\n",
       "        vertical-align: top;\n",
       "    }\n",
       "\n",
       "    .dataframe thead th {\n",
       "        text-align: right;\n",
       "    }\n",
       "</style>\n",
       "<table border=\"1\" class=\"dataframe\">\n",
       "  <thead>\n",
       "    <tr style=\"text-align: right;\">\n",
       "      <th></th>\n",
       "      <th>simplified_offense_derived</th>\n",
       "      <th>is_black_derived</th>\n",
       "      <th>is_hisp_derived</th>\n",
       "      <th>is_white_derived</th>\n",
       "      <th>is_othereth_derived</th>\n",
       "      <th>is_male_derived</th>\n",
       "      <th>age_derived</th>\n",
       "      <th>sentenceymd_derived</th>\n",
       "      <th>sentenceym_derived</th>\n",
       "      <th>judgeid_derived</th>\n",
       "      <th>UPDATED_OFFENSE_CATEGORY</th>\n",
       "      <th>RACE</th>\n",
       "      <th>GENDER</th>\n",
       "      <th>AGE_AT_INCIDENT</th>\n",
       "      <th>SENTENCE_DATE</th>\n",
       "      <th>SENTENCE_JUDGE</th>\n",
       "    </tr>\n",
       "  </thead>\n",
       "  <tbody>\n",
       "    <tr>\n",
       "      <th>98190</th>\n",
       "      <td>Narcotics</td>\n",
       "      <td>True</td>\n",
       "      <td>False</td>\n",
       "      <td>False</td>\n",
       "      <td>False</td>\n",
       "      <td>True</td>\n",
       "      <td>20.0</td>\n",
       "      <td>2013-06-06</td>\n",
       "      <td>2013-06-01</td>\n",
       "      <td>judge_155</td>\n",
       "      <td>Narcotics</td>\n",
       "      <td>Black</td>\n",
       "      <td>Male</td>\n",
       "      <td>20.0</td>\n",
       "      <td>6/6/2013 12:00:00 AM</td>\n",
       "      <td>Joseph Michael Claps</td>\n",
       "    </tr>\n",
       "    <tr>\n",
       "      <th>118877</th>\n",
       "      <td>Armed Robbery</td>\n",
       "      <td>False</td>\n",
       "      <td>True</td>\n",
       "      <td>False</td>\n",
       "      <td>False</td>\n",
       "      <td>True</td>\n",
       "      <td>45.0</td>\n",
       "      <td>2016-11-16</td>\n",
       "      <td>2016-11-01</td>\n",
       "      <td>judge_314</td>\n",
       "      <td>Armed Robbery</td>\n",
       "      <td>White [Hispanic or Latino]</td>\n",
       "      <td>Male</td>\n",
       "      <td>45.0</td>\n",
       "      <td>11/16/2016 12:00:00 AM</td>\n",
       "      <td>Timothy J Chambers</td>\n",
       "    </tr>\n",
       "    <tr>\n",
       "      <th>2753</th>\n",
       "      <td>PROMIS Conversion</td>\n",
       "      <td>True</td>\n",
       "      <td>False</td>\n",
       "      <td>False</td>\n",
       "      <td>False</td>\n",
       "      <td>True</td>\n",
       "      <td>30.0</td>\n",
       "      <td>2012-02-10</td>\n",
       "      <td>2012-02-01</td>\n",
       "      <td>judge_305</td>\n",
       "      <td>PROMIS Conversion</td>\n",
       "      <td>Black</td>\n",
       "      <td>Male</td>\n",
       "      <td>30.0</td>\n",
       "      <td>2/10/2012 12:00:00 AM</td>\n",
       "      <td>Thomas M Davy</td>\n",
       "    </tr>\n",
       "    <tr>\n",
       "      <th>68218</th>\n",
       "      <td>UUW - Unlawful Use of Weapon</td>\n",
       "      <td>True</td>\n",
       "      <td>False</td>\n",
       "      <td>False</td>\n",
       "      <td>False</td>\n",
       "      <td>True</td>\n",
       "      <td>24.0</td>\n",
       "      <td>2013-05-30</td>\n",
       "      <td>2013-05-01</td>\n",
       "      <td>judge_236</td>\n",
       "      <td>UUW - Unlawful Use of Weapon</td>\n",
       "      <td>Black</td>\n",
       "      <td>Male</td>\n",
       "      <td>24.0</td>\n",
       "      <td>5/30/2013 12:00:00 AM</td>\n",
       "      <td>Nicholas R Ford</td>\n",
       "    </tr>\n",
       "    <tr>\n",
       "      <th>180315</th>\n",
       "      <td>Identity Theft</td>\n",
       "      <td>True</td>\n",
       "      <td>False</td>\n",
       "      <td>False</td>\n",
       "      <td>False</td>\n",
       "      <td>True</td>\n",
       "      <td>30.0</td>\n",
       "      <td>2016-09-15</td>\n",
       "      <td>2016-09-01</td>\n",
       "      <td>judge_32</td>\n",
       "      <td>Identity Theft</td>\n",
       "      <td>Black</td>\n",
       "      <td>Male</td>\n",
       "      <td>30.0</td>\n",
       "      <td>9/15/2016 12:00:00 AM</td>\n",
       "      <td>Carol M Howard</td>\n",
       "    </tr>\n",
       "    <tr>\n",
       "      <th>142052</th>\n",
       "      <td>Narcotics</td>\n",
       "      <td>True</td>\n",
       "      <td>False</td>\n",
       "      <td>False</td>\n",
       "      <td>False</td>\n",
       "      <td>True</td>\n",
       "      <td>44.0</td>\n",
       "      <td>2015-01-08</td>\n",
       "      <td>2015-01-01</td>\n",
       "      <td>judge_302</td>\n",
       "      <td>Narcotics</td>\n",
       "      <td>Black</td>\n",
       "      <td>Male</td>\n",
       "      <td>44.0</td>\n",
       "      <td>1/8/2015 12:00:00 AM</td>\n",
       "      <td>Thomas J Hennelly</td>\n",
       "    </tr>\n",
       "    <tr>\n",
       "      <th>192245</th>\n",
       "      <td>Narcotics</td>\n",
       "      <td>True</td>\n",
       "      <td>False</td>\n",
       "      <td>False</td>\n",
       "      <td>False</td>\n",
       "      <td>True</td>\n",
       "      <td>36.0</td>\n",
       "      <td>2017-03-29</td>\n",
       "      <td>2017-03-01</td>\n",
       "      <td>judge_110</td>\n",
       "      <td>Narcotics</td>\n",
       "      <td>Black</td>\n",
       "      <td>Male</td>\n",
       "      <td>36.0</td>\n",
       "      <td>3/29/2017 12:00:00 AM</td>\n",
       "      <td>James B Linn</td>\n",
       "    </tr>\n",
       "    <tr>\n",
       "      <th>64246</th>\n",
       "      <td>Narcotics</td>\n",
       "      <td>True</td>\n",
       "      <td>False</td>\n",
       "      <td>False</td>\n",
       "      <td>False</td>\n",
       "      <td>True</td>\n",
       "      <td>28.0</td>\n",
       "      <td>2012-11-09</td>\n",
       "      <td>2012-11-01</td>\n",
       "      <td>judge_280</td>\n",
       "      <td>Narcotics</td>\n",
       "      <td>Black</td>\n",
       "      <td>Male</td>\n",
       "      <td>28.0</td>\n",
       "      <td>11/9/2012 12:00:00 AM</td>\n",
       "      <td>Shelley  Sutker-Dermer</td>\n",
       "    </tr>\n",
       "    <tr>\n",
       "      <th>4562</th>\n",
       "      <td>Battery</td>\n",
       "      <td>True</td>\n",
       "      <td>False</td>\n",
       "      <td>False</td>\n",
       "      <td>False</td>\n",
       "      <td>True</td>\n",
       "      <td>19.0</td>\n",
       "      <td>2014-05-06</td>\n",
       "      <td>2014-05-01</td>\n",
       "      <td>judge_305</td>\n",
       "      <td>Domestic Battery</td>\n",
       "      <td>Black</td>\n",
       "      <td>Male</td>\n",
       "      <td>19.0</td>\n",
       "      <td>5/6/2014 12:00:00 AM</td>\n",
       "      <td>Thomas M Davy</td>\n",
       "    </tr>\n",
       "    <tr>\n",
       "      <th>167245</th>\n",
       "      <td>Driving With Suspended Or Revoked License</td>\n",
       "      <td>False</td>\n",
       "      <td>True</td>\n",
       "      <td>False</td>\n",
       "      <td>False</td>\n",
       "      <td>True</td>\n",
       "      <td>37.0</td>\n",
       "      <td>2016-01-06</td>\n",
       "      <td>2016-01-01</td>\n",
       "      <td>judge_246</td>\n",
       "      <td>Driving With Suspended Or Revoked License</td>\n",
       "      <td>White [Hispanic or Latino]</td>\n",
       "      <td>Male</td>\n",
       "      <td>37.0</td>\n",
       "      <td>1/6/2016 12:00:00 AM</td>\n",
       "      <td>Paula M Daleo</td>\n",
       "    </tr>\n",
       "  </tbody>\n",
       "</table>\n",
       "</div>"
      ],
      "text/plain": [
       "                       simplified_offense_derived is_black_derived  \\\n",
       "98190                                   Narcotics             True   \n",
       "118877                              Armed Robbery            False   \n",
       "2753                            PROMIS Conversion             True   \n",
       "68218                UUW - Unlawful Use of Weapon             True   \n",
       "180315                             Identity Theft             True   \n",
       "142052                                  Narcotics             True   \n",
       "192245                                  Narcotics             True   \n",
       "64246                                   Narcotics             True   \n",
       "4562                                      Battery             True   \n",
       "167245  Driving With Suspended Or Revoked License            False   \n",
       "\n",
       "        is_hisp_derived  is_white_derived  is_othereth_derived  \\\n",
       "98190             False             False                False   \n",
       "118877             True             False                False   \n",
       "2753              False             False                False   \n",
       "68218             False             False                False   \n",
       "180315            False             False                False   \n",
       "142052            False             False                False   \n",
       "192245            False             False                False   \n",
       "64246             False             False                False   \n",
       "4562              False             False                False   \n",
       "167245             True             False                False   \n",
       "\n",
       "        is_male_derived  age_derived sentenceymd_derived sentenceym_derived  \\\n",
       "98190              True         20.0          2013-06-06         2013-06-01   \n",
       "118877             True         45.0          2016-11-16         2016-11-01   \n",
       "2753               True         30.0          2012-02-10         2012-02-01   \n",
       "68218              True         24.0          2013-05-30         2013-05-01   \n",
       "180315             True         30.0          2016-09-15         2016-09-01   \n",
       "142052             True         44.0          2015-01-08         2015-01-01   \n",
       "192245             True         36.0          2017-03-29         2017-03-01   \n",
       "64246              True         28.0          2012-11-09         2012-11-01   \n",
       "4562               True         19.0          2014-05-06         2014-05-01   \n",
       "167245             True         37.0          2016-01-06         2016-01-01   \n",
       "\n",
       "       judgeid_derived                   UPDATED_OFFENSE_CATEGORY  \\\n",
       "98190        judge_155                                  Narcotics   \n",
       "118877       judge_314                              Armed Robbery   \n",
       "2753         judge_305                          PROMIS Conversion   \n",
       "68218        judge_236               UUW - Unlawful Use of Weapon   \n",
       "180315        judge_32                             Identity Theft   \n",
       "142052       judge_302                                  Narcotics   \n",
       "192245       judge_110                                  Narcotics   \n",
       "64246        judge_280                                  Narcotics   \n",
       "4562         judge_305                           Domestic Battery   \n",
       "167245       judge_246  Driving With Suspended Or Revoked License   \n",
       "\n",
       "                              RACE GENDER  AGE_AT_INCIDENT  \\\n",
       "98190                        Black   Male             20.0   \n",
       "118877  White [Hispanic or Latino]   Male             45.0   \n",
       "2753                         Black   Male             30.0   \n",
       "68218                        Black   Male             24.0   \n",
       "180315                       Black   Male             30.0   \n",
       "142052                       Black   Male             44.0   \n",
       "192245                       Black   Male             36.0   \n",
       "64246                        Black   Male             28.0   \n",
       "4562                         Black   Male             19.0   \n",
       "167245  White [Hispanic or Latino]   Male             37.0   \n",
       "\n",
       "                 SENTENCE_DATE          SENTENCE_JUDGE  \n",
       "98190     6/6/2013 12:00:00 AM    Joseph Michael Claps  \n",
       "118877  11/16/2016 12:00:00 AM      Timothy J Chambers  \n",
       "2753     2/10/2012 12:00:00 AM           Thomas M Davy  \n",
       "68218    5/30/2013 12:00:00 AM         Nicholas R Ford  \n",
       "180315   9/15/2016 12:00:00 AM          Carol M Howard  \n",
       "142052    1/8/2015 12:00:00 AM       Thomas J Hennelly  \n",
       "192245   3/29/2017 12:00:00 AM            James B Linn  \n",
       "64246    11/9/2012 12:00:00 AM  Shelley  Sutker-Dermer  \n",
       "4562      5/6/2014 12:00:00 AM           Thomas M Davy  \n",
       "167245    1/6/2016 12:00:00 AM           Paula M Daleo  "
      ]
     },
     "execution_count": 35,
     "metadata": {},
     "output_type": "execute_result"
    }
   ],
   "source": [
    "# print related columns\n",
    "derived_columns = [col for col in df.columns if col.endswith('_derived')]\n",
    "\n",
    "df[derived_columns + [\"UPDATED_OFFENSE_CATEGORY\", \"RACE\", \"GENDER\", \"AGE_AT_INCIDENT\", \"SENTENCE_DATE\", \"SENTENCE_JUDGE\"]].sample(n = 10)"
   ]
  },
  {
   "cell_type": "markdown",
   "metadata": {},
   "source": [
    "## 1.4: Subsetting rows to analytic dataset (5 points)\n",
    "\n",
    "You decide based on the above to simplify things in the following ways:\n",
    "    \n",
    "- Subset to cases where only one participant is charged, since cases with >1 participant might have complications like \n",
    "plea bargains/informing from other participants affecting the sentencing of the focal participant\n",
    "\n",
    "- To go from a participant-case level dataset, where each participant is repeated across charges tied to the case, to a participant-level dataset, where each participant has one charge, subset to a participant's primary charge and their current sentence (`PRIMARY_CHARGE_FLAG` is True and `CURRENT_SENTENCE_FLAG` is True). Double check that this worked by confirming there are no longer multiple charges for the same case-participant\n",
    "\n",
    "- Filter out observations where judge is nan or nonsensical (indicated by is.null or equal to FLOOD)\n",
    "\n",
    "- Subset to sentencing date between 01-01-2012 and 04-05-2021 (inclusive)\n",
    "\n",
    "After completing these steps, print the number of rows in the data"
   ]
  },
  {
   "cell_type": "code",
   "execution_count": 42,
   "metadata": {
    "scrolled": true
   },
   "outputs": [
    {
     "data": {
      "text/plain": [
       "Series([], Name: CHARGE_ID, dtype: int64)"
      ]
     },
     "execution_count": 42,
     "metadata": {},
     "output_type": "execute_result"
    },
    {
     "data": {
      "text/plain": [
       "135165"
      ]
     },
     "execution_count": 42,
     "metadata": {},
     "output_type": "execute_result"
    }
   ],
   "source": [
    "## Unique Participant Cases\n",
    "participant_count = df.groupby(\"CASE_ID\")[\"CASE_PARTICIPANT_ID\"].nunique()\n",
    "unique_participant = participant_count[participant_count == 1].index\n",
    "\n",
    "df_unique_participant = df[df[\"CASE_ID\"].isin(unique_participant)]\n",
    "# df_unique_participant\n",
    "\n",
    "## Unique Charge\n",
    "df_unique_charge = df_unique_participant[(df_unique_participant[\"PRIMARY_CHARGE_FLAG\"] == True) & (df_unique_participant[\"CURRENT_SENTENCE_FLAG\"] == True)]\n",
    "# df_unique_charge\n",
    "\n",
    "# double check\n",
    "case_participant_counts = df_unique_charge.groupby([\"CASE_ID\", \"CASE_PARTICIPANT_ID\"])[\"CHARGE_ID\"].count()\n",
    "case_participant_counts[case_participant_counts > 1] # no multiple charges for the same case-participant\n",
    "\n",
    "## Filter Judges\n",
    "df_filtered_judge = df_unique_charge[ (~df_unique_charge.SENTENCE_JUDGE.isnull()) & (df_unique_charge.SENTENCE_JUDGE != \"FLOOD\")]\n",
    "# df_filtered_judge \n",
    "\n",
    "## Filter Date\n",
    "df_filtered_final = df_filtered_judge[ (df_filtered_judge.sentenceymd_derived >= \"01-01-2012\") & (df_filtered_judge.sentenceymd_derived <= \"04-05-2021\")]\n",
    "# df_filtered_final\n",
    "df_filtered_final.shape[0] # number of rows: 135165"
   ]
  },
  {
   "cell_type": "markdown",
   "metadata": {},
   "source": [
    "# Part two: investigating Black vs. White sentencing disparities\n",
    "\n",
    "Now that the data are cleaned, we're going to investigate different types of disparities in sentencing between Black defendants and White defendants. We're focusing on these groups for the purpose of the problem set, but the analysis could be extended to study Hispanic defendants or, in a different jurisdiction, Asian and other minoritized groups.\n",
    "\n",
    "**Details if interested in digging deeper**: If interested (optional), you can read more technical coverage of how we might (1) measure disparities, and (2) what factors you want to adjust for when deciding whether two defendants are 'similarly situated' but for their race in the following sources:\n",
    "\n",
    "- [Review of sentencing disparities research](https://www.journals.uchicago.edu/doi/full/10.1086/701505)\n",
    "- [Discussion of causal model/blinding race at charging stage of the prosecutorial process](https://5harad.com/papers/blind-charging.pdf)\n",
    "- [Discussion of measuring discrimination in policing that can generalize to the sentencing case](https://www.annualreviews.org/doi/abs/10.1146/annurev-criminol-011518-024731)\n",
    "- [General discussion of causal challenges in measuring between-group disparities](https://osf.io/preprints/socarxiv/gx4y3/)\n",
    "\n",
    "**One major caveat**: when investigating whether two similar defendants received different sentences, we're missing one important attribute that influences sentencing: the defendant's criminal history. This influences sentencing both through sentencing guidelines, which can prescribe longer sentences for those who have certain types of prior convictions, and through judicial discretion if judges are more lenient with first-time defendants. The above sources discuss how much we want to \"control away\" for this prior history, since if we think there are racial biases in which defendants, conditional on *committing* a crime, are arrested and charged, we may not want to adjust for that factor. More discussion [in this article](https://www.themarshallproject.org/2019/12/03/the-growing-racial-disparity-in-prison-time)\n"
   ]
  },
  {
   "cell_type": "markdown",
   "metadata": {},
   "source": [
    "## 2.0: (0 points)"
   ]
  },
  {
   "cell_type": "markdown",
   "metadata": {},
   "source": [
    "First, read in the following dataset (regardless of progress on part one): `sentencing_cleaned.pkl` (if you can't read in the pkl you can read in the .csv format but may need to recast some of the datetime columns)\n",
    "\n",
    "*Note*: don't worry if there are slight differences in your output from Part One and this dataset/it's not a good use of time to try to reverse engineer Part One answers from this cleaned data."
   ]
  },
  {
   "cell_type": "code",
   "execution_count": 45,
   "metadata": {},
   "outputs": [
    {
     "data": {
      "text/html": [
       "<div>\n",
       "<style scoped>\n",
       "    .dataframe tbody tr th:only-of-type {\n",
       "        vertical-align: middle;\n",
       "    }\n",
       "\n",
       "    .dataframe tbody tr th {\n",
       "        vertical-align: top;\n",
       "    }\n",
       "\n",
       "    .dataframe thead th {\n",
       "        text-align: right;\n",
       "    }\n",
       "</style>\n",
       "<table border=\"1\" class=\"dataframe\">\n",
       "  <thead>\n",
       "    <tr style=\"text-align: right;\">\n",
       "      <th></th>\n",
       "      <th>CASE_ID</th>\n",
       "      <th>CASE_PARTICIPANT_ID</th>\n",
       "      <th>RECEIVED_DATE</th>\n",
       "      <th>OFFENSE_CATEGORY</th>\n",
       "      <th>PRIMARY_CHARGE_FLAG</th>\n",
       "      <th>CHARGE_ID</th>\n",
       "      <th>CHARGE_VERSION_ID</th>\n",
       "      <th>DISPOSITION_CHARGED_OFFENSE_TITLE</th>\n",
       "      <th>CHARGE_COUNT</th>\n",
       "      <th>DISPOSITION_DATE</th>\n",
       "      <th>...</th>\n",
       "      <th>simplified_offense_derived</th>\n",
       "      <th>is_black_derived</th>\n",
       "      <th>is_hisp_derived</th>\n",
       "      <th>is_white_derived</th>\n",
       "      <th>is_other_derived</th>\n",
       "      <th>is_male_derived</th>\n",
       "      <th>age_derived</th>\n",
       "      <th>sentenceymd_derived</th>\n",
       "      <th>sentenceym_derived</th>\n",
       "      <th>judgeid_derived</th>\n",
       "    </tr>\n",
       "  </thead>\n",
       "  <tbody>\n",
       "    <tr>\n",
       "      <th>9</th>\n",
       "      <td>149765331439</td>\n",
       "      <td>175691153649</td>\n",
       "      <td>8/15/1984 12:00:00 AM</td>\n",
       "      <td>PROMIS Conversion</td>\n",
       "      <td>True</td>\n",
       "      <td>50510062193</td>\n",
       "      <td>112898098217</td>\n",
       "      <td>FIRST DEGREE MURDER</td>\n",
       "      <td>1</td>\n",
       "      <td>12/17/2014 12:00:00 AM</td>\n",
       "      <td>...</td>\n",
       "      <td>Homicide</td>\n",
       "      <td>True</td>\n",
       "      <td>False</td>\n",
       "      <td>False</td>\n",
       "      <td>False</td>\n",
       "      <td>True</td>\n",
       "      <td>27.0</td>\n",
       "      <td>2014-10-16</td>\n",
       "      <td>2014-10-01</td>\n",
       "      <td>judge_40</td>\n",
       "    </tr>\n",
       "    <tr>\n",
       "      <th>16</th>\n",
       "      <td>150065796098</td>\n",
       "      <td>162105612284</td>\n",
       "      <td>8/23/1984 12:00:00 AM</td>\n",
       "      <td>PROMIS Conversion</td>\n",
       "      <td>True</td>\n",
       "      <td>50792360681</td>\n",
       "      <td>113332130159</td>\n",
       "      <td>FIRST DEGREE MURDER</td>\n",
       "      <td>1</td>\n",
       "      <td>8/6/2014 12:00:00 AM</td>\n",
       "      <td>...</td>\n",
       "      <td>Homicide</td>\n",
       "      <td>True</td>\n",
       "      <td>False</td>\n",
       "      <td>False</td>\n",
       "      <td>False</td>\n",
       "      <td>True</td>\n",
       "      <td>30.0</td>\n",
       "      <td>2014-08-06</td>\n",
       "      <td>2014-08-01</td>\n",
       "      <td>judge_310</td>\n",
       "    </tr>\n",
       "    <tr>\n",
       "      <th>18</th>\n",
       "      <td>154954734978</td>\n",
       "      <td>225758446387</td>\n",
       "      <td>6/8/2001 12:00:00 AM</td>\n",
       "      <td>PROMIS Conversion</td>\n",
       "      <td>True</td>\n",
       "      <td>54885211141</td>\n",
       "      <td>174293345821</td>\n",
       "      <td>VIO BAIL BOND/CLASS 1</td>\n",
       "      <td>1</td>\n",
       "      <td>12/2/2013 12:00:00 AM</td>\n",
       "      <td>...</td>\n",
       "      <td>PROMIS Conversion</td>\n",
       "      <td>False</td>\n",
       "      <td>True</td>\n",
       "      <td>False</td>\n",
       "      <td>False</td>\n",
       "      <td>True</td>\n",
       "      <td>38.0</td>\n",
       "      <td>2013-12-02</td>\n",
       "      <td>2013-12-01</td>\n",
       "      <td>judge_162</td>\n",
       "    </tr>\n",
       "    <tr>\n",
       "      <th>19</th>\n",
       "      <td>155222744754</td>\n",
       "      <td>217349881776</td>\n",
       "      <td>1/31/2001 12:00:00 AM</td>\n",
       "      <td>PROMIS Conversion</td>\n",
       "      <td>True</td>\n",
       "      <td>53899906462</td>\n",
       "      <td>280120721775</td>\n",
       "      <td>POSS AMT CON SUB EXCEPT (A)/(D)</td>\n",
       "      <td>1</td>\n",
       "      <td>9/10/2012 12:00:00 AM</td>\n",
       "      <td>...</td>\n",
       "      <td>Narcotics</td>\n",
       "      <td>True</td>\n",
       "      <td>False</td>\n",
       "      <td>False</td>\n",
       "      <td>False</td>\n",
       "      <td>False</td>\n",
       "      <td>33.0</td>\n",
       "      <td>2012-09-10</td>\n",
       "      <td>2012-09-01</td>\n",
       "      <td>judge_331</td>\n",
       "    </tr>\n",
       "    <tr>\n",
       "      <th>26</th>\n",
       "      <td>155327892699</td>\n",
       "      <td>217212381455</td>\n",
       "      <td>2/6/2001 12:00:00 AM</td>\n",
       "      <td>PROMIS Conversion</td>\n",
       "      <td>True</td>\n",
       "      <td>53938518259</td>\n",
       "      <td>164877860811</td>\n",
       "      <td>DUI LIC SUSPENDED OR REVOKED (EFFECTIVE 4-13-2...</td>\n",
       "      <td>1</td>\n",
       "      <td>9/19/2014 12:00:00 AM</td>\n",
       "      <td>...</td>\n",
       "      <td>PROMIS Conversion</td>\n",
       "      <td>False</td>\n",
       "      <td>False</td>\n",
       "      <td>True</td>\n",
       "      <td>False</td>\n",
       "      <td>True</td>\n",
       "      <td>49.0</td>\n",
       "      <td>2014-09-19</td>\n",
       "      <td>2014-09-01</td>\n",
       "      <td>judge_314</td>\n",
       "    </tr>\n",
       "  </tbody>\n",
       "</table>\n",
       "<p>5 rows × 52 columns</p>\n",
       "</div>"
      ],
      "text/plain": [
       "         CASE_ID  CASE_PARTICIPANT_ID          RECEIVED_DATE  \\\n",
       "9   149765331439         175691153649  8/15/1984 12:00:00 AM   \n",
       "16  150065796098         162105612284  8/23/1984 12:00:00 AM   \n",
       "18  154954734978         225758446387   6/8/2001 12:00:00 AM   \n",
       "19  155222744754         217349881776  1/31/2001 12:00:00 AM   \n",
       "26  155327892699         217212381455   2/6/2001 12:00:00 AM   \n",
       "\n",
       "     OFFENSE_CATEGORY  PRIMARY_CHARGE_FLAG    CHARGE_ID  CHARGE_VERSION_ID  \\\n",
       "9   PROMIS Conversion                 True  50510062193       112898098217   \n",
       "16  PROMIS Conversion                 True  50792360681       113332130159   \n",
       "18  PROMIS Conversion                 True  54885211141       174293345821   \n",
       "19  PROMIS Conversion                 True  53899906462       280120721775   \n",
       "26  PROMIS Conversion                 True  53938518259       164877860811   \n",
       "\n",
       "                    DISPOSITION_CHARGED_OFFENSE_TITLE  CHARGE_COUNT  \\\n",
       "9                                 FIRST DEGREE MURDER             1   \n",
       "16                                FIRST DEGREE MURDER             1   \n",
       "18                              VIO BAIL BOND/CLASS 1             1   \n",
       "19                    POSS AMT CON SUB EXCEPT (A)/(D)             1   \n",
       "26  DUI LIC SUSPENDED OR REVOKED (EFFECTIVE 4-13-2...             1   \n",
       "\n",
       "          DISPOSITION_DATE  ... simplified_offense_derived is_black_derived  \\\n",
       "9   12/17/2014 12:00:00 AM  ...                   Homicide             True   \n",
       "16    8/6/2014 12:00:00 AM  ...                   Homicide             True   \n",
       "18   12/2/2013 12:00:00 AM  ...          PROMIS Conversion            False   \n",
       "19   9/10/2012 12:00:00 AM  ...                  Narcotics             True   \n",
       "26   9/19/2014 12:00:00 AM  ...          PROMIS Conversion            False   \n",
       "\n",
       "   is_hisp_derived is_white_derived is_other_derived is_male_derived  \\\n",
       "9            False            False            False            True   \n",
       "16           False            False            False            True   \n",
       "18            True            False            False            True   \n",
       "19           False            False            False           False   \n",
       "26           False             True            False            True   \n",
       "\n",
       "   age_derived sentenceymd_derived sentenceym_derived judgeid_derived  \n",
       "9         27.0          2014-10-16         2014-10-01        judge_40  \n",
       "16        30.0          2014-08-06         2014-08-01       judge_310  \n",
       "18        38.0          2013-12-02         2013-12-01       judge_162  \n",
       "19        33.0          2012-09-10         2012-09-01       judge_331  \n",
       "26        49.0          2014-09-19         2014-09-01       judge_314  \n",
       "\n",
       "[5 rows x 52 columns]"
      ]
     },
     "execution_count": 45,
     "metadata": {},
     "output_type": "execute_result"
    }
   ],
   "source": [
    "df2 = pd.read_pickle(\"sentencing_cleaned.pkl\")\n",
    "df2.head()"
   ]
  },
  {
   "cell_type": "markdown",
   "metadata": {},
   "source": [
    "## 2.1: Investigating one type of between-group difference: who reaches the sentencing stage? (5 points)\n",
    "\n",
    "Tabulate and visualize the proportion of defendants, out of all defendants sentenced in a given month/year, who are Black and who are White (separate proportions)\n",
    "\n",
    "- Denominator is number of unique cases that month\n",
    "- Numerator for black defendants is count of is_black_derived\n",
    "- Numerator for white defendants is count of is_white_derived\n",
    "- Fraction of each is numerator/denominator\n",
    "\n",
    "- Print the table\n",
    "- Create a graph with two lines--- one for Black defendants as fraction of total; another for White defendants. Make sure it includes a legend summarizing which color is for which group, and clean the legend so that it has informative names (e.g., Black or White rather than prop_black or prop_white)\n",
    "- Use mathematical notation to write out each of the proportions using summation notation in a 1-2 sentence writeup describing trends. What seems to be going on in April and May 2020? \n",
    "\n",
    "**Optional challenge**: improve the viz by shading the background of the visualization for months with fewer than 100 cases \n",
    "\n",
    "**Optional challenge**: improve the viz by adding a vertical line for 12-01-2016, the month that new State's Attorney Foxx took office "
   ]
  },
  {
   "cell_type": "code",
   "execution_count": 46,
   "metadata": {},
   "outputs": [
    {
     "name": "stdout",
     "output_type": "stream",
     "text": [
      "    sentenceym_derived  prop_black  prop_white\n",
      "0           2012-01-01    0.677419    0.144564\n",
      "1           2012-02-01    0.648966    0.160690\n",
      "2           2012-03-01    0.638958    0.158189\n",
      "3           2012-04-01    0.696379    0.146936\n",
      "4           2012-05-01    0.695146    0.144337\n",
      "..                 ...         ...         ...\n",
      "106         2020-11-01    0.606925    0.154786\n",
      "107         2020-12-01    0.646182    0.158287\n",
      "108         2021-01-01    0.621924    0.111857\n",
      "109         2021-02-01    0.651731    0.134420\n",
      "110         2021-03-01    0.680451    0.148496\n",
      "\n",
      "[111 rows x 3 columns]\n"
     ]
    }
   ],
   "source": [
    "# 1. Calculate the monthly proportion of Black and White defendants\n",
    "prop_black = df2.groupby('sentenceym_derived')['is_black_derived'].sum()\n",
    "prop_white = df2.groupby('sentenceym_derived')['is_white_derived'].sum()\n",
    "denominator = df2.groupby('sentenceym_derived')['CASE_ID'].nunique()\n",
    "\n",
    "# Calculate the fraction\n",
    "prop_black_fraction = prop_black / denominator\n",
    "prop_white_fraction = prop_white / denominator\n",
    "\n",
    "# 2. Create a DataFrame \n",
    "proportions_df = pd.DataFrame({\n",
    "    'prop_black': prop_black_fraction,\n",
    "    'prop_white': prop_white_fraction\n",
    "}).reset_index()\n",
    "print(proportions_df)"
   ]
  },
  {
   "cell_type": "code",
   "execution_count": 48,
   "metadata": {},
   "outputs": [
    {
     "data": {
      "text/plain": [
       "<Figure size 1000x600 with 0 Axes>"
      ]
     },
     "execution_count": 48,
     "metadata": {},
     "output_type": "execute_result"
    },
    {
     "data": {
      "text/plain": [
       "[<matplotlib.lines.Line2D at 0x14f6ffbc0>]"
      ]
     },
     "execution_count": 48,
     "metadata": {},
     "output_type": "execute_result"
    },
    {
     "data": {
      "text/plain": [
       "[<matplotlib.lines.Line2D at 0x2a2398530>]"
      ]
     },
     "execution_count": 48,
     "metadata": {},
     "output_type": "execute_result"
    },
    {
     "data": {
      "text/plain": [
       "Text(0.5, 0, 'Month/Year')"
      ]
     },
     "execution_count": 48,
     "metadata": {},
     "output_type": "execute_result"
    },
    {
     "data": {
      "text/plain": [
       "Text(0, 0.5, 'Proportion of Defendants')"
      ]
     },
     "execution_count": 48,
     "metadata": {},
     "output_type": "execute_result"
    },
    {
     "data": {
      "text/plain": [
       "Text(0.5, 1.0, 'Proportion of Black and White Defendants Over Time')"
      ]
     },
     "execution_count": 48,
     "metadata": {},
     "output_type": "execute_result"
    },
    {
     "data": {
      "text/plain": [
       "<matplotlib.legend.Legend at 0x2a23483b0>"
      ]
     },
     "execution_count": 48,
     "metadata": {},
     "output_type": "execute_result"
    },
    {
     "data": {
      "text/plain": [
       "<matplotlib.collections.LineCollection at 0x287eeb890>"
      ]
     },
     "execution_count": 48,
     "metadata": {},
     "output_type": "execute_result"
    },
    {
     "data": {
      "text/plain": [
       "Text(2017-01-01 00:00:00, 0.5, \"State's Attorney Foxx Takes Office\")"
      ]
     },
     "execution_count": 48,
     "metadata": {},
     "output_type": "execute_result"
    },
    {
     "data": {
      "image/png": "[encoded data removed]",
      "text/plain": [
       "<Figure size 1000x600 with 1 Axes>"
      ]
     },
     "metadata": {},
     "output_type": "display_data"
    }
   ],
   "source": [
    "# 3. Data visualization\n",
    "plt.figure(figsize=(10, 6))\n",
    "plt.plot(proportions_df['sentenceym_derived'], proportions_df['prop_black'], label='Black Defendants', color='navy')\n",
    "plt.plot(proportions_df['sentenceym_derived'], proportions_df['prop_white'], label='White Defendants', color='palevioletred')\n",
    "\n",
    "# Make the plot prettier\n",
    "plt.xlabel('Month/Year')\n",
    "plt.ylabel('Proportion of Defendants')\n",
    "plt.title('Proportion of Black and White Defendants Over Time')\n",
    "plt.legend(title=\"Defendant Group\")\n",
    "\n",
    "# add vertical line\n",
    "plt.vlines(pd.to_datetime('2016-12-01'), ymin=0, ymax=0.8, color='red')\n",
    "\n",
    "plt.annotate(\n",
    "    \"State's Attorney Foxx Takes Office\", \n",
    "    xy=(pd.to_datetime('2017-01-01'), 0.5),\n",
    "    fontsize=10, \n",
    "    color='red' \n",
    ")\n",
    "\n",
    "plt.show()"
   ]
  },
  {
   "cell_type": "markdown",
   "metadata": {},
   "source": [
    "### Mathematical Equation and the Trend\n",
    "$N_m$ represents total number of unique cases in month $m$.\n",
    "$I(\\text{is\\_black\\_derived})$ is the indicator function that equals 1 if the defendant in case $i$ is Black and 0 otherwise (vice versa for White defendants).\n",
    "\n",
    "The proportion of Black defendants sentenced in month $m$ is $$ P_{\\text{Black}, m} = \\frac{\\sum_{i=1}^{N_m} I(\\text{is\\_black\\_derived})}{N_m} $$\n",
    "\n",
    "The proportion of White defendants sentenced in month $m$ is$$ P_{\\text{White}, m} = \\frac{\\sum_{i=1}^{N_m} I(\\text{is\\_white\\_derived})}{N_m} $$"
   ]
  },
  {
   "cell_type": "markdown",
   "metadata": {},
   "source": [
    "In general, the proportions of Black and White defendants sentenced each month remains quite consistent over time, with the proportion of Black defendants, $P_{\\text{Black}, m}$, being notably higher. However, in April and May 2020, there is a sharp drop in the proportion of Black defendants, $P_{\\text{Black}, m}$, and a spike in the proportion of White defendants, $P_{\\text{White}, m}$. One reason might be the COVID-19 pandemic, which likely disrupted court proceedings and delayed cases, particularly affecting historically disadvantaged groups who were more vulnerable during this period. Additionally, the murder of George Floyd on May 25, 2020, and the subsequent protests may have influenced public awareness and reporting of racial disparities in the criminal justice system."
   ]
  },
  {
   "cell_type": "markdown",
   "metadata": {},
   "source": [
    "## 2.2: Investigating the first type of disparity: probation versus incaceration (10 points)\n",
    "\n",
    "One type of disparity beyond who arrives at the sentencing stage is whether the defendant receives probation or incaceration.\n",
    "\n",
    "According to the codebook, incarceration is indicated by `COMMITMENT_TYPE` == \"Illinois Department of Corrections\"\n",
    "\n",
    "Recreate the previous plot but where the y axis represents the difference between the following proportions (can be either Black - White or White - Black but make sure to label), adding a smoothed line:\n",
    "\n",
    "- Percent of black defendants who are incarcerated out of all black defendants that month/year \n",
    "- Percent of white defendants who are incarcerated out of all white defendants that month/year \n",
    "\n",
    "In a markdown cell after, write 1-2 sentences on your observations of trends over time. Do gaps seem to be widening or increasing?"
   ]
  },
  {
   "cell_type": "code",
   "execution_count": 51,
   "metadata": {},
   "outputs": [
    {
     "data": {
      "text/plain": [
       "<Figure size 1000x600 with 0 Axes>"
      ]
     },
     "execution_count": 51,
     "metadata": {},
     "output_type": "execute_result"
    },
    {
     "data": {
      "text/plain": [
       "[<matplotlib.lines.Line2D at 0x28f273170>]"
      ]
     },
     "execution_count": 51,
     "metadata": {},
     "output_type": "execute_result"
    },
    {
     "data": {
      "text/plain": [
       "[<matplotlib.lines.Line2D at 0x28f272f00>]"
      ]
     },
     "execution_count": 51,
     "metadata": {},
     "output_type": "execute_result"
    },
    {
     "data": {
      "text/plain": [
       "Text(0.5, 0, 'Month/Year')"
      ]
     },
     "execution_count": 51,
     "metadata": {},
     "output_type": "execute_result"
    },
    {
     "data": {
      "text/plain": [
       "Text(0, 0.5, 'Black - White Incarceration Proportion Difference')"
      ]
     },
     "execution_count": 51,
     "metadata": {},
     "output_type": "execute_result"
    },
    {
     "data": {
      "text/plain": [
       "Text(0.5, 1.0, 'Difference in Proportion of Black vs White Incarceration Over Time')"
      ]
     },
     "execution_count": 51,
     "metadata": {},
     "output_type": "execute_result"
    },
    {
     "data": {
      "text/plain": [
       "<matplotlib.legend.Legend at 0x2924c6450>"
      ]
     },
     "execution_count": 51,
     "metadata": {},
     "output_type": "execute_result"
    },
    {
     "data": {
      "image/png": "[encoded data removed]",
      "text/plain": [
       "<Figure size 1000x600 with 1 Axes>"
      ]
     },
     "metadata": {},
     "output_type": "display_data"
    }
   ],
   "source": [
    "# 1. Find the percentages\n",
    "incarcerated_black = df2[df2['COMMITMENT_TYPE'] == 'Illinois Department of Corrections'].groupby('sentenceym_derived')['is_black_derived'].sum()\n",
    "incarcerated_white = df2[df2['COMMITMENT_TYPE'] == 'Illinois Department of Corrections'].groupby('sentenceym_derived')['is_white_derived'].sum()\n",
    "percent_black = incarcerated_black / prop_black\n",
    "percent_white = incarcerated_white / prop_white\n",
    "\n",
    "# 2. Create a DataFrame \n",
    "proportions_diff_df = pd.DataFrame({\n",
    "    'prop_black_incarcerated': percent_black,\n",
    "    'prop_white_incarcerated': percent_white,\n",
    "    'diff_black_white': percent_black - percent_white\n",
    "}).reset_index()\n",
    "\n",
    "proportions_diff_df['smoothed_diff'] = proportions_diff_df['diff_black_white'].rolling(window=3).mean()\n",
    "\n",
    "# 3. Data Visualization\n",
    "plt.figure(figsize=(10, 6))\n",
    "plt.plot(proportions_diff_df['sentenceym_derived'], proportions_diff_df['diff_black_white'], label='Black - White Incarceration Proportion Difference', color='teal')\n",
    "plt.plot(proportions_diff_df['sentenceym_derived'], proportions_diff_df['smoothed_diff'], label='Smoothed Proportion Difference', color='blueviolet')\n",
    "\n",
    "# Make the plot prettier\n",
    "plt.xlabel('Month/Year')\n",
    "plt.ylabel('Black - White Incarceration Proportion Difference')\n",
    "plt.title('Difference in Proportion of Black vs White Incarceration Over Time')\n",
    "plt.legend(title=\"Proportion Difference\")\n",
    "\n",
    "plt.show()"
   ]
  },
  {
   "cell_type": "markdown",
   "metadata": {},
   "source": [
    "Over time, the difference in the proportion of Black versus White defendants being incarcerated remains mostly the same, with some fluctuations. There was a notable convergence around 2020, where the gap between the two groups sharply decreased, followed by a quick rebound."
   ]
  },
  {
   "cell_type": "markdown",
   "metadata": {},
   "source": [
    "## 2.3: Investigating mechanisms: incaceration rates by charge\n",
    "\n",
    "Your colleague sees the previous graph and is worried that the gap could be different---either wider or smaller---if you adjust for the fact that prosecutors have discretion in what crimes to charge defendants with. If white defendants are charged with crimes that tend to receive probation rather than incarceration, that could explain some of the gaps.\n",
    "\n",
    "In the next questions, you'll begin to investigate this."
   ]
  },
  {
   "cell_type": "markdown",
   "metadata": {},
   "source": [
    "### 2.3.1: Find the most common offenses (3 points)\n",
    "\n",
    "First, create a set of 'frequent offenses' that represent (over the entire period) the union of the 10 offenses Black defendant are most likely to be charged with and the 10 offenses white defendants are most likely to be charged with (might be far less than 20 total if there's a lot of overlap in common charges)\n",
    "\n",
    "Use the `simplified_offense_derived` for this"
   ]
  },
  {
   "cell_type": "code",
   "execution_count": 53,
   "metadata": {},
   "outputs": [
    {
     "data": {
      "text/plain": [
       "{'Battery',\n",
       " 'Burglary',\n",
       " 'DUI',\n",
       " 'Driving With Suspended Or Revoked License',\n",
       " 'Narcotics',\n",
       " 'Other Offense',\n",
       " 'Residential Burglary',\n",
       " 'Retail Theft',\n",
       " 'Robbery',\n",
       " 'Theft',\n",
       " 'UUW - Unlawful Use of Weapon',\n",
       " 'Vehicle-related'}"
      ]
     },
     "execution_count": 53,
     "metadata": {},
     "output_type": "execute_result"
    }
   ],
   "source": [
    "#find the top 10 offenses for black and white defendents respectively\n",
    "top10_offense_black=df2[(df2[\"is_black_derived\"]==True)].value_counts(\"simplified_offense_derived\")[:10].index.to_list()\n",
    "top10_offense_white=df2[(df2[\"is_white_derived\"]==True)].value_counts(\"simplified_offense_derived\")[:10].index.to_list()\n",
    "\n",
    "#join the two lists and remove duplicates using set() to find set of frequent offenses\n",
    "unique_offenses = set(top10_offense_black + top10_offense_white)\n",
    "unique_offenses"
   ]
  },
  {
   "cell_type": "markdown",
   "metadata": {},
   "source": [
    "### 2.3.2: Look at incarceration rates (again just whether incarcerated) by race and offense type for these top offenses (3 points)\n",
    "\n",
    "Print a wide-format version of the resulting table (so each row is an offense type, one col is black incarceration rate for that offense type; another is the white incarceration rate) and interpret. Which offenses show the largest disparities in judges being less likely to sentence White defendants to incarceration/more likely to offer those defendants probation?\n"
   ]
  },
  {
   "cell_type": "code",
   "execution_count": 54,
   "metadata": {},
   "outputs": [
    {
     "data": {
      "text/html": [
       "<div>\n",
       "<style scoped>\n",
       "    .dataframe tbody tr th:only-of-type {\n",
       "        vertical-align: middle;\n",
       "    }\n",
       "\n",
       "    .dataframe tbody tr th {\n",
       "        vertical-align: top;\n",
       "    }\n",
       "\n",
       "    .dataframe thead th {\n",
       "        text-align: right;\n",
       "    }\n",
       "</style>\n",
       "<table border=\"1\" class=\"dataframe\">\n",
       "  <thead>\n",
       "    <tr style=\"text-align: right;\">\n",
       "      <th></th>\n",
       "      <th>simplified_offense_derived</th>\n",
       "      <th>incarceration_rate_black_freq</th>\n",
       "      <th>incarceration_rate_white_freq</th>\n",
       "    </tr>\n",
       "  </thead>\n",
       "  <tbody>\n",
       "    <tr>\n",
       "      <th>0</th>\n",
       "      <td>Battery</td>\n",
       "      <td>0.509032</td>\n",
       "      <td>0.275552</td>\n",
       "    </tr>\n",
       "    <tr>\n",
       "      <th>1</th>\n",
       "      <td>Burglary</td>\n",
       "      <td>0.661927</td>\n",
       "      <td>0.535763</td>\n",
       "    </tr>\n",
       "    <tr>\n",
       "      <th>2</th>\n",
       "      <td>DUI</td>\n",
       "      <td>0.404997</td>\n",
       "      <td>0.341855</td>\n",
       "    </tr>\n",
       "    <tr>\n",
       "      <th>3</th>\n",
       "      <td>Driving With Suspended Or Revoked License</td>\n",
       "      <td>0.582193</td>\n",
       "      <td>0.496552</td>\n",
       "    </tr>\n",
       "    <tr>\n",
       "      <th>4</th>\n",
       "      <td>Narcotics</td>\n",
       "      <td>0.537876</td>\n",
       "      <td>0.242535</td>\n",
       "    </tr>\n",
       "    <tr>\n",
       "      <th>5</th>\n",
       "      <td>Other Offense</td>\n",
       "      <td>0.340580</td>\n",
       "      <td>0.230228</td>\n",
       "    </tr>\n",
       "    <tr>\n",
       "      <th>6</th>\n",
       "      <td>Residential Burglary</td>\n",
       "      <td>0.717791</td>\n",
       "      <td>0.654114</td>\n",
       "    </tr>\n",
       "    <tr>\n",
       "      <th>7</th>\n",
       "      <td>Retail Theft</td>\n",
       "      <td>0.595713</td>\n",
       "      <td>0.449582</td>\n",
       "    </tr>\n",
       "    <tr>\n",
       "      <th>8</th>\n",
       "      <td>Robbery</td>\n",
       "      <td>0.650341</td>\n",
       "      <td>0.589286</td>\n",
       "    </tr>\n",
       "    <tr>\n",
       "      <th>9</th>\n",
       "      <td>Theft</td>\n",
       "      <td>0.386961</td>\n",
       "      <td>0.318721</td>\n",
       "    </tr>\n",
       "    <tr>\n",
       "      <th>10</th>\n",
       "      <td>UUW - Unlawful Use of Weapon</td>\n",
       "      <td>0.696191</td>\n",
       "      <td>0.481973</td>\n",
       "    </tr>\n",
       "    <tr>\n",
       "      <th>11</th>\n",
       "      <td>Vehicle-related</td>\n",
       "      <td>0.553750</td>\n",
       "      <td>0.585635</td>\n",
       "    </tr>\n",
       "  </tbody>\n",
       "</table>\n",
       "</div>"
      ],
      "text/plain": [
       "                   simplified_offense_derived  incarceration_rate_black_freq  \\\n",
       "0                                     Battery                       0.509032   \n",
       "1                                    Burglary                       0.661927   \n",
       "2                                         DUI                       0.404997   \n",
       "3   Driving With Suspended Or Revoked License                       0.582193   \n",
       "4                                   Narcotics                       0.537876   \n",
       "5                               Other Offense                       0.340580   \n",
       "6                        Residential Burglary                       0.717791   \n",
       "7                                Retail Theft                       0.595713   \n",
       "8                                     Robbery                       0.650341   \n",
       "9                                       Theft                       0.386961   \n",
       "10               UUW - Unlawful Use of Weapon                       0.696191   \n",
       "11                            Vehicle-related                       0.553750   \n",
       "\n",
       "    incarceration_rate_white_freq  \n",
       "0                        0.275552  \n",
       "1                        0.535763  \n",
       "2                        0.341855  \n",
       "3                        0.496552  \n",
       "4                        0.242535  \n",
       "5                        0.230228  \n",
       "6                        0.654114  \n",
       "7                        0.449582  \n",
       "8                        0.589286  \n",
       "9                        0.318721  \n",
       "10                       0.481973  \n",
       "11                       0.585635  "
      ]
     },
     "execution_count": 54,
     "metadata": {},
     "output_type": "execute_result"
    }
   ],
   "source": [
    "# make a filter that indicates if the defendent is incarcerated\n",
    "df2[\"is_incarcerated\"]=df2['COMMITMENT_TYPE'] == 'Illinois Department of Corrections'\n",
    "is_incarcerated =df2['COMMITMENT_TYPE'] == 'Illinois Department of Corrections'\n",
    "\n",
    "#calculate the incarceration rate by:\n",
    "#1. subset the dataframe so that the offense is among the top offenses\n",
    "#2. subset again by race respectively\n",
    "#3. groupby offenses and calculate the mean of incarcerate rate\n",
    "incarceration_rate_black_freq=df2[(df2[\"simplified_offense_derived\"].isin(unique_offenses))&(df2[\"is_black_derived\"]==True)].groupby(\"simplified_offense_derived\")[\"is_incarcerated\"].mean()\n",
    "incarceration_rate_white_freq=df2[(df2[\"simplified_offense_derived\"].isin(unique_offenses))&(df2[\"is_white_derived\"]==True)].groupby(\"simplified_offense_derived\")[\"is_incarcerated\"].mean()\n",
    "\n",
    "#create a new dataframe\n",
    "freq_proportions_diff_df = pd.DataFrame({\n",
    "    'incarceration_rate_black_freq': incarceration_rate_black_freq,\n",
    "    'incarceration_rate_white_freq': incarceration_rate_white_freq,\n",
    "}).reset_index()\n",
    "freq_proportions_diff_df"
   ]
  },
  {
   "cell_type": "markdown",
   "metadata": {},
   "source": [
    "Battery, Narcotics, and Unlawful Use of Weapon sees the highest disparity of incarceration rates of different races."
   ]
  },
  {
   "cell_type": "markdown",
   "metadata": {},
   "source": [
    "### 2.3.3: Examine whether this changes pre and post change to charging threshold for retail theft (13 points)\n",
    "\n",
    "One important question is not only whether there are disparities by offense type but also whether these disparities are changing over time.\n",
    "\n",
    "The SAO, for instance, announced in December of 2016 that they would no longer default to charging retail thefts of under \\$1,000 as felonies. This change might have (1) decreased disparities or (2) increased disparities, depending on the correlation between race/ethnicity and magnitude of goods stolen: [news coverage](https://www.dnainfo.com/chicago/20161215/little-village/kim-foxx-raises-bar-for-retail-theft-felonies/). \n",
    "\n",
    "Focusing on `simplified_offense_derived` == \"Retail theft.\" Using a function and/or loop (Dec. 2016 is always excluded as a transition month):\n",
    "\n",
    "- Compare Black-White disparities before and after the change using a two-month bandwidth (so pre is October and November 2016; post is January and February 2017)\n",
    "\n",
    "- Compare Black-White disparities before and after the change using a four-month bandwidth (so pre is August- November 2016; post is January - April 2017)\n",
    "\n",
    "- Compare Black-White disparities using an eight-month bandwidth\n",
    "\n",
    "- Compare Black-White disparities using a twelve-month bandwidth\n",
    "\n",
    "\n",
    "------------------ \n",
    "\n",
    "- Print a table with the results (any organization is fine as long as it's clear)  \n",
    "\n",
    "- Create a bar chart where the x axis represents different bandwidths (2, 4, etc); the y axis the size of the Black-White gap in whether the defendant receives incarceration, and for each of the x axis points, you have one shaded bar representing \"before\" the change, another representing \"after\" the change (make sure that before is ordered before after and the bandwidths are from smallest to largest)\n",
    "\n",
    "*Note*: for each of the bandwidths include dates the entire month (e.g., for the first, include not only 02-01-2017 but everything up through 02-28-2017; easiest way is for the subsetting to use the rounded `sentenceym_derived`). Also make sure to only include white or black defendants.\n",
    "\n",
    "\n",
    "**Extra credit**: because the bandwidths have different sample sizes, a better viz incorporates measures of uncertainty. Add standard errors to the estimates using the formula: $(\\dfrac{p(1-p)}{n})^{0.5}$ where $p$ is the gap and $N$ is the number of cases in each bandwidth period \n"
   ]
  },
  {
   "cell_type": "code",
   "execution_count": 55,
   "metadata": {},
   "outputs": [
    {
     "name": "stdout",
     "output_type": "stream",
     "text": [
      "Result using a two months bandswidth\n",
      "   Time Period  Black Incarceration Rate  White Incarceration Rate\n",
      "0   Pre-change                  0.626374                  0.538462\n",
      "1  Post-change                  0.372340                  0.217391\n",
      "Result using a four months bandswidth\n",
      "   Time Period  Black Incarceration Rate  White Incarceration Rate\n",
      "0   Pre-change                  0.558511                  0.476923\n",
      "1  Post-change                  0.411972                  0.330357\n",
      "Result using a eight months bandswidth\n",
      "   Time Period  Black Incarceration Rate  White Incarceration Rate\n",
      "0   Pre-change                   0.56899                   0.43609\n",
      "1  Post-change                   0.49345                   0.45000\n",
      "Result using a twelve months bandswidth\n",
      "   Time Period  Black Incarceration Rate  White Incarceration Rate\n",
      "0   Pre-change                  0.580889                  0.419271\n",
      "1  Post-change                  0.510714                  0.446009\n"
     ]
    }
   ],
   "source": [
    "# filter out the retail theft by different races respectively\n",
    "df_tb=df_theft_black=df2[(df2['simplified_offense_derived'] == \"Retail Theft\") & (df2[\"is_black_derived\"])]\n",
    "df_tw=df_theft_white=df2[(df2['simplified_offense_derived'] == \"Retail Theft\") & (df2[\"is_white_derived\"])]\n",
    "\n",
    "#define a function that returns the result of the comparison, given the width\n",
    "def compare_change(width):\n",
    "    \n",
    "    prev_start=pd.to_datetime('2016-12-1')-pd.DateOffset(months=width)\n",
    "    post_end=pd.to_datetime('2016-12-1')+pd.DateOffset(months=width)\n",
    "    \n",
    "    mean_prev_black=df_tb[(df_tb['sentenceym_derived']<pd.to_datetime('2016-12-1')) & (df_tb['sentenceym_derived']>=prev_start)].apply(\"is_incarcerated\").mean()\n",
    "    mean_post_black=df_tb[(df_tb['sentenceym_derived']>pd.to_datetime('2016-12-1')) & (df_tb['sentenceym_derived']<=post_end)].apply(\"is_incarcerated\").mean()\n",
    "    mean_prev_white=df_tw[(df_tw['sentenceym_derived']<pd.to_datetime('2016-12-1')) & (df_tw['sentenceym_derived']>=prev_start)].apply(\"is_incarcerated\").mean()\n",
    "    mean_post_white=df_tw[(df_tw['sentenceym_derived']>pd.to_datetime('2016-12-1')) & (df_tw['sentenceym_derived']<=post_end)].apply(\"is_incarcerated\").mean()\n",
    "\n",
    "    comp_df = pd.DataFrame({\n",
    "        'Time Period':['Pre-change','Post-change'],\n",
    "        'Black Incarceration Rate': [mean_prev_black,mean_post_black],\n",
    "        'White Incarceration Rate': [mean_prev_white,mean_post_white],\n",
    "    })\n",
    "    return comp_df\n",
    "\n",
    "# two months bandswidth\n",
    "print('Result using a two months bandswidth')\n",
    "print(compare_change(2))\n",
    "\n",
    "# four months bandswidth\n",
    "print('Result using a four months bandswidth')\n",
    "print(compare_change(4))\n",
    "\n",
    "# eight months bandswidth\n",
    "print('Result using a eight months bandswidth')\n",
    "print(compare_change(8))\n",
    "\n",
    "# twelve months bandswidth\n",
    "print('Result using a twelve months bandswidth')\n",
    "print(compare_change(12))"
   ]
  },
  {
   "cell_type": "code",
   "execution_count": 56,
   "metadata": {},
   "outputs": [
    {
     "data": {
      "text/html": [
       "<div>\n",
       "<style scoped>\n",
       "    .dataframe tbody tr th:only-of-type {\n",
       "        vertical-align: middle;\n",
       "    }\n",
       "\n",
       "    .dataframe tbody tr th {\n",
       "        vertical-align: top;\n",
       "    }\n",
       "\n",
       "    .dataframe thead th {\n",
       "        text-align: right;\n",
       "    }\n",
       "</style>\n",
       "<table border=\"1\" class=\"dataframe\">\n",
       "  <thead>\n",
       "    <tr style=\"text-align: right;\">\n",
       "      <th></th>\n",
       "      <th>Bandwidth</th>\n",
       "      <th>Pre-Change Gap</th>\n",
       "      <th>Post-Change Gap</th>\n",
       "    </tr>\n",
       "  </thead>\n",
       "  <tbody>\n",
       "    <tr>\n",
       "      <th>0</th>\n",
       "      <td>2</td>\n",
       "      <td>0.087912</td>\n",
       "      <td>0.154949</td>\n",
       "    </tr>\n",
       "    <tr>\n",
       "      <th>1</th>\n",
       "      <td>4</td>\n",
       "      <td>0.081588</td>\n",
       "      <td>0.081615</td>\n",
       "    </tr>\n",
       "    <tr>\n",
       "      <th>2</th>\n",
       "      <td>8</td>\n",
       "      <td>0.132900</td>\n",
       "      <td>0.043450</td>\n",
       "    </tr>\n",
       "    <tr>\n",
       "      <th>3</th>\n",
       "      <td>12</td>\n",
       "      <td>0.161618</td>\n",
       "      <td>0.064705</td>\n",
       "    </tr>\n",
       "  </tbody>\n",
       "</table>\n",
       "</div>"
      ],
      "text/plain": [
       "   Bandwidth  Pre-Change Gap  Post-Change Gap\n",
       "0          2        0.087912         0.154949\n",
       "1          4        0.081588         0.081615\n",
       "2          8        0.132900         0.043450\n",
       "3         12        0.161618         0.064705"
      ]
     },
     "execution_count": 56,
     "metadata": {},
     "output_type": "execute_result"
    }
   ],
   "source": [
    "# Create a DataFrame to hold the result for visualization\n",
    "widths = [2, 4, 8, 12]\n",
    "\n",
    "pre_change = [compare_change(w)['Black Incarceration Rate'][0] - compare_change(w)['White Incarceration Rate'][0] for w in widths]\n",
    "post_change = [compare_change(w)['Black Incarceration Rate'][1] - compare_change(w)['White Incarceration Rate'][1] for w in widths]\n",
    "\n",
    "df_viz = pd.DataFrame({\n",
    "    'Bandwidth': widths,\n",
    "    'Pre-Change Gap': pre_change,\n",
    "    'Post-Change Gap': post_change\n",
    "})\n",
    "df_viz"
   ]
  },
  {
   "cell_type": "code",
   "execution_count": 57,
   "metadata": {},
   "outputs": [
    {
     "data": {
      "text/plain": [
       "<BarContainer object of 4 artists>"
      ]
     },
     "execution_count": 57,
     "metadata": {},
     "output_type": "execute_result"
    },
    {
     "data": {
      "text/plain": [
       "<BarContainer object of 4 artists>"
      ]
     },
     "execution_count": 57,
     "metadata": {},
     "output_type": "execute_result"
    },
    {
     "data": {
      "text/plain": [
       "([<matplotlib.axis.XTick at 0x2a26c79e0>,\n",
       "  <matplotlib.axis.XTick at 0x2a26c4a10>,\n",
       "  <matplotlib.axis.XTick at 0x2a26897f0>,\n",
       "  <matplotlib.axis.XTick at 0x2a2666240>],\n",
       " [Text(0, 0, '2'), Text(1, 0, '4'), Text(2, 0, '8'), Text(3, 0, '12')])"
      ]
     },
     "execution_count": 57,
     "metadata": {},
     "output_type": "execute_result"
    },
    {
     "data": {
      "text/plain": [
       "Text(0.5, 0, 'Bandwidth (Months)')"
      ]
     },
     "execution_count": 57,
     "metadata": {},
     "output_type": "execute_result"
    },
    {
     "data": {
      "text/plain": [
       "Text(0, 0.5, 'Black-White Incarceration Rate Gap')"
      ]
     },
     "execution_count": 57,
     "metadata": {},
     "output_type": "execute_result"
    },
    {
     "data": {
      "text/plain": [
       "Text(0.5, 1.0, 'Black-White Incarceration Rate Gap Before and After Retail Theft Threshold Change')"
      ]
     },
     "execution_count": 57,
     "metadata": {},
     "output_type": "execute_result"
    },
    {
     "data": {
      "text/plain": [
       "<matplotlib.legend.Legend at 0x287fe8830>"
      ]
     },
     "execution_count": 57,
     "metadata": {},
     "output_type": "execute_result"
    },
    {
     "data": {
      "image/png": "[encoded data removed]",
      "text/plain": [
       "<Figure size 640x480 with 1 Axes>"
      ]
     },
     "metadata": {},
     "output_type": "display_data"
    }
   ],
   "source": [
    "# Visualization\n",
    "plt.bar(df_viz.index - 0.2, df_viz['Pre-Change Gap'], width=0.4, label='Pre-Change', color='navy')\n",
    "plt.bar(df_viz.index + 0.2, df_viz['Post-Change Gap'], width=0.4, label='Post-Change', color='coral')\n",
    "\n",
    "plt.xticks(df_viz.index, df_viz['Bandwidth'])\n",
    "\n",
    "plt.xlabel('Bandwidth (Months)')\n",
    "plt.ylabel('Black-White Incarceration Rate Gap')\n",
    "plt.title('Black-White Incarceration Rate Gap Before and After Retail Theft Threshold Change')\n",
    "\n",
    "plt.legend()\n",
    "\n",
    "plt.show()"
   ]
  },
  {
   "cell_type": "markdown",
   "metadata": {},
   "source": [
    "### 2.3.3.1: Interpret the results (2 points)\n",
    "\n",
    "Write a two-sentence interpretation of the results. What might this show about how people on both sides of the issue---those who argued that the retail theft policy change would narrow disparities; those who argued that the change may widen disparities--could support their claims? "
   ]
  },
  {
   "cell_type": "markdown",
   "metadata": {},
   "source": [
    "Those who argue that the policy change widened the disparities in the Black-White defendant incarceration rate may focus on the 2-month bandwidth and argue that the post-change incarceration gap is greater than the pre-change gap in the 2-month period after the change. Those arguing the policy narrowed disparities can highlight the longer-term trends, showing that in the 8-month and 12-month bandwidths, the post-change incarceration gap becomes smaller than the pre-change gap."
   ]
  }
 ],
 "metadata": {
  "kernelspec": {
   "display_name": "Python 3 (ipykernel)",
   "language": "python",
   "name": "python3"
  },
  "language_info": {
   "codemirror_mode": {
    "name": "ipython",
    "version": 3
   },
   "file_extension": ".py",
   "mimetype": "text/x-python",
   "name": "python",
   "nbconvert_exporter": "python",
   "pygments_lexer": "ipython3",
   "version": "3.12.4"
  }
 },
 "nbformat": 4,
 "nbformat_minor": 4
}
